{
 "cells": [
  {
   "cell_type": "markdown",
   "metadata": {},
   "source": [
    "## Importing Libraries"
   ]
  },
  {
   "cell_type": "code",
   "execution_count": 1,
   "metadata": {},
   "outputs": [],
   "source": [
    "import pandas as pd\n",
    "import numpy as np\n",
    "from matplotlib import pyplot as plt\n",
    "from datetime import datetime\n",
    "import mysql.connector\n",
    "from tqdm import tqdm\n"
   ]
  },
  {
   "cell_type": "code",
   "execution_count": 2,
   "metadata": {},
   "outputs": [
    {
     "name": "stdout",
     "output_type": "stream",
     "text": [
      "74.240.191.221 - - [25/Jun/2024:00:06:22 +0000] \"DELETE /index.html?product_id=585&user_id=218 HTTP/1.1\" 200 1974\n",
      "15.89.35.67 - - [24/Jun/2024:04:43:22 +0000] \"PUT /index.html?session_id=def456&session_id=mno345&user_id=709 HTTP/1.1\" 301 4349\n",
      "158.20.204.46 - - [21/Jun/2024:14:54:22 +0000] \"GET /contact.html?session_id=def456 HTTP/1.1\" 200 4060\n",
      "158.20.204.46 - - [21/Jun/2024:14:54:22 +0000] \"GET /contact.html?session_id=def456 HTTP/1.1\" 200 4060\n",
      "238.189.173.32 - - [21/Jun/2024:21:33:22 +0000] \"GET /signup?session_id=abc123&session_id=ghi789 HTTP/1.1\" 500 2661\n",
      "190.111.164.7 - - [26/Jun/2024:09:03:22 +0000] \"GET /products.html?session_id=mno345&user_id=483 HTTP/1.1\" 302 629\n",
      "196.224.137.79 - - [22/Jun/2024:09:44:22 +0000] \"POST /login?session_id=ghi789 HTTP/1.1\" 200 2661\n",
      "248.187.87.40 - - [21/Jun/2024:16:46:22 +0000] \"DELETE /signup?session_id=ghi789 HTTP/1.1\" 200 734\n",
      "158.20.204.46 - - [24/Jun/2024:06:15:22 +0000] \"DELETE /products.html?session_id=mno345&product_id=16 HTTP/1.1\" 302 3432\n",
      "158.20.204.46 - - [24/Jun/2024:06:15:22 +0000] \"DELETE /products.html?session_id=mno345&product_id=16 HTTP/1.1\" 302 3432\n",
      "46.189.5.214 - - [20/Jun/2024:12:51:22 +0000] \"PUT /signup?category=electronics&category=home&user_id=727 HTTP/1.1\" 302 2831\n",
      "15.189.100.115 - - [26/Jun/2024:14:46:22 +0000] \"PUT /index.html?product_id=322&session_id=jkl012&session_id=def456 HTTP/1.1\" 301 2831\n",
      "160.229.223.17 - - [20/Jun/2024:19:01:22 +0000] \"POST /signup?session_id=def456 HTTP/1.1\" 200 1635\n",
      "147.77.212.177 - - [23/Jun/2024:14:28:22 +0000] \"GET /index.html?product_id=50&session_id=mno345&session_id=jkl012 HTTP/1.1\" 200 3981\n",
      "62.82.168.113 - - [25/Jun/2024:04:05:22 +0000] \"GET /faq.html?user_id=963&user_id=701&category=fashion HTTP/1.1\" 301 2053\n",
      "149.43.222.103 - - [21/Jun/2024:01:37:22 +0000] \"DELETE /products.html?user_id=554&category=electronics&user_id=900 HTTP/1.1\" 301 3508\n",
      "226.49.186.58 - - [20/Jun/2024:23:08:22 +0000] \"PUT /login?user_id=964&session_id=abc123 HTTP/1.1\" 404 3254\n",
      "147.77.212.177 - - [26/Jun/2024:03:36:22 +0000] \"GET /contact.html?product_id=566&user_id=900 HTTP/1.1\" 301 3508\n",
      "167.53.66.101 - - [24/Jun/2024:05:05:22 +0000] \"GET /login?session_id=ghi789&user_id=806&session_id=ghi789 HTTP/1.1\" 200 3414\n",
      "141.199.38.146 - - [20/Jun/2024:15:07:22 +0000] \"POST /faq.html?product_id=693 HTTP/1.1\" 500 1974\n",
      "134.207.168.109 - - [20/Jun/2024:12:18:22 +0000] \"PUT /signup?category=home HTTP/1.1\" 200 1500\n",
      "134.207.168.109 - - [20/Jun/2024:12:18:22 +0000] \"PUT /signup?category=home HTTP/1.1\" 200 1500\n",
      "55.192.232.116 - - [23/Jun/2024:05:31:22 +0000] \"DELETE /index.html?user_id=690&category=fashion HTTP/1.1\" 500 2287\n",
      "57.179.44.69 - - [19/Jun/2024:23:09:22 +0000] \"GET /products.html?session_id=ghi789&product_id=783&user_id=239 HTTP/1.1\" 500 4292\n",
      "57.179.44.69 - - [19/Jun/2024:23:09:22 +0000] \"GET /products.html?session_id=ghi789&product_id=783&user_id=239 HTTP/1.1\" 500 4292\n",
      "86.144.221.240 - - [25/Jun/2024:19:18:22 +0000] \"POST /contact.html?category=toys&category=fashion&category=home HTTP/1.1\" 404 3854\n",
      "89.222.139.151 - - [22/Jun/2024:00:26:22 +0000] \"DELETE /about.html?product_id=731&session_id=def456 HTTP/1.1\" 301 -\n",
      "127.132.184.75 - - [22/Jun/2024:21:17:22 +0000] \"DELETE /login?user_id=465&product_id=648 HTTP/1.1\" 302 404\n",
      "127.132.184.75 - - [22/Jun/2024:21:17:22 +0000] \"DELETE /login?user_id=465&product_id=648 HTTP/1.1\" 302 404\n",
      "244.113.20.63 - - [24/Jun/2024:02:50:22 +0000] \"GET /services.html?category=home&user_id=706 HTTP/1.1\" 404 4228\n",
      "240.57.228.32 - - [23/Jun/2024:02:52:22 +0000] \"POST /signup?category=home&user_id=793 HTTP/1.1\" 200 2810\n",
      "190.111.164.7 - - [23/Jun/2024:02:10:22 +0000] \"POST /index.html?session_id=ghi789&product_id=711&user_id=368 HTTP/1.1\" 301 322\n",
      "13.224.24.185 - - [25/Jun/2024:16:18:22 +0000] \"GET /login?category=toys&session_id=mno345&product_id=23 HTTP/1.1\" 301 -\n",
      "127.132.184.75 - - [24/Jun/2024:23:25:22 +0000] \"DELETE /signup?product_id=972&user_id=314 HTTP/1.1\" 301 2444\n",
      "153.6.128.136 - - [21/Jun/2024:13:17:22 +0000] \"GET /products.html?product_id=89 HTTP/1.1\" 200 2287\n",
      "86.144.221.240 - - [22/Jun/2024:01:28:22 +0000] \"POST /faq.html?product_id=750&product_id=647&session_id=ghi789 HTTP/1.1\" 404 2572\n",
      "95.191.225.234 - - [23/Jun/2024:10:38:22 +0000] \"DELETE /about.html?category=fashion&user_id=809 HTTP/1.1\" 302 3981\n",
      "196.224.137.79 - - [25/Jun/2024:19:20:22 +0000] \"GET /index.html?session_id=abc123 HTTP/1.1\" 301 1974\n",
      "127.132.184.75 - - [22/Jun/2024:12:22:22 +0000] \"POST /index.html?product_id=822&category=toys&category=fashion HTTP/1.1\" 200 4732\n",
      "95.191.225.234 - - [21/Jun/2024:01:31:22 +0000] \"PUT /login?product_id=644 HTTP/1.1\" 200 2810\n",
      "55.192.232.116 - - [24/Jun/2024:03:42:22 +0000] \"GET /about.html?category=books&session_id=jkl012 HTTP/1.1\" 500 404\n",
      "160.229.223.17 - - [23/Jun/2024:03:07:22 +0000] \"POST /services.html?product_id=645 HTTP/1.1\" 301 2810\n",
      "158.20.204.46 - - [23/Jun/2024:04:56:22 +0000] \"POST /contact.html?user_id=1&category=toys HTTP/1.1\" 404 279\n",
      "86.238.237.49 - - [20/Jun/2024:19:11:22 +0000] \"POST /login?user_id=786&session_id=abc123 HTTP/1.1\" 302 3508\n",
      "158.20.204.46 - - [24/Jun/2024:01:54:22 +0000] \"PUT /index.html?product_id=576 HTTP/1.1\" 301 3515\n",
      "158.20.204.46 - - [24/Jun/2024:01:54:22 +0000] \"PUT /index.html?product_id=576 HTTP/1.1\" 301 3515\n",
      "226.49.186.58 - - [20/Jun/2024:21:15:22 +0000] \"PUT /login?category=books&category=fashion HTTP/1.1\" 404 4267\n",
      "248.187.87.40 - - [22/Jun/2024:21:11:22 +0000] \"GET /signup?product_id=605 HTTP/1.1\" 404 404\n",
      "20.15.123.111 - - [25/Jun/2024:22:16:22 +0000] \"DELETE /contact.html?product_id=347 HTTP/1.1\" 302 629\n",
      "35.239.32.150 - - [24/Jun/2024:03:22:22 +0000] \"POST /contact.html?category=books&category=home&product_id=651 HTTP/1.1\" 200 734\n",
      "89.222.139.151 - - [24/Jun/2024:23:23:22 +0000] \"DELETE /services.html?session_id=mno345 HTTP/1.1\" 500 1725\n",
      "15.89.35.67 - - [20/Jun/2024:11:26:22 +0000] \"PUT /signup?product_id=639&product_id=52 HTTP/1.1\" 302 -\n",
      "86.238.237.49 - - [20/Jun/2024:02:02:22 +0000] \"GET /faq.html?session_id=mno345&category=home HTTP/1.1\" 200 847\n",
      "55.192.232.116 - - [25/Jun/2024:02:12:22 +0000] \"GET /signup?category=books&product_id=964&product_id=290 HTTP/1.1\" 404 629\n",
      "190.111.164.7 - - [21/Jun/2024:04:06:22 +0000] \"PUT /services.html?user_id=296&session_id=mno345 HTTP/1.1\" 302 2971\n",
      "86.238.237.49 - - [25/Jun/2024:20:22:22 +0000] \"POST /services.html?user_id=317&category=electronics HTTP/1.1\" 200 1635\n",
      "15.189.100.115 - - [24/Jun/2024:18:38:22 +0000] \"GET /signup?user_id=176&user_id=364&session_id=mno345 HTTP/1.1\" 404 847\n",
      "190.111.164.7 - - [22/Jun/2024:01:14:22 +0000] \"PUT /about.html?product_id=286&category=books&product_id=235 HTTP/1.1\" 200 3981\n",
      "93.228.77.196 - - [25/Jun/2024:08:09:22 +0000] \"PUT /services.html?product_id=728&category=electronics HTTP/1.1\" 200 2971\n",
      "196.224.137.79 - - [20/Jun/2024:23:25:22 +0000] \"DELETE /faq.html?user_id=663&product_id=320&user_id=138 HTTP/1.1\" 200 322\n",
      "13.224.24.185 - - [25/Jun/2024:07:43:22 +0000] \"DELETE /contact.html?product_id=91 HTTP/1.1\" 301 2120\n",
      "75.108.179.75 - - [20/Jun/2024:17:35:22 +0000] \"PUT /about.html?session_id=jkl012&session_id=ghi789 HTTP/1.1\" 200 279\n",
      "75.108.179.75 - - [20/Jun/2024:17:35:22 +0000] \"PUT /about.html?session_id=jkl012&session_id=ghi789 HTTP/1.1\" 200 279\n",
      "224.15.134.151 - - [23/Jun/2024:02:35:22 +0000] \"GET /contact.html?user_id=833 HTTP/1.1\" 404 2320\n",
      "190.111.164.7 - - [20/Jun/2024:19:21:22 +0000] \"GET /about.html?category=fashion HTTP/1.1\" 200 2120\n",
      "127.132.184.75 - - [22/Jun/2024:04:48:22 +0000] \"GET /login?product_id=696 HTTP/1.1\" 302 141\n",
      "238.189.173.32 - - [21/Jun/2024:17:07:22 +0000] \"DELETE /products.html?category=fashion HTTP/1.1\" 500 3508\n",
      "15.89.35.67 - - [25/Jun/2024:05:22:22 +0000] \"DELETE /services.html?product_id=784&category=books HTTP/1.1\" 404 4228\n",
      "134.207.168.109 - - [22/Jun/2024:20:13:22 +0000] \"POST /index.html?product_id=212 HTTP/1.1\" 200 3217\n",
      "72.81.114.166 - - [20/Jun/2024:23:14:22 +0000] \"PUT /products.html?session_id=jkl012&product_id=96 HTTP/1.1\" 500 3508\n",
      "186.137.74.198 - - [20/Jun/2024:00:54:22 +0000] \"PUT /services.html?user_id=130&user_id=436&category=electronics HTTP/1.1\" 200 2963\n",
      "186.137.74.198 - - [20/Jun/2024:00:54:22 +0000] \"PUT /services.html?user_id=130&user_id=436&category=electronics HTTP/1.1\" 200 2963\n",
      "74.240.191.221 - - [20/Jun/2024:00:12:22 +0000] \"GET /signup?session_id=def456&product_id=76 HTTP/1.1\" 301 -\n",
      "141.199.38.146 - - [25/Jun/2024:05:11:22 +0000] \"DELETE /contact.html?category=electronics&product_id=232&session_id=ghi789 HTTP/1.1\" 302 2810\n",
      "129.173.76.59 - - [21/Jun/2024:22:07:22 +0000] \"GET /about.html?product_id=346&user_id=219&product_id=813 HTTP/1.1\" 404 1110\n",
      "244.113.20.63 - - [25/Jun/2024:21:39:22 +0000] \"POST /contact.html?category=electronics&category=fashion&user_id=90 HTTP/1.1\" 404 141\n",
      "129.173.76.59 - - [21/Jun/2024:04:30:22 +0000] \"PUT /about.html?user_id=130 HTTP/1.1\" 301 1974\n",
      "240.57.228.32 - - [26/Jun/2024:08:23:22 +0000] \"POST /about.html?category=books&user_id=177 HTTP/1.1\" 200 279\n",
      "13.224.24.185 - - [22/Jun/2024:20:49:22 +0000] \"GET /services.html?session_id=jkl012&user_id=370 HTTP/1.1\" 500 354\n",
      "160.229.223.17 - - [26/Jun/2024:06:03:22 +0000] \"PUT /contact.html?product_id=98 HTTP/1.1\" 404 4228\n",
      "15.189.100.115 - - [26/Jun/2024:05:25:22 +0000] \"PUT /about.html?session_id=ghi789&user_id=317&category=fashion HTTP/1.1\" 404 -\n",
      "167.53.66.101 - - [24/Jun/2024:12:54:22 +0000] \"POST /login?session_id=abc123 HTTP/1.1\" 200 302\n",
      "63.113.225.225 - - [20/Jun/2024:20:04:22 +0000] \"POST /login?product_id=617&user_id=985&product_id=468 HTTP/1.1\" 302 1725\n",
      "NULL - - [24/Jun/2024:11:45:22 +0000] \"POST /index.html?session_id=abc123&category=fashion HTTP/1.1\" 404 -\n",
      "151.80.55.55 - - [23/Jun/2024:03:57:22 +0000] \"DELETE /contact.html?product_id=174&session_id=ghi789&session_id=abc123 HTTP/1.1\" 302 1635\n",
      "20.15.123.111 - - [23/Jun/2024:02:47:22 +0000] \"POST /index.html?product_id=871&category=fashion HTTP/1.1\" 200 322\n",
      "244.113.20.63 - - [26/Jun/2024:15:56:22 +0000] \"DELETE /contact.html?session_id=ghi789&category=fashion&category=toys HTTP/1.1\" 500 4060\n",
      "75.108.179.75 - - [24/Jun/2024:03:52:22 +0000] \"DELETE /login?category=fashion&category=home&user_id=775 HTTP/1.1\" 200 2831\n",
      "86.144.221.240 - - [25/Jun/2024:22:46:22 +0000] \"DELETE /faq.html?user_id=282 HTTP/1.1\" 301 2444\n",
      "134.207.168.109 - - [23/Jun/2024:22:17:22 +0000] \"GET /about.html?session_id=abc123&session_id=mno345 HTTP/1.1\" 301 -\n",
      "72.81.114.166 - - [25/Jun/2024:02:23:22 +0000] \"GET /services.html?product_id=503&user_id=897 HTTP/1.1\" 301 302\n",
      "NULL - - [24/Jun/2024:03:43:22 +0000] \"POST /login?category=fashion HTTP/1.1\" 200 1988\n",
      "72.99.191.184 - - [23/Jun/2024:09:07:22 +0000] \"DELETE /contact.html?category=toys HTTP/1.1\" 500 4732\n",
      "167.53.66.101 - - [22/Jun/2024:21:12:22 +0000] \"DELETE /products.html?user_id=240&product_id=723 HTTP/1.1\" 200 1974\n",
      "93.228.77.196 - - [25/Jun/2024:10:40:22 +0000] \"PUT /login?category=electronics&category=toys&category=fashion HTTP/1.1\" 500 141\n",
      "72.81.114.166 - - [24/Jun/2024:07:08:22 +0000] \"GET /products.html?product_id=233 HTTP/1.1\" 500 2120\n",
      "72.81.114.166 - - [24/Jun/2024:07:08:22 +0000] \"GET /products.html?product_id=233 HTTP/1.1\" 500 2120\n",
      "186.137.74.198 - - [20/Jun/2024:20:37:22 +0000] \"POST /products.html?user_id=826&user_id=708&category=books HTTP/1.1\" 301 4060\n",
      "226.49.186.58 - - [22/Jun/2024:18:49:22 +0000] \"POST /faq.html?product_id=611&product_id=836 HTTP/1.1\" 500 302\n",
      "226.49.186.58 - - [22/Jun/2024:18:49:22 +0000] \"POST /faq.html?product_id=611&product_id=836 HTTP/1.1\" 500 302\n",
      "153.1.47.251 - - [25/Jun/2024:03:03:22 +0000] \"DELETE /products.html?user_id=307&product_id=118&session_id=abc123 HTTP/1.1\" 301 2598\n",
      "153.1.47.251 - - [25/Jun/2024:03:03:22 +0000] \"DELETE /products.html?user_id=307&product_id=118&session_id=abc123 HTTP/1.1\" 301 2598\n",
      "49.90.99.244 - - [22/Jun/2024:04:44:22 +0000] \"DELETE /login?category=home&session_id=abc123 HTTP/1.1\" 500 4918\n",
      "248.187.87.40 - - [23/Jun/2024:01:23:22 +0000] \"POST /login?category=fashion&session_id=abc123&session_id=abc123 HTTP/1.1\" 500 3144\n",
      "141.199.38.146 - - [20/Jun/2024:15:25:22 +0000] \"GET /services.html?user_id=517&category=electronics HTTP/1.1\" 301 4292\n",
      "127.132.184.75 - - [23/Jun/2024:13:54:22 +0000] \"GET /products.html?category=fashion&category=toys HTTP/1.1\" 302 2971\n",
      "127.132.184.75 - - [23/Jun/2024:13:54:22 +0000] \"GET /products.html?category=fashion&category=toys HTTP/1.1\" 302 2971\n",
      "238.189.173.32 - - [24/Jun/2024:10:12:22 +0000] \"GET /login?user_id=258 HTTP/1.1\" 200 4349\n",
      "62.82.168.113 - - [22/Jun/2024:02:42:22 +0000] \"GET /signup?product_id=869 HTTP/1.1\" 500 4228\n",
      "35.239.32.150 - - [22/Jun/2024:14:29:22 +0000] \"POST /index.html?category=home HTTP/1.1\" 500 2971\n",
      "196.224.137.79 - - [20/Jun/2024:14:25:22 +0000] \"PUT /about.html?user_id=185&session_id=jkl012&category=fashion HTTP/1.1\" 301 2963\n",
      "255.181.37.177 - - [22/Jun/2024:07:59:22 +0000] \"POST /services.html?product_id=575&user_id=468 HTTP/1.1\" 404 629\n",
      "127.132.184.75 - - [21/Jun/2024:12:40:22 +0000] \"GET /faq.html?category=fashion&product_id=583&product_id=870 HTTP/1.1\" 302 3508\n",
      "35.239.32.150 - - [26/Jun/2024:01:08:22 +0000] \"PUT /services.html?category=home&session_id=abc123 HTTP/1.1\" 302 1725\n",
      "160.229.223.17 - - [25/Jun/2024:03:59:22 +0000] \"GET /contact.html?user_id=186 HTTP/1.1\" 200 596\n",
      "160.229.223.17 - - [25/Jun/2024:03:59:22 +0000] \"GET /contact.html?user_id=186 HTTP/1.1\" 200 596\n",
      "89.222.139.151 - - [26/Jun/2024:15:53:22 +0000] \"GET /products.html?user_id=426 HTTP/1.1\" 404 2831\n",
      "250.58.233.174 - - [24/Jun/2024:02:17:22 +0000] \"GET /products.html?session_id=abc123&session_id=ghi789&user_id=21 HTTP/1.1\" 500 2572\n",
      "137.135.249.182 - - [20/Jun/2024:10:35:22 +0000] \"PUT /signup?product_id=989 HTTP/1.1\" 302 708\n",
      "93.228.77.196 - - [24/Jun/2024:20:53:22 +0000] \"DELETE /index.html?category=home&category=fashion&product_id=610 HTTP/1.1\" 404 2120\n",
      "190.111.164.7 - - [20/Jun/2024:22:56:22 +0000] \"PUT /services.html?product_id=360&user_id=695 HTTP/1.1\" 500 708\n",
      "57.179.44.69 - - [25/Jun/2024:07:47:22 +0000] \"GET /products.html?user_id=853&session_id=jkl012&category=fashion HTTP/1.1\" 302 2287\n",
      "90.154.68.175 - - [22/Jun/2024:23:24:22 +0000] \"DELETE /services.html?user_id=538&session_id=ghi789 HTTP/1.1\" 302 2661\n",
      "147.77.212.177 - - [26/Jun/2024:02:38:22 +0000] \"POST /services.html?session_id=ghi789&product_id=724 HTTP/1.1\" 500 -\n",
      "77.25.133.33 - - [23/Jun/2024:05:40:22 +0000] \"POST /index.html?session_id=mno345&product_id=273&user_id=11 HTTP/1.1\" 500 1110\n",
      "250.58.233.174 - - [22/Jun/2024:18:34:22 +0000] \"GET /faq.html?category=electronics&product_id=632 HTTP/1.1\" 302 4292\n",
      "93.228.77.196 - - [22/Jun/2024:00:27:22 +0000] \"GET /login?session_id=jkl012&user_id=366 HTTP/1.1\" 200 734\n",
      "153.6.128.136 - - [22/Jun/2024:18:14:22 +0000] \"PUT /signup?session_id=jkl012&product_id=662 HTTP/1.1\" 404 382\n",
      "196.224.137.79 - - [26/Jun/2024:12:43:22 +0000] \"PUT /login?user_id=355&product_id=404 HTTP/1.1\" 302 3378\n",
      "153.1.47.251 - - [25/Jun/2024:19:29:22 +0000] \"DELETE /contact.html?session_id=ghi789&product_id=348 HTTP/1.1\" 200 279\n",
      "86.144.221.240 - - [24/Jun/2024:01:31:22 +0000] \"GET /products.html?user_id=50&product_id=697&user_id=958 HTTP/1.1\" 302 279\n",
      "134.207.168.109 - - [23/Jun/2024:11:22:22 +0000] \"GET /index.html?user_id=642&product_id=134&user_id=932 HTTP/1.1\" 500 2444\n",
      "8.249.233.220 - - [24/Jun/2024:18:41:22 +0000] \"DELETE /services.html?category=books HTTP/1.1\" 301 1988\n",
      "8.249.233.220 - - [24/Jun/2024:18:41:22 +0000] \"DELETE /services.html?category=books HTTP/1.1\" 301 1988\n",
      "160.229.223.17 - - [25/Jun/2024:03:26:22 +0000] \"DELETE /login?user_id=945 HTTP/1.1\" 500 734\n",
      "219.108.96.228 - - [25/Jun/2024:20:16:22 +0000] \"GET /contact.html?user_id=757 HTTP/1.1\" 301 3405\n",
      "89.222.139.151 - - [26/Jun/2024:12:12:22 +0000] \"PUT /about.html?session_id=jkl012&user_id=431 HTTP/1.1\" 200 3515\n",
      "35.239.32.150 - - [26/Jun/2024:02:43:22 +0000] \"DELETE /products.html?session_id=jkl012&product_id=104 HTTP/1.1\" 200 2572\n",
      "62.82.168.113 - - [25/Jun/2024:23:06:22 +0000] \"DELETE /contact.html?category=fashion&product_id=741 HTTP/1.1\" 404 1635\n",
      "77.25.133.33 - - [22/Jun/2024:22:08:22 +0000] \"POST /about.html?product_id=408 HTTP/1.1\" 301 3144\n",
      "137.135.249.182 - - [21/Jun/2024:21:02:22 +0000] \"POST /contact.html?category=electronics&session_id=jkl012 HTTP/1.1\" 302 3414\n",
      "137.135.249.182 - - [21/Jun/2024:21:02:22 +0000] \"POST /contact.html?category=electronics&session_id=jkl012 HTTP/1.1\" 302 3414\n",
      "158.20.204.46 - - [25/Jun/2024:11:38:22 +0000] \"POST /products.html?category=home&user_id=695&user_id=337 HTTP/1.1\" 200 1500\n",
      "49.90.99.244 - - [23/Jun/2024:06:20:22 +0000] \"DELETE /products.html?user_id=287&category=toys HTTP/1.1\" 302 3515\n",
      "147.77.212.177 - - [21/Jun/2024:09:57:22 +0000] \"DELETE /products.html?user_id=799&session_id=ghi789 HTTP/1.1\" 404 2963\n",
      "160.229.223.17 - - [21/Jun/2024:04:34:22 +0000] \"DELETE /services.html?product_id=729&session_id=def456 HTTP/1.1\" 500 3414\n",
      "72.99.191.184 - - [22/Jun/2024:15:51:22 +0000] \"PUT /signup?session_id=def456 HTTP/1.1\" 200 2963\n",
      "127.132.184.75 - - [19/Jun/2024:21:27:22 +0000] \"DELETE /products.html?session_id=ghi789 HTTP/1.1\" 500 2053\n",
      "250.58.233.174 - - [19/Jun/2024:18:59:22 +0000] \"GET /contact.html?category=books&category=electronics&product_id=137 HTTP/1.1\" 302 4049\n",
      "35.239.32.150 - - [20/Jun/2024:13:58:22 +0000] \"DELETE /login?session_id=ghi789 HTTP/1.1\" 302 2963\n",
      "240.57.228.32 - - [23/Jun/2024:20:14:22 +0000] \"DELETE /index.html?user_id=365&product_id=122&product_id=458 HTTP/1.1\" 200 596\n",
      "255.181.37.177 - - [26/Jun/2024:01:29:22 +0000] \"PUT /login?user_id=995 HTTP/1.1\" 500 1635\n",
      "13.224.24.185 - - [24/Jun/2024:09:21:22 +0000] \"POST /contact.html?product_id=182 HTTP/1.1\" 301 1110\n",
      "72.81.114.166 - - [21/Jun/2024:13:30:22 +0000] \"PUT /index.html?product_id=690&user_id=80&session_id=abc123 HTTP/1.1\" 500 2572\n",
      "20.15.123.111 - - [22/Jun/2024:04:54:22 +0000] \"DELETE /products.html?user_id=11 HTTP/1.1\" 301 3508\n",
      "240.57.228.32 - - [24/Jun/2024:02:38:22 +0000] \"PUT /login?product_id=808&session_id=abc123 HTTP/1.1\" 301 3144\n",
      "62.82.168.113 - - [26/Jun/2024:07:19:22 +0000] \"DELETE /products.html?user_id=163 HTTP/1.1\" 301 -\n",
      "160.229.223.17 - - [22/Jun/2024:05:50:22 +0000] \"PUT /index.html?session_id=mno345 HTTP/1.1\" 302 1635\n",
      "NULL - - [24/Jun/2024:08:29:22 +0000] \"POST /services.html?product_id=661&session_id=def456&user_id=682 HTTP/1.1\" 404 629\n",
      "224.15.134.151 - - [21/Jun/2024:00:21:22 +0000] \"POST /faq.html?user_id=319&product_id=591&product_id=855 HTTP/1.1\" 200 1500\n",
      "224.15.134.151 - - [21/Jun/2024:00:21:22 +0000] \"POST /faq.html?user_id=319&product_id=591&product_id=855 HTTP/1.1\" 200 1500\n",
      "95.191.225.234 - - [26/Jun/2024:05:55:22 +0000] \"GET /products.html?session_id=def456 HTTP/1.1\" 301 3144\n",
      "35.239.32.150 - - [21/Jun/2024:09:18:22 +0000] \"PUT /index.html?session_id=ghi789&user_id=685 HTTP/1.1\" 200 3854\n",
      "72.99.191.184 - - [25/Jun/2024:05:46:22 +0000] \"POST /products.html?user_id=482&session_id=ghi789&product_id=340 HTTP/1.1\" 302 2598\n",
      "196.224.137.79 - - [26/Jun/2024:06:55:22 +0000] \"GET /about.html?product_id=48&user_id=21 HTTP/1.1\" 302 596\n",
      "224.15.134.151 - - [25/Jun/2024:12:32:22 +0000] \"POST /login?session_id=ghi789&session_id=abc123&session_id=jkl012 HTTP/1.1\" 404 -\n",
      "141.199.38.146 - - [25/Jun/2024:13:27:22 +0000] \"PUT /faq.html?session_id=ghi789 HTTP/1.1\" 301 2287\n",
      "240.57.228.32 - - [22/Jun/2024:22:36:22 +0000] \"POST /signup?category=electronics HTTP/1.1\" 302 279\n",
      "240.57.228.32 - - [22/Jun/2024:22:36:22 +0000] \"POST /signup?category=electronics HTTP/1.1\" 302 279\n",
      "167.53.66.101 - - [22/Jun/2024:08:13:22 +0000] \"PUT /faq.html?product_id=525&user_id=686 HTTP/1.1\" 301 382\n",
      "15.89.35.67 - - [25/Jun/2024:05:40:22 +0000] \"POST /contact.html?category=home&session_id=mno345&product_id=792 HTTP/1.1\" 200 2053\n",
      "248.187.87.40 - - [24/Jun/2024:13:16:22 +0000] \"GET /faq.html?product_id=689 HTTP/1.1\" 500 2963\n",
      "248.187.87.40 - - [24/Jun/2024:13:16:22 +0000] \"GET /faq.html?product_id=689 HTTP/1.1\" 500 2963\n",
      "129.173.76.59 - - [21/Jun/2024:09:01:22 +0000] \"GET /faq.html?session_id=abc123&session_id=def456 HTTP/1.1\" 301 354\n",
      "149.43.222.103 - - [26/Jun/2024:10:32:22 +0000] \"PUT /about.html?product_id=659&category=home HTTP/1.1\" 404 2661\n",
      "153.6.128.136 - - [24/Jun/2024:20:29:22 +0000] \"POST /index.html?user_id=48&user_id=555&product_id=482 HTTP/1.1\" 500 3414\n",
      "151.80.55.55 - - [25/Jun/2024:02:44:22 +0000] \"DELETE /about.html?category=home HTTP/1.1\" 302 2661\n",
      "129.173.76.59 - - [25/Jun/2024:13:52:22 +0000] \"DELETE /contact.html?category=fashion&session_id=abc123 HTTP/1.1\" 302 596\n",
      "129.173.76.59 - - [25/Jun/2024:13:52:22 +0000] \"DELETE /contact.html?category=fashion&session_id=abc123 HTTP/1.1\" 302 596\n",
      "147.77.212.177 - - [22/Jun/2024:18:40:22 +0000] \"PUT /products.html?product_id=266&product_id=550&user_id=994 HTTP/1.1\" 301 2444\n",
      "141.199.38.146 - - [21/Jun/2024:06:32:22 +0000] \"GET /login?session_id=ghi789&category=electronics&session_id=mno345 HTTP/1.1\" 500 1988\n",
      "49.90.99.244 - - [25/Jun/2024:09:03:22 +0000] \"PUT /contact.html?category=electronics HTTP/1.1\" 200 1500\n",
      "46.189.5.214 - - [22/Jun/2024:20:01:22 +0000] \"POST /signup?product_id=534&category=books HTTP/1.1\" 200 3405\n",
      "134.207.168.109 - - [21/Jun/2024:17:48:22 +0000] \"DELETE /index.html?product_id=629&session_id=abc123&user_id=399 HTTP/1.1\" 302 708\n",
      "63.113.225.225 - - [23/Jun/2024:13:02:22 +0000] \"PUT /about.html?user_id=609 HTTP/1.1\" 404 2053\n",
      "93.228.77.196 - - [24/Jun/2024:19:46:22 +0000] \"PUT /faq.html?product_id=156&user_id=326 HTTP/1.1\" 301 4732\n",
      "226.49.186.58 - - [21/Jun/2024:12:23:22 +0000] \"POST /index.html?product_id=821&user_id=422&session_id=def456 HTTP/1.1\" 301 2598\n",
      "8.249.233.220 - - [20/Jun/2024:10:45:22 +0000] \"PUT /contact.html?product_id=288&category=home&session_id=abc123 HTTP/1.1\" 302 322\n",
      "15.89.35.67 - - [21/Jun/2024:08:25:22 +0000] \"POST /services.html?user_id=570&category=toys&user_id=603 HTTP/1.1\" 500 3508\n",
      "63.113.225.225 - - [21/Jun/2024:05:04:22 +0000] \"GET /faq.html?product_id=948 HTTP/1.1\" 200 2053\n",
      "226.49.186.58 - - [23/Jun/2024:13:52:22 +0000] \"GET /login?session_id=ghi789 HTTP/1.1\" 200 -\n",
      "127.132.184.75 - - [19/Jun/2024:18:48:22 +0000] \"GET /login?product_id=67&session_id=jkl012&user_id=374 HTTP/1.1\" 404 382\n",
      "101.137.132.71 - - [25/Jun/2024:05:28:22 +0000] \"PUT /index.html?category=books HTTP/1.1\" 404 2287\n",
      "153.1.47.251 - - [20/Jun/2024:12:20:22 +0000] \"DELETE /about.html?user_id=39 HTTP/1.1\" 302 -\n",
      "86.238.237.49 - - [26/Jun/2024:07:21:22 +0000] \"POST /index.html?category=toys&category=home&user_id=108 HTTP/1.1\" 500 3515\n",
      "NULL - - [22/Jun/2024:04:05:22 +0000] \"PUT /login?category=toys&category=toys HTTP/1.1\" 302 322\n",
      "74.240.191.221 - - [21/Jun/2024:18:16:22 +0000] \"PUT /services.html?session_id=abc123&product_id=826&product_id=874 HTTP/1.1\" 200 2517\n",
      "74.240.191.221 - - [21/Jun/2024:18:16:22 +0000] \"PUT /services.html?session_id=abc123&product_id=826&product_id=874 HTTP/1.1\" 200 2517\n",
      "101.137.132.71 - - [21/Jun/2024:06:41:22 +0000] \"GET /faq.html?product_id=808&product_id=949&session_id=ghi789 HTTP/1.1\" 302 3405\n",
      "101.137.132.71 - - [21/Jun/2024:06:41:22 +0000] \"GET /faq.html?product_id=808&product_id=949&session_id=ghi789 HTTP/1.1\" 302 3405\n",
      "224.15.134.151 - - [22/Jun/2024:03:08:22 +0000] \"PUT /services.html?category=books HTTP/1.1\" 301 2517\n",
      "190.111.164.7 - - [23/Jun/2024:21:09:22 +0000] \"PUT /products.html?session_id=jkl012&user_id=879 HTTP/1.1\" 500 4060\n",
      "190.111.164.7 - - [23/Jun/2024:21:09:22 +0000] \"PUT /products.html?session_id=jkl012&user_id=879 HTTP/1.1\" 500 4060\n",
      "186.137.74.198 - - [22/Jun/2024:01:47:22 +0000] \"POST /products.html?product_id=931&category=home&user_id=927 HTTP/1.1\" 200 4349\n",
      "158.20.204.46 - - [25/Jun/2024:20:50:22 +0000] \"PUT /signup?product_id=304 HTTP/1.1\" 500 -\n",
      "158.20.204.46 - - [25/Jun/2024:20:50:22 +0000] \"PUT /signup?product_id=304 HTTP/1.1\" 500 -\n",
      "74.240.191.221 - - [20/Jun/2024:23:53:22 +0000] \"DELETE /products.html?session_id=jkl012&user_id=435 HTTP/1.1\" 301 4292\n",
      "74.240.191.221 - - [20/Jun/2024:23:53:22 +0000] \"DELETE /products.html?session_id=jkl012&user_id=435 HTTP/1.1\" 301 4292\n",
      "244.113.20.63 - - [21/Jun/2024:04:55:22 +0000] \"PUT /login?category=books&session_id=def456&session_id=abc123 HTTP/1.1\" 301 -\n",
      "240.57.228.32 - - [25/Jun/2024:01:05:22 +0000] \"DELETE /about.html?product_id=857&category=fashion HTTP/1.1\" 302 2517\n",
      "35.239.32.150 - - [26/Jun/2024:13:25:22 +0000] \"GET /services.html?product_id=592&user_id=662 HTTP/1.1\" 302 -\n",
      "35.239.32.150 - - [26/Jun/2024:13:25:22 +0000] \"GET /services.html?product_id=592&user_id=662 HTTP/1.1\" 302 -\n",
      "57.179.44.69 - - [22/Jun/2024:05:22:22 +0000] \"PUT /faq.html?session_id=jkl012&category=books HTTP/1.1\" 200 1725\n",
      "57.179.44.69 - - [22/Jun/2024:05:22:22 +0000] \"PUT /faq.html?session_id=jkl012&category=books HTTP/1.1\" 200 1725\n",
      "49.90.99.244 - - [22/Jun/2024:22:55:22 +0000] \"PUT /services.html?session_id=ghi789&product_id=217 HTTP/1.1\" 301 4267\n",
      "167.53.66.101 - - [20/Jun/2024:18:03:22 +0000] \"POST /contact.html?category=toys HTTP/1.1\" 404 2661\n",
      "167.53.66.101 - - [26/Jun/2024:08:21:22 +0000] \"POST /index.html?user_id=244&product_id=629 HTTP/1.1\" 404 404\n",
      "75.108.179.75 - - [20/Jun/2024:15:44:22 +0000] \"POST /faq.html?product_id=204&category=books&session_id=mno345 HTTP/1.1\" 302 2120\n",
      "49.90.99.244 - - [20/Jun/2024:23:05:22 +0000] \"POST /faq.html?product_id=532&product_id=926&session_id=mno345 HTTP/1.1\" 301 4349\n",
      "238.189.173.32 - - [23/Jun/2024:06:41:22 +0000] \"POST /services.html?user_id=67&category=home HTTP/1.1\" 404 3432\n",
      "238.189.173.32 - - [23/Jun/2024:06:41:22 +0000] \"POST /services.html?user_id=67&category=home HTTP/1.1\" 404 3432\n",
      "77.25.133.33 - - [22/Jun/2024:03:29:22 +0000] \"POST /services.html?category=fashion&user_id=677&user_id=718 HTTP/1.1\" 302 1635\n",
      "13.224.24.185 - - [25/Jun/2024:10:35:22 +0000] \"DELETE /index.html?session_id=ghi789 HTTP/1.1\" 301 3254\n",
      "13.224.24.185 - - [25/Jun/2024:10:35:22 +0000] \"DELETE /index.html?session_id=ghi789 HTTP/1.1\" 301 3254\n",
      "93.228.77.196 - - [24/Jun/2024:07:28:22 +0000] \"GET /faq.html?product_id=125&session_id=abc123 HTTP/1.1\" 500 3378\n",
      "20.15.123.111 - - [23/Jun/2024:12:35:22 +0000] \"DELETE /about.html?session_id=mno345&category=electronics HTTP/1.1\" 302 629\n",
      "153.1.47.251 - - [21/Jun/2024:00:10:22 +0000] \"POST /contact.html?session_id=abc123 HTTP/1.1\" 500 2287\n",
      "167.53.66.101 - - [26/Jun/2024:11:05:22 +0000] \"PUT /faq.html?category=books&category=toys HTTP/1.1\" 404 1988\n",
      "240.57.228.32 - - [22/Jun/2024:21:57:22 +0000] \"POST /products.html?session_id=def456&session_id=mno345&user_id=719 HTTP/1.1\" 302 3432\n",
      "219.108.96.228 - - [22/Jun/2024:07:39:22 +0000] \"POST /contact.html?product_id=964 HTTP/1.1\" 200 -\n",
      "134.207.168.109 - - [25/Jun/2024:17:29:22 +0000] \"DELETE /faq.html?category=home HTTP/1.1\" 200 596\n",
      "153.1.47.251 - - [23/Jun/2024:13:10:22 +0000] \"GET /faq.html?category=fashion HTTP/1.1\" 200 -\n",
      "153.1.47.251 - - [23/Jun/2024:13:10:22 +0000] \"GET /faq.html?category=fashion HTTP/1.1\" 200 -\n",
      "134.207.168.109 - - [23/Jun/2024:08:36:22 +0000] \"PUT /about.html?session_id=def456&category=fashion&user_id=779 HTTP/1.1\" 404 3254\n",
      "134.207.168.109 - - [23/Jun/2024:08:36:22 +0000] \"PUT /about.html?session_id=def456&category=fashion&user_id=779 HTTP/1.1\" 404 3254\n",
      "141.199.38.146 - - [20/Jun/2024:17:12:22 +0000] \"DELETE /signup?user_id=61&user_id=212&session_id=abc123 HTTP/1.1\" 500 -\n",
      "NULL - - [25/Jun/2024:19:01:22 +0000] \"PUT /faq.html?session_id=mno345&category=books HTTP/1.1\" 302 2963\n",
      "160.229.223.17 - - [21/Jun/2024:03:05:22 +0000] \"PUT /signup?user_id=800&session_id=abc123&user_id=953 HTTP/1.1\" 302 404\n",
      "255.181.37.177 - - [20/Jun/2024:15:32:22 +0000] \"PUT /services.html?product_id=637&category=books HTTP/1.1\" 200 354\n",
      "255.181.37.177 - - [20/Jun/2024:15:32:22 +0000] \"PUT /services.html?product_id=637&category=books HTTP/1.1\" 200 354\n",
      "147.77.212.177 - - [19/Jun/2024:20:20:22 +0000] \"DELETE /index.html?product_id=842&user_id=663 HTTP/1.1\" 404 -\n",
      "188.128.112.159 - - [25/Jun/2024:15:48:22 +0000] \"POST /signup?category=electronics&user_id=149&user_id=750 HTTP/1.1\" 500 2598\n",
      "89.222.139.151 - - [22/Jun/2024:23:16:22 +0000] \"PUT /signup?session_id=abc123 HTTP/1.1\" 302 4292\n",
      "NULL - - [24/Jun/2024:18:00:22 +0000] \"GET /login?user_id=182&product_id=443 HTTP/1.1\" 302 -\n",
      "158.20.204.46 - - [26/Jun/2024:03:42:22 +0000] \"PUT /login?session_id=abc123&session_id=def456 HTTP/1.1\" 200 4732\n",
      "158.20.204.46 - - [26/Jun/2024:03:42:22 +0000] \"PUT /login?session_id=abc123&session_id=def456 HTTP/1.1\" 200 4732\n",
      "248.187.87.40 - - [21/Jun/2024:08:41:22 +0000] \"DELETE /products.html?category=home HTTP/1.1\" 404 382\n",
      "95.191.225.234 - - [20/Jun/2024:17:53:22 +0000] \"POST /about.html?session_id=def456&category=fashion&category=toys HTTP/1.1\" 404 3515\n",
      "149.43.222.103 - - [25/Jun/2024:21:38:22 +0000] \"POST /signup?session_id=abc123 HTTP/1.1\" 404 141\n",
      "141.199.38.146 - - [23/Jun/2024:02:11:22 +0000] \"PUT /faq.html?user_id=678&session_id=mno345 HTTP/1.1\" 500 3378\n",
      "15.189.100.115 - - [21/Jun/2024:11:14:22 +0000] \"PUT /products.html?category=fashion HTTP/1.1\" 500 4292\n",
      "151.80.55.55 - - [25/Jun/2024:23:56:22 +0000] \"GET /contact.html?product_id=566&session_id=jkl012&session_id=jkl012 HTTP/1.1\" 500 2963\n",
      "151.80.55.55 - - [25/Jun/2024:23:56:22 +0000] \"GET /contact.html?product_id=566&session_id=jkl012&session_id=jkl012 HTTP/1.1\" 500 2963\n",
      "101.137.132.71 - - [22/Jun/2024:12:44:22 +0000] \"POST /contact.html?session_id=ghi789&user_id=650 HTTP/1.1\" 500 1500\n",
      "74.240.191.221 - - [26/Jun/2024:11:49:22 +0000] \"DELETE /services.html?category=toys&user_id=927 HTTP/1.1\" 500 1974\n",
      "77.25.133.33 - - [23/Jun/2024:04:45:22 +0000] \"PUT /services.html?product_id=716 HTTP/1.1\" 404 1988\n",
      "77.25.133.33 - - [23/Jun/2024:04:45:22 +0000] \"PUT /services.html?product_id=716 HTTP/1.1\" 404 1988\n",
      "151.80.55.55 - - [23/Jun/2024:00:00:22 +0000] \"POST /about.html?category=fashion HTTP/1.1\" 200 2831\n",
      "244.113.20.63 - - [22/Jun/2024:12:45:22 +0000] \"DELETE /index.html?user_id=614&product_id=642&user_id=396 HTTP/1.1\" 302 2810\n",
      "NULL - - [24/Jun/2024:05:16:22 +0000] \"PUT /index.html?session_id=ghi789&session_id=ghi789 HTTP/1.1\" 302 1500\n",
      "46.189.5.214 - - [22/Jun/2024:21:58:22 +0000] \"DELETE /services.html?category=electronics HTTP/1.1\" 302 708\n",
      "13.224.24.185 - - [21/Jun/2024:12:52:22 +0000] \"POST /faq.html?product_id=159 HTTP/1.1\" 302 404\n",
      "35.239.32.150 - - [21/Jun/2024:10:06:22 +0000] \"DELETE /contact.html?product_id=39&user_id=943&session_id=ghi789 HTTP/1.1\" 404 734\n",
      "141.199.38.146 - - [25/Jun/2024:15:18:22 +0000] \"PUT /login?user_id=784&user_id=904 HTTP/1.1\" 301 2598\n",
      "101.137.132.71 - - [24/Jun/2024:11:12:22 +0000] \"GET /contact.html?user_id=949&category=toys HTTP/1.1\" 500 2053\n",
      "153.1.47.251 - - [20/Jun/2024:12:39:22 +0000] \"DELETE /faq.html?session_id=abc123 HTTP/1.1\" 500 3854\n",
      "250.58.233.174 - - [23/Jun/2024:16:57:22 +0000] \"GET /contact.html?category=toys HTTP/1.1\" 500 4292\n",
      "134.207.168.109 - - [23/Jun/2024:19:10:22 +0000] \"POST /login?session_id=ghi789 HTTP/1.1\" 301 279\n",
      "86.144.221.240 - - [23/Jun/2024:10:52:22 +0000] \"DELETE /products.html?category=toys&session_id=mno345&category=fashion HTTP/1.1\" 404 734\n",
      "238.189.173.32 - - [22/Jun/2024:10:03:22 +0000] \"PUT /signup?product_id=940&session_id=abc123&session_id=abc123 HTTP/1.1\" 404 3405\n",
      "NULL - - [20/Jun/2024:06:57:22 +0000] \"GET /products.html?product_id=356&session_id=ghi789&session_id=mno345 HTTP/1.1\" 200 2287\n",
      "147.77.212.177 - - [26/Jun/2024:16:42:22 +0000] \"DELETE /products.html?session_id=ghi789&category=fashion HTTP/1.1\" 404 3515\n",
      "153.6.128.136 - - [26/Jun/2024:14:06:22 +0000] \"PUT /login?session_id=def456&session_id=mno345&user_id=736 HTTP/1.1\" 200 734\n",
      "158.20.204.46 - - [20/Jun/2024:16:43:22 +0000] \"GET /about.html?session_id=abc123 HTTP/1.1\" 200 322\n",
      "188.128.112.159 - - [23/Jun/2024:15:47:22 +0000] \"GET /index.html?product_id=272&user_id=16&category=electronics HTTP/1.1\" 404 1725\n",
      "NULL - - [26/Jun/2024:11:02:22 +0000] \"POST /contact.html?category=books HTTP/1.1\" 302 1635\n",
      "149.43.222.103 - - [25/Jun/2024:07:16:22 +0000] \"PUT /login?product_id=197 HTTP/1.1\" 404 302\n",
      "153.6.128.136 - - [22/Jun/2024:18:42:22 +0000] \"DELETE /signup?user_id=27&user_id=232 HTTP/1.1\" 301 3854\n",
      "186.137.74.198 - - [22/Jun/2024:19:40:22 +0000] \"GET /services.html?category=toys&product_id=924 HTTP/1.1\" 404 708\n",
      "8.249.233.220 - - [20/Jun/2024:21:34:22 +0000] \"DELETE /faq.html?session_id=def456&product_id=311 HTTP/1.1\" 500 734\n",
      "55.192.232.116 - - [24/Jun/2024:11:39:22 +0000] \"PUT /login?product_id=798&product_id=643&session_id=mno345 HTTP/1.1\" 301 279\n",
      "75.108.179.75 - - [25/Jun/2024:02:02:22 +0000] \"DELETE /signup?session_id=abc123&category=electronics&category=books HTTP/1.1\" 200 404\n",
      "55.192.232.116 - - [25/Jun/2024:03:47:22 +0000] \"PUT /contact.html?user_id=293&product_id=413 HTTP/1.1\" 302 3508\n",
      "89.222.139.151 - - [24/Jun/2024:16:57:22 +0000] \"PUT /services.html?session_id=ghi789&user_id=906&session_id=mno345 HTTP/1.1\" 302 3508\n",
      "240.57.228.32 - - [24/Jun/2024:00:49:22 +0000] \"POST /contact.html?product_id=551&user_id=284&product_id=281 HTTP/1.1\" 301 2120\n",
      "250.58.233.174 - - [21/Jun/2024:02:13:22 +0000] \"GET /contact.html?category=toys&user_id=609 HTTP/1.1\" 404 1988\n",
      "250.58.233.174 - - [21/Jun/2024:02:13:22 +0000] \"GET /contact.html?category=toys&user_id=609 HTTP/1.1\" 404 1988\n",
      "55.192.232.116 - - [23/Jun/2024:21:06:22 +0000] \"PUT /contact.html?user_id=356&category=fashion&category=books HTTP/1.1\" 404 3254\n",
      "151.80.55.55 - - [22/Jun/2024:17:10:22 +0000] \"DELETE /faq.html?category=fashion&category=fashion HTTP/1.1\" 500 4049\n",
      "15.89.35.67 - - [26/Jun/2024:10:22:22 +0000] \"DELETE /about.html?category=electronics&user_id=219&product_id=942 HTTP/1.1\" 302 279\n",
      "244.113.20.63 - - [25/Jun/2024:21:11:22 +0000] \"DELETE /products.html?category=home&product_id=821&category=home HTTP/1.1\" 404 3432\n",
      "167.53.66.101 - - [25/Jun/2024:15:49:22 +0000] \"POST /signup?user_id=874&product_id=866&product_id=349 HTTP/1.1\" 301 4918\n",
      "190.111.164.7 - - [24/Jun/2024:20:07:22 +0000] \"POST /products.html?session_id=abc123&user_id=869 HTTP/1.1\" 301 2053\n",
      "190.111.164.7 - - [24/Jun/2024:20:07:22 +0000] \"POST /products.html?session_id=abc123&user_id=869 HTTP/1.1\" 301 2053\n",
      "55.192.232.116 - - [21/Jun/2024:18:09:22 +0000] \"PUT /services.html?user_id=559&user_id=889 HTTP/1.1\" 302 2444\n",
      "167.53.66.101 - - [23/Jun/2024:22:02:22 +0000] \"POST /signup?session_id=jkl012 HTTP/1.1\" 500 -\n",
      "15.189.100.115 - - [23/Jun/2024:04:09:22 +0000] \"POST /index.html?product_id=936 HTTP/1.1\" 404 4049\n",
      "72.81.114.166 - - [20/Jun/2024:00:58:22 +0000] \"PUT /signup?product_id=289&category=electronics&product_id=508 HTTP/1.1\" 404 2810\n",
      "101.137.132.71 - - [26/Jun/2024:16:18:22 +0000] \"POST /products.html?category=fashion HTTP/1.1\" 200 734\n",
      "244.113.20.63 - - [21/Jun/2024:20:07:22 +0000] \"DELETE /faq.html?product_id=258 HTTP/1.1\" 302 4049\n",
      "255.181.37.177 - - [20/Jun/2024:08:32:22 +0000] \"DELETE /signup?session_id=jkl012 HTTP/1.1\" 404 4292\n",
      "240.57.228.32 - - [21/Jun/2024:20:30:22 +0000] \"POST /services.html?user_id=558&category=books HTTP/1.1\" 301 4918\n",
      "NULL - - [25/Jun/2024:01:29:22 +0000] \"PUT /contact.html?category=electronics&product_id=121&user_id=474 HTTP/1.1\" 301 2444\n",
      "255.181.37.177 - - [25/Jun/2024:02:23:22 +0000] \"PUT /faq.html?category=books&session_id=abc123 HTTP/1.1\" 301 2572\n",
      "255.181.37.177 - - [25/Jun/2024:02:23:22 +0000] \"PUT /faq.html?category=books&session_id=abc123 HTTP/1.1\" 301 2572\n",
      "46.189.5.214 - - [21/Jun/2024:12:36:22 +0000] \"PUT /index.html?category=books HTTP/1.1\" 500 3515\n",
      "153.1.47.251 - - [20/Jun/2024:23:27:22 +0000] \"DELETE /about.html?category=fashion&category=home&user_id=588 HTTP/1.1\" 302 1500\n",
      "49.90.99.244 - - [26/Jun/2024:08:51:22 +0000] \"PUT /contact.html?user_id=938&product_id=160 HTTP/1.1\" 500 2598\n",
      "90.154.68.175 - - [26/Jun/2024:10:34:22 +0000] \"DELETE /index.html?category=electronics&category=toys&user_id=785 HTTP/1.1\" 500 279\n",
      "141.199.38.146 - - [19/Jun/2024:22:05:22 +0000] \"POST /index.html?user_id=956&session_id=mno345&product_id=39 HTTP/1.1\" 200 1635\n",
      "240.57.228.32 - - [22/Jun/2024:17:28:22 +0000] \"DELETE /contact.html?category=toys HTTP/1.1\" 200 708\n",
      "13.224.24.185 - - [26/Jun/2024:00:29:22 +0000] \"GET /signup?product_id=406&user_id=194&category=books HTTP/1.1\" 500 2831\n",
      "13.224.24.185 - - [26/Jun/2024:00:29:22 +0000] \"GET /signup?product_id=406&user_id=194&category=books HTTP/1.1\" 500 2831\n",
      "127.132.184.75 - - [24/Jun/2024:06:45:22 +0000] \"DELETE /faq.html?session_id=mno345&user_id=639 HTTP/1.1\" 200 4292\n",
      "224.15.134.151 - - [20/Jun/2024:09:05:22 +0000] \"GET /signup?category=toys HTTP/1.1\" 200 -\n",
      "90.154.68.175 - - [23/Jun/2024:23:11:22 +0000] \"GET /index.html?user_id=102 HTTP/1.1\" 500 3515\n",
      "93.228.77.196 - - [20/Jun/2024:19:33:22 +0000] \"DELETE /index.html?user_id=535&category=electronics&session_id=abc123 HTTP/1.1\" 500 2971\n",
      "244.113.20.63 - - [23/Jun/2024:19:25:22 +0000] \"POST /signup?user_id=682&category=books HTTP/1.1\" 302 629\n",
      "160.229.223.17 - - [24/Jun/2024:17:04:22 +0000] \"DELETE /login?category=home&product_id=144 HTTP/1.1\" 302 2120\n",
      "244.113.20.63 - - [22/Jun/2024:17:09:22 +0000] \"DELETE /login?category=home&session_id=mno345 HTTP/1.1\" 500 4918\n",
      "35.239.32.150 - - [19/Jun/2024:21:38:22 +0000] \"PUT /products.html?session_id=ghi789 HTTP/1.1\" 302 3515\n",
      "NULL - - [26/Jun/2024:10:14:22 +0000] \"POST /login?user_id=858 HTTP/1.1\" 404 3378\n",
      "141.199.38.146 - - [20/Jun/2024:17:17:22 +0000] \"DELETE /index.html?category=fashion&session_id=ghi789 HTTP/1.1\" 200 4049\n",
      "74.240.191.221 - - [23/Jun/2024:14:21:22 +0000] \"DELETE /faq.html?session_id=def456 HTTP/1.1\" 302 708\n",
      "NULL - - [22/Jun/2024:18:34:22 +0000] \"PUT /login?product_id=8&session_id=jkl012 HTTP/1.1\" 200 2971\n",
      "95.191.225.234 - - [23/Jun/2024:15:05:22 +0000] \"POST /login?session_id=jkl012&user_id=961&session_id=abc123 HTTP/1.1\" 200 4060\n",
      "151.80.55.55 - - [21/Jun/2024:04:42:22 +0000] \"GET /products.html?product_id=639 HTTP/1.1\" 302 4292\n",
      "151.80.55.55 - - [21/Jun/2024:04:42:22 +0000] \"GET /products.html?product_id=639 HTTP/1.1\" 302 4292\n",
      "255.181.37.177 - - [25/Jun/2024:00:54:22 +0000] \"PUT /index.html?session_id=ghi789 HTTP/1.1\" 500 2963\n",
      "153.6.128.136 - - [21/Jun/2024:09:26:22 +0000] \"PUT /contact.html?category=electronics HTTP/1.1\" 500 302\n",
      "55.192.232.116 - - [20/Jun/2024:03:35:22 +0000] \"PUT /about.html?product_id=994&user_id=366&user_id=206 HTTP/1.1\" 500 2598\n",
      "137.135.249.182 - - [21/Jun/2024:22:12:22 +0000] \"DELETE /index.html?session_id=mno345&product_id=846 HTTP/1.1\" 301 279\n",
      "219.108.96.228 - - [23/Jun/2024:22:14:22 +0000] \"DELETE /products.html?user_id=43&user_id=529 HTTP/1.1\" 301 3515\n",
      "219.108.96.228 - - [23/Jun/2024:22:14:22 +0000] \"DELETE /products.html?user_id=43&user_id=529 HTTP/1.1\" 301 3515\n",
      "149.43.222.103 - - [20/Jun/2024:02:42:22 +0000] \"PUT /services.html?user_id=247&product_id=531&session_id=jkl012 HTTP/1.1\" 404 2120\n",
      "8.249.233.220 - - [22/Jun/2024:21:42:22 +0000] \"PUT /services.html?product_id=390&category=electronics HTTP/1.1\" 301 404\n",
      "224.15.134.151 - - [23/Jun/2024:10:07:22 +0000] \"DELETE /login?user_id=16 HTTP/1.1\" 500 4267\n",
      "149.43.222.103 - - [21/Jun/2024:02:23:22 +0000] \"DELETE /faq.html?user_id=996&category=books HTTP/1.1\" 200 2810\n",
      "238.189.173.32 - - [26/Jun/2024:16:52:22 +0000] \"POST /about.html?product_id=248&user_id=690&product_id=992 HTTP/1.1\" 200 3981\n",
      "238.189.173.32 - - [26/Jun/2024:16:52:22 +0000] \"POST /about.html?product_id=248&user_id=690&product_id=992 HTTP/1.1\" 200 3981\n",
      "167.53.66.101 - - [25/Jun/2024:06:59:22 +0000] \"PUT /about.html?product_id=827 HTTP/1.1\" 301 3217\n",
      "57.179.44.69 - - [20/Jun/2024:05:15:22 +0000] \"PUT /faq.html?product_id=289 HTTP/1.1\" 200 302\n",
      "86.238.237.49 - - [22/Jun/2024:01:31:22 +0000] \"PUT /products.html?product_id=36 HTTP/1.1\" 500 2963\n",
      "20.15.123.111 - - [22/Jun/2024:13:02:22 +0000] \"GET /signup?session_id=jkl012&category=books HTTP/1.1\" 404 1110\n",
      "13.224.24.185 - - [22/Jun/2024:17:02:22 +0000] \"DELETE /services.html?session_id=mno345&category=toys&user_id=370 HTTP/1.1\" 500 1988\n",
      "224.15.134.151 - - [24/Jun/2024:08:44:22 +0000] \"DELETE /login?session_id=ghi789&category=home HTTP/1.1\" 404 4060\n",
      "224.15.134.151 - - [24/Jun/2024:08:44:22 +0000] \"DELETE /login?session_id=ghi789&category=home HTTP/1.1\" 404 4060\n",
      "15.189.100.115 - - [20/Jun/2024:06:38:22 +0000] \"PUT /services.html?session_id=jkl012&product_id=35&user_id=794 HTTP/1.1\" 301 3432\n",
      "15.189.100.115 - - [20/Jun/2024:06:38:22 +0000] \"PUT /services.html?session_id=jkl012&product_id=35&user_id=794 HTTP/1.1\" 301 3432\n",
      "35.239.32.150 - - [20/Jun/2024:10:46:22 +0000] \"PUT /contact.html?category=home HTTP/1.1\" 500 1974\n",
      "129.173.76.59 - - [20/Jun/2024:23:13:22 +0000] \"GET /products.html?session_id=def456&user_id=422 HTTP/1.1\" 301 4918\n",
      "93.228.77.196 - - [21/Jun/2024:01:01:22 +0000] \"DELETE /products.html?category=books&session_id=ghi789&session_id=abc123 HTTP/1.1\" 301 3508\n",
      "244.113.20.63 - - [20/Jun/2024:07:32:22 +0000] \"POST /login?session_id=abc123 HTTP/1.1\" 200 2517\n",
      "49.90.99.244 - - [24/Jun/2024:21:36:22 +0000] \"DELETE /faq.html?user_id=322&category=toys&category=books HTTP/1.1\" 302 708\n",
      "49.90.99.244 - - [24/Jun/2024:21:36:22 +0000] \"DELETE /faq.html?user_id=322&category=toys&category=books HTTP/1.1\" 302 708\n",
      "15.89.35.67 - - [21/Jun/2024:23:32:22 +0000] \"DELETE /services.html?category=toys&product_id=783 HTTP/1.1\" 404 3144\n",
      "86.238.237.49 - - [24/Jun/2024:09:03:22 +0000] \"GET /products.html?category=home&category=home&category=electronics HTTP/1.1\" 404 4049\n",
      "134.207.168.109 - - [24/Jun/2024:09:51:22 +0000] \"POST /contact.html?session_id=jkl012&session_id=jkl012 HTTP/1.1\" 302 -\n",
      "127.132.184.75 - - [24/Jun/2024:13:12:22 +0000] \"POST /index.html?product_id=950&user_id=7&product_id=870 HTTP/1.1\" 404 4228\n",
      "95.191.225.234 - - [23/Jun/2024:19:18:22 +0000] \"GET /signup?category=toys&product_id=442&category=fashion HTTP/1.1\" 500 4732\n",
      "75.108.179.75 - - [23/Jun/2024:15:17:22 +0000] \"PUT /products.html?user_id=746&category=books HTTP/1.1\" 404 4292\n",
      "75.108.179.75 - - [23/Jun/2024:15:17:22 +0000] \"PUT /products.html?user_id=746&category=books HTTP/1.1\" 404 4292\n",
      "NULL - - [22/Jun/2024:05:55:22 +0000] \"DELETE /index.html?category=books&category=toys HTTP/1.1\" 301 354\n",
      "250.58.233.174 - - [23/Jun/2024:09:52:22 +0000] \"DELETE /login?user_id=18 HTTP/1.1\" 200 2572\n",
      "57.179.44.69 - - [22/Jun/2024:10:47:22 +0000] \"DELETE /index.html?user_id=650&category=electronics&session_id=abc123 HTTP/1.1\" 301 3515\n",
      "57.179.44.69 - - [22/Jun/2024:10:47:22 +0000] \"DELETE /index.html?user_id=650&category=electronics&session_id=abc123 HTTP/1.1\" 301 3515\n",
      "86.144.221.240 - - [24/Jun/2024:08:02:22 +0000] \"POST /faq.html?user_id=76 HTTP/1.1\" 301 2517\n",
      "62.82.168.113 - - [21/Jun/2024:04:20:22 +0000] \"PUT /index.html?user_id=678 HTTP/1.1\" 404 2517\n",
      "62.82.168.113 - - [21/Jun/2024:04:20:22 +0000] \"PUT /index.html?user_id=678 HTTP/1.1\" 404 2517\n",
      "86.238.237.49 - - [24/Jun/2024:04:57:22 +0000] \"GET /login?session_id=mno345&category=toys&product_id=651 HTTP/1.1\" 404 2598\n",
      "15.189.100.115 - - [25/Jun/2024:18:51:22 +0000] \"PUT /products.html?user_id=468 HTTP/1.1\" 500 382\n",
      "86.144.221.240 - - [19/Jun/2024:22:34:22 +0000] \"PUT /products.html?user_id=382&user_id=571&product_id=958 HTTP/1.1\" 302 3432\n",
      "151.80.55.55 - - [25/Jun/2024:17:22:22 +0000] \"PUT /about.html?category=home&category=books&session_id=def456 HTTP/1.1\" 302 2287\n",
      "35.239.32.150 - - [22/Jun/2024:12:13:22 +0000] \"DELETE /products.html?user_id=352&product_id=969 HTTP/1.1\" 500 4349\n",
      "240.57.228.32 - - [22/Jun/2024:12:11:22 +0000] \"DELETE /index.html?product_id=820&session_id=jkl012 HTTP/1.1\" 200 3414\n",
      "101.137.132.71 - - [25/Jun/2024:10:21:22 +0000] \"POST /products.html?session_id=ghi789&user_id=388&product_id=457 HTTP/1.1\" 500 382\n",
      "89.222.139.151 - - [21/Jun/2024:06:33:22 +0000] \"DELETE /contact.html?product_id=25&session_id=mno345 HTTP/1.1\" 301 1974\n",
      "153.1.47.251 - - [23/Jun/2024:23:14:22 +0000] \"GET /index.html?session_id=jkl012&user_id=799 HTTP/1.1\" 200 382\n",
      "75.108.179.75 - - [23/Jun/2024:00:40:22 +0000] \"POST /login?user_id=114&user_id=627 HTTP/1.1\" 500 3254\n",
      "74.240.191.221 - - [25/Jun/2024:11:15:22 +0000] \"DELETE /login?user_id=767&product_id=617&category=books HTTP/1.1\" 500 4732\n",
      "160.229.223.17 - - [26/Jun/2024:03:45:22 +0000] \"PUT /login?session_id=def456 HTTP/1.1\" 500 404\n",
      "149.43.222.103 - - [26/Jun/2024:07:43:22 +0000] \"DELETE /index.html?user_id=704 HTTP/1.1\" 302 3508\n",
      "NULL - - [20/Jun/2024:22:01:22 +0000] \"DELETE /signup?user_id=421&category=fashion&product_id=48 HTTP/1.1\" 500 4060\n",
      "NULL - - [21/Jun/2024:02:40:22 +0000] \"PUT /index.html?user_id=491&session_id=jkl012 HTTP/1.1\" 301 2120\n",
      "153.6.128.136 - - [21/Jun/2024:20:30:22 +0000] \"GET /faq.html?category=electronics HTTP/1.1\" 200 1110\n",
      "255.181.37.177 - - [23/Jun/2024:11:31:22 +0000] \"DELETE /contact.html?product_id=836&product_id=361 HTTP/1.1\" 302 1110\n",
      "153.6.128.136 - - [21/Jun/2024:00:37:22 +0000] \"DELETE /login?user_id=905&product_id=669&category=toys HTTP/1.1\" 200 3254\n",
      "8.249.233.220 - - [22/Jun/2024:11:47:22 +0000] \"DELETE /about.html?session_id=ghi789&product_id=530&user_id=294 HTTP/1.1\" 200 3378\n",
      "72.81.114.166 - - [21/Jun/2024:17:41:22 +0000] \"PUT /signup?category=fashion HTTP/1.1\" 302 847\n",
      "93.228.77.196 - - [21/Jun/2024:04:35:22 +0000] \"DELETE /products.html?session_id=abc123&category=home HTTP/1.1\" 200 1974\n",
      "248.187.87.40 - - [21/Jun/2024:11:30:22 +0000] \"PUT /contact.html?category=fashion HTTP/1.1\" 302 1988\n",
      "63.113.225.225 - - [25/Jun/2024:03:06:22 +0000] \"POST /index.html?category=fashion&session_id=abc123 HTTP/1.1\" 301 734\n",
      "190.111.164.7 - - [24/Jun/2024:06:24:22 +0000] \"POST /about.html?session_id=ghi789&session_id=ghi789&product_id=729 HTTP/1.1\" 404 4228\n",
      "77.25.133.33 - - [22/Jun/2024:02:36:22 +0000] \"PUT /about.html?product_id=222 HTTP/1.1\" 301 734\n",
      "8.249.233.220 - - [26/Jun/2024:11:07:22 +0000] \"GET /contact.html?user_id=333 HTTP/1.1\" 404 2120\n",
      "15.189.100.115 - - [22/Jun/2024:22:15:22 +0000] \"GET /products.html?product_id=416 HTTP/1.1\" 404 3508\n",
      "151.80.55.55 - - [20/Jun/2024:03:28:22 +0000] \"DELETE /login?session_id=mno345 HTTP/1.1\" 500 322\n",
      "244.113.20.63 - - [26/Jun/2024:07:11:22 +0000] \"GET /products.html?category=home&user_id=868 HTTP/1.1\" 301 -\n",
      "86.238.237.49 - - [20/Jun/2024:18:12:22 +0000] \"PUT /login?product_id=7&user_id=223 HTTP/1.1\" 302 2810\n",
      "134.207.168.109 - - [22/Jun/2024:19:02:22 +0000] \"PUT /signup?user_id=231 HTTP/1.1\" 500 3854\n",
      "74.240.191.221 - - [21/Jun/2024:09:38:22 +0000] \"GET /about.html?product_id=908&session_id=mno345 HTTP/1.1\" 200 3981\n",
      "90.154.68.175 - - [21/Jun/2024:20:32:22 +0000] \"POST /index.html?category=home HTTP/1.1\" 200 1988\n",
      "NULL - - [25/Jun/2024:15:06:22 +0000] \"POST /contact.html?product_id=849 HTTP/1.1\" 404 3508\n",
      "186.137.74.198 - - [25/Jun/2024:09:28:22 +0000] \"GET /contact.html?category=electronics&category=electronics HTTP/1.1\" 302 2517\n",
      "167.53.66.101 - - [22/Jun/2024:09:13:22 +0000] \"PUT /contact.html?session_id=abc123&category=electronics&product_id=486 HTTP/1.1\" 302 -\n",
      "13.224.24.185 - - [20/Jun/2024:03:21:22 +0000] \"GET /contact.html?category=fashion HTTP/1.1\" 500 3854\n",
      "219.108.96.228 - - [26/Jun/2024:15:30:22 +0000] \"DELETE /faq.html?product_id=989&category=fashion&user_id=894 HTTP/1.1\" 302 354\n",
      "75.108.179.75 - - [21/Jun/2024:20:35:22 +0000] \"DELETE /faq.html?product_id=454 HTTP/1.1\" 200 2963\n",
      "NULL - - [23/Jun/2024:05:43:22 +0000] \"DELETE /faq.html?user_id=861&user_id=123 HTTP/1.1\" 302 -\n",
      "158.20.204.46 - - [23/Jun/2024:04:01:22 +0000] \"POST /signup?product_id=53 HTTP/1.1\" 301 141\n",
      "158.20.204.46 - - [23/Jun/2024:04:01:22 +0000] \"POST /signup?product_id=53 HTTP/1.1\" 301 141\n",
      "63.113.225.225 - - [26/Jun/2024:02:06:22 +0000] \"POST /about.html?user_id=394&product_id=770 HTTP/1.1\" 302 2831\n",
      "224.15.134.151 - - [21/Jun/2024:07:49:22 +0000] \"DELETE /signup?session_id=abc123&session_id=abc123&category=books HTTP/1.1\" 500 3254\n",
      "62.82.168.113 - - [21/Jun/2024:08:45:22 +0000] \"PUT /index.html?session_id=mno345&product_id=517&session_id=ghi789 HTTP/1.1\" 301 4267\n",
      "127.132.184.75 - - [22/Jun/2024:04:43:22 +0000] \"DELETE /login?product_id=996 HTTP/1.1\" 200 -\n",
      "49.90.99.244 - - [20/Jun/2024:14:10:22 +0000] \"POST /signup?category=home&product_id=977&session_id=abc123 HTTP/1.1\" 404 2053\n",
      "196.224.137.79 - - [20/Jun/2024:09:47:22 +0000] \"GET /contact.html?category=fashion HTTP/1.1\" 302 4060\n",
      "196.224.137.79 - - [25/Jun/2024:05:37:22 +0000] \"DELETE /index.html?user_id=205&product_id=103 HTTP/1.1\" 302 1635\n",
      "151.80.55.55 - - [20/Jun/2024:18:53:22 +0000] \"GET /about.html?session_id=def456&category=electronics&user_id=82 HTTP/1.1\" 200 279\n",
      "13.224.24.185 - - [20/Jun/2024:06:42:22 +0000] \"PUT /about.html?user_id=723&product_id=836 HTTP/1.1\" 500 4228\n",
      "149.43.222.103 - - [23/Jun/2024:15:02:22 +0000] \"POST /products.html?category=toys&category=electronics&user_id=903 HTTP/1.1\" 404 2517\n",
      "149.43.222.103 - - [23/Jun/2024:15:02:22 +0000] \"POST /products.html?category=toys&category=electronics&user_id=903 HTTP/1.1\" 404 2517\n",
      "15.89.35.67 - - [20/Jun/2024:09:47:22 +0000] \"POST /index.html?session_id=jkl012 HTTP/1.1\" 500 3144\n",
      "NULL - - [22/Jun/2024:06:49:22 +0000] \"POST /contact.html?category=toys&session_id=ghi789&session_id=mno345 HTTP/1.1\" 500 2120\n",
      "134.207.168.109 - - [21/Jun/2024:18:15:22 +0000] \"PUT /about.html?session_id=jkl012&product_id=285&session_id=ghi789 HTTP/1.1\" 302 354\n",
      "224.15.134.151 - - [21/Jun/2024:14:25:22 +0000] \"GET /login?session_id=abc123&user_id=411 HTTP/1.1\" 404 4732\n",
      "137.135.249.182 - - [26/Jun/2024:14:11:22 +0000] \"POST /services.html?category=electronics&session_id=abc123 HTTP/1.1\" 404 -\n",
      "147.77.212.177 - - [21/Jun/2024:00:09:22 +0000] \"PUT /index.html?user_id=610&session_id=abc123&user_id=878 HTTP/1.1\" 404 4060\n",
      "248.187.87.40 - - [22/Jun/2024:06:23:22 +0000] \"DELETE /faq.html?category=electronics&session_id=def456 HTTP/1.1\" 302 1974\n",
      "153.1.47.251 - - [23/Jun/2024:21:17:22 +0000] \"PUT /about.html?category=fashion HTTP/1.1\" 302 3217\n",
      "244.113.20.63 - - [20/Jun/2024:12:29:22 +0000] \"POST /services.html?user_id=47&category=toys HTTP/1.1\" 301 629\n",
      "75.108.179.75 - - [22/Jun/2024:07:24:22 +0000] \"POST /services.html?product_id=534&category=toys HTTP/1.1\" 301 2572\n",
      "101.137.132.71 - - [23/Jun/2024:18:57:22 +0000] \"DELETE /services.html?category=fashion&user_id=209 HTTP/1.1\" 404 2287\n",
      "93.228.77.196 - - [25/Jun/2024:02:27:22 +0000] \"POST /login?session_id=ghi789 HTTP/1.1\" 404 3432\n",
      "72.81.114.166 - - [21/Jun/2024:05:54:22 +0000] \"DELETE /products.html?user_id=66&user_id=958 HTTP/1.1\" 404 4049\n",
      "72.81.114.166 - - [21/Jun/2024:08:02:22 +0000] \"GET /services.html?category=electronics&user_id=373 HTTP/1.1\" 200 1974\n",
      "63.113.225.225 - - [21/Jun/2024:08:08:22 +0000] \"PUT /products.html?product_id=344 HTTP/1.1\" 200 2598\n",
      "63.113.225.225 - - [21/Jun/2024:08:08:22 +0000] \"PUT /products.html?product_id=344 HTTP/1.1\" 200 2598\n",
      "86.238.237.49 - - [26/Jun/2024:07:34:22 +0000] \"PUT /products.html?product_id=57&category=electronics&user_id=821 HTTP/1.1\" 500 3414\n",
      "250.58.233.174 - - [23/Jun/2024:14:43:22 +0000] \"POST /login?user_id=421&user_id=671&product_id=232 HTTP/1.1\" 500 -\n",
      "158.20.204.46 - - [26/Jun/2024:01:56:22 +0000] \"GET /signup?session_id=def456 HTTP/1.1\" 500 3378\n",
      "NULL - - [26/Jun/2024:02:02:22 +0000] \"DELETE /services.html?user_id=95 HTTP/1.1\" 200 2598\n",
      "NULL - - [26/Jun/2024:04:34:22 +0000] \"PUT /login?user_id=709&session_id=abc123&user_id=883 HTTP/1.1\" 301 629\n",
      "147.77.212.177 - - [20/Jun/2024:08:09:22 +0000] \"DELETE /about.html?product_id=195&product_id=772 HTTP/1.1\" 404 2053\n",
      "127.132.184.75 - - [23/Jun/2024:13:07:22 +0000] \"PUT /products.html?session_id=jkl012&session_id=jkl012 HTTP/1.1\" 404 354\n",
      "153.6.128.136 - - [26/Jun/2024:14:51:22 +0000] \"GET /products.html?category=home&session_id=mno345 HTTP/1.1\" 302 2963\n",
      "134.207.168.109 - - [22/Jun/2024:02:55:22 +0000] \"DELETE /faq.html?category=books&product_id=841&user_id=71 HTTP/1.1\" 500 4292\n",
      "134.207.168.109 - - [22/Jun/2024:02:55:22 +0000] \"DELETE /faq.html?category=books&product_id=841&user_id=71 HTTP/1.1\" 500 4292\n",
      "46.189.5.214 - - [22/Jun/2024:09:45:22 +0000] \"GET /contact.html?product_id=124&session_id=def456&category=electronics HTTP/1.1\" 500 1500\n",
      "95.191.225.234 - - [23/Jun/2024:09:00:22 +0000] \"GET /contact.html?session_id=mno345 HTTP/1.1\" 302 2320\n",
      "224.15.134.151 - - [22/Jun/2024:02:33:22 +0000] \"POST /services.html?user_id=974&category=home HTTP/1.1\" 302 1500\n",
      "188.128.112.159 - - [24/Jun/2024:20:47:22 +0000] \"POST /contact.html?category=electronics&session_id=ghi789 HTTP/1.1\" 301 1500\n",
      "95.191.225.234 - - [26/Jun/2024:03:10:22 +0000] \"GET /login?product_id=183&product_id=939 HTTP/1.1\" 500 1635\n",
      "NULL - - [26/Jun/2024:01:28:22 +0000] \"DELETE /signup?session_id=def456&product_id=457 HTTP/1.1\" 301 3432\n",
      "153.6.128.136 - - [25/Jun/2024:05:42:22 +0000] \"GET /index.html?user_id=189&user_id=994&category=electronics HTTP/1.1\" 500 2517\n",
      "219.108.96.228 - - [20/Jun/2024:03:47:22 +0000] \"POST /signup?session_id=ghi789&category=fashion HTTP/1.1\" 301 4292\n",
      "62.82.168.113 - - [20/Jun/2024:15:55:22 +0000] \"POST /services.html?product_id=550&category=books HTTP/1.1\" 500 3432\n",
      "46.189.5.214 - - [22/Jun/2024:19:03:22 +0000] \"POST /signup?category=toys&session_id=mno345&category=fashion HTTP/1.1\" 200 404\n",
      "57.179.44.69 - - [23/Jun/2024:01:18:22 +0000] \"DELETE /products.html?category=electronics HTTP/1.1\" 500 3432\n",
      "57.179.44.69 - - [23/Jun/2024:01:18:22 +0000] \"DELETE /products.html?category=electronics HTTP/1.1\" 500 3432\n",
      "240.57.228.32 - - [20/Jun/2024:23:37:22 +0000] \"PUT /index.html?category=toys HTTP/1.1\" 404 734\n",
      "240.57.228.32 - - [20/Jun/2024:23:37:22 +0000] \"PUT /index.html?category=toys HTTP/1.1\" 404 734\n",
      "75.108.179.75 - - [25/Jun/2024:11:50:22 +0000] \"POST /login?session_id=def456 HTTP/1.1\" 302 1635\n",
      "72.99.191.184 - - [25/Jun/2024:10:09:22 +0000] \"PUT /faq.html?session_id=jkl012&user_id=482&user_id=242 HTTP/1.1\" 500 1500\n",
      "151.80.55.55 - - [19/Jun/2024:23:56:22 +0000] \"PUT /index.html?session_id=abc123 HTTP/1.1\" 200 3854\n",
      "86.144.221.240 - - [25/Jun/2024:08:42:22 +0000] \"POST /about.html?session_id=abc123 HTTP/1.1\" 302 3432\n",
      "141.199.38.146 - - [26/Jun/2024:07:23:22 +0000] \"GET /signup?session_id=ghi789&session_id=abc123 HTTP/1.1\" 500 322\n",
      "151.80.55.55 - - [26/Jun/2024:05:22:22 +0000] \"DELETE /about.html?user_id=149&product_id=285 HTTP/1.1\" 500 596\n",
      "86.238.237.49 - - [20/Jun/2024:20:41:22 +0000] \"GET /about.html?category=toys&product_id=62&product_id=539 HTTP/1.1\" 500 4060\n",
      "226.49.186.58 - - [25/Jun/2024:00:57:22 +0000] \"GET /products.html?session_id=jkl012 HTTP/1.1\" 302 404\n",
      "226.49.186.58 - - [25/Jun/2024:00:57:22 +0000] \"GET /products.html?session_id=jkl012 HTTP/1.1\" 302 404\n",
      "238.189.173.32 - - [26/Jun/2024:13:04:22 +0000] \"DELETE /about.html?category=home&category=fashion HTTP/1.1\" 404 1725\n",
      "188.128.112.159 - - [24/Jun/2024:09:06:22 +0000] \"DELETE /about.html?session_id=mno345&session_id=ghi789 HTTP/1.1\" 301 3414\n",
      "190.111.164.7 - - [21/Jun/2024:21:03:22 +0000] \"PUT /contact.html?category=electronics&session_id=def456 HTTP/1.1\" 200 -\n",
      "190.111.164.7 - - [21/Jun/2024:21:03:22 +0000] \"PUT /contact.html?category=electronics&session_id=def456 HTTP/1.1\" 200 -\n",
      "77.25.133.33 - - [23/Jun/2024:20:41:22 +0000] \"GET /products.html?session_id=jkl012 HTTP/1.1\" 200 141\n",
      "134.207.168.109 - - [21/Jun/2024:10:20:22 +0000] \"POST /index.html?product_id=774&session_id=mno345&user_id=471 HTTP/1.1\" 500 141\n",
      "15.89.35.67 - - [22/Jun/2024:20:50:22 +0000] \"GET /index.html?category=electronics HTTP/1.1\" 404 4049\n",
      "196.224.137.79 - - [22/Jun/2024:17:05:22 +0000] \"GET /about.html?category=books HTTP/1.1\" 404 1110\n",
      "NULL - - [20/Jun/2024:07:16:22 +0000] \"DELETE /services.html?category=fashion&category=books&session_id=abc123 HTTP/1.1\" 404 2572\n",
      "NULL - - [23/Jun/2024:00:20:22 +0000] \"GET /contact.html?category=home&user_id=9 HTTP/1.1\" 200 4732\n",
      "129.173.76.59 - - [24/Jun/2024:23:57:22 +0000] \"DELETE /contact.html?user_id=200&user_id=337 HTTP/1.1\" 302 2444\n",
      "15.89.35.67 - - [26/Jun/2024:03:20:22 +0000] \"PUT /login?session_id=mno345 HTTP/1.1\" 200 2053\n",
      "149.43.222.103 - - [24/Jun/2024:17:53:22 +0000] \"GET /login?user_id=883&category=books HTTP/1.1\" 404 279\n",
      "153.6.128.136 - - [24/Jun/2024:23:22:22 +0000] \"PUT /services.html?category=toys&product_id=221 HTTP/1.1\" 500 322\n",
      "NULL - - [24/Jun/2024:17:47:22 +0000] \"PUT /products.html?session_id=def456&user_id=283&session_id=def456 HTTP/1.1\" 200 1500\n",
      "86.144.221.240 - - [21/Jun/2024:09:48:22 +0000] \"PUT /faq.html?category=toys&user_id=289 HTTP/1.1\" 301 708\n",
      "86.144.221.240 - - [21/Jun/2024:09:48:22 +0000] \"PUT /faq.html?category=toys&user_id=289 HTTP/1.1\" 301 708\n",
      "90.154.68.175 - - [23/Jun/2024:22:12:22 +0000] \"DELETE /faq.html?session_id=mno345&product_id=224&session_id=ghi789 HTTP/1.1\" 404 382\n",
      "75.108.179.75 - - [24/Jun/2024:20:41:22 +0000] \"DELETE /services.html?category=home&session_id=def456 HTTP/1.1\" 200 4267\n",
      "244.113.20.63 - - [26/Jun/2024:04:27:22 +0000] \"DELETE /login?user_id=601 HTTP/1.1\" 200 2444\n",
      "190.111.164.7 - - [25/Jun/2024:16:29:22 +0000] \"GET /services.html?category=electronics&user_id=595&user_id=667 HTTP/1.1\" 302 1635\n",
      "101.137.132.71 - - [24/Jun/2024:23:47:22 +0000] \"POST /signup?category=fashion HTTP/1.1\" 200 4349\n",
      "240.57.228.32 - - [26/Jun/2024:06:35:22 +0000] \"DELETE /contact.html?product_id=685 HTTP/1.1\" 404 4918\n",
      "20.15.123.111 - - [26/Jun/2024:15:43:22 +0000] \"GET /index.html?user_id=250&user_id=968&product_id=700 HTTP/1.1\" 302 2572\n",
      "20.15.123.111 - - [26/Jun/2024:15:43:22 +0000] \"GET /index.html?user_id=250&user_id=968&product_id=700 HTTP/1.1\" 302 2572\n",
      "240.57.228.32 - - [20/Jun/2024:19:55:22 +0000] \"PUT /signup?category=electronics&product_id=410 HTTP/1.1\" 301 3254\n",
      "72.81.114.166 - - [25/Jun/2024:15:10:22 +0000] \"PUT /products.html?product_id=165&user_id=486 HTTP/1.1\" 302 4732\n",
      "153.1.47.251 - - [23/Jun/2024:08:27:22 +0000] \"PUT /index.html?product_id=833&session_id=def456 HTTP/1.1\" 302 3854\n",
      "160.229.223.17 - - [25/Jun/2024:08:06:22 +0000] \"GET /about.html?session_id=ghi789 HTTP/1.1\" 302 2444\n",
      "72.81.114.166 - - [23/Jun/2024:16:41:22 +0000] \"POST /products.html?session_id=def456&user_id=207&user_id=292 HTTP/1.1\" 301 2598\n",
      "196.224.137.79 - - [26/Jun/2024:08:18:22 +0000] \"DELETE /contact.html?category=electronics&user_id=917 HTTP/1.1\" 302 3378\n",
      "129.173.76.59 - - [24/Jun/2024:00:47:22 +0000] \"PUT /faq.html?user_id=112 HTTP/1.1\" 500 4349\n",
      "129.173.76.59 - - [25/Jun/2024:01:05:22 +0000] \"POST /login?category=home&product_id=25&user_id=242 HTTP/1.1\" 301 847\n",
      "129.173.76.59 - - [25/Jun/2024:01:05:22 +0000] \"POST /login?category=home&product_id=25&user_id=242 HTTP/1.1\" 301 847\n",
      "93.228.77.196 - - [21/Jun/2024:04:59:22 +0000] \"GET /faq.html?user_id=617&category=books&session_id=jkl012 HTTP/1.1\" 200 1500\n",
      "89.222.139.151 - - [20/Jun/2024:08:23:22 +0000] \"PUT /index.html?product_id=343&product_id=759 HTTP/1.1\" 200 3981\n",
      "93.228.77.196 - - [23/Jun/2024:14:00:22 +0000] \"DELETE /services.html?session_id=def456&product_id=1000 HTTP/1.1\" 301 3981\n",
      "248.187.87.40 - - [22/Jun/2024:12:38:22 +0000] \"PUT /login?session_id=abc123&session_id=mno345&user_id=297 HTTP/1.1\" 404 3378\n",
      "248.187.87.40 - - [22/Jun/2024:12:38:22 +0000] \"PUT /login?session_id=abc123&session_id=mno345&user_id=297 HTTP/1.1\" 404 3378\n",
      "129.173.76.59 - - [22/Jun/2024:23:21:22 +0000] \"GET /signup?product_id=297&user_id=579&session_id=abc123 HTTP/1.1\" 500 847\n",
      "86.238.237.49 - - [23/Jun/2024:03:50:22 +0000] \"PUT /contact.html?session_id=mno345&user_id=313 HTTP/1.1\" 500 2810\n",
      "77.25.133.33 - - [20/Jun/2024:00:13:22 +0000] \"PUT /index.html?category=books HTTP/1.1\" 301 4292\n",
      "72.99.191.184 - - [22/Jun/2024:19:26:22 +0000] \"POST /services.html?session_id=ghi789 HTTP/1.1\" 301 4049\n",
      "NULL - - [26/Jun/2024:04:08:22 +0000] \"PUT /faq.html?session_id=ghi789&product_id=304&product_id=399 HTTP/1.1\" 301 4049\n",
      "49.90.99.244 - - [22/Jun/2024:20:51:22 +0000] \"PUT /index.html?session_id=ghi789 HTTP/1.1\" 404 3981\n",
      "196.224.137.79 - - [21/Jun/2024:02:01:22 +0000] \"PUT /faq.html?category=electronics&category=fashion HTTP/1.1\" 500 2598\n",
      "240.57.228.32 - - [22/Jun/2024:13:12:22 +0000] \"POST /services.html?product_id=233&category=home HTTP/1.1\" 404 3217\n",
      "55.192.232.116 - - [25/Jun/2024:20:03:22 +0000] \"POST /index.html?product_id=273&product_id=323 HTTP/1.1\" 301 3432\n",
      "NULL - - [20/Jun/2024:12:00:22 +0000] \"POST /faq.html?session_id=mno345&category=toys HTTP/1.1\" 200 3981\n",
      "13.224.24.185 - - [26/Jun/2024:15:47:22 +0000] \"POST /login?user_id=1&product_id=536 HTTP/1.1\" 200 3405\n",
      "NULL - - [21/Jun/2024:11:03:22 +0000] \"POST /about.html?session_id=mno345 HTTP/1.1\" 302 596\n",
      "86.238.237.49 - - [25/Jun/2024:21:44:22 +0000] \"PUT /products.html?product_id=193&category=books HTTP/1.1\" 500 382\n",
      "62.82.168.113 - - [25/Jun/2024:21:11:22 +0000] \"POST /products.html?category=books HTTP/1.1\" 302 1635\n",
      "57.179.44.69 - - [24/Jun/2024:10:29:22 +0000] \"POST /contact.html?user_id=499&session_id=abc123&product_id=771 HTTP/1.1\" 500 4292\n",
      "196.224.137.79 - - [26/Jun/2024:14:09:22 +0000] \"PUT /faq.html?session_id=def456&category=books&user_id=383 HTTP/1.1\" 500 2598\n",
      "20.15.123.111 - - [20/Jun/2024:05:47:22 +0000] \"DELETE /faq.html?session_id=def456 HTTP/1.1\" 301 3254\n",
      "186.137.74.198 - - [23/Jun/2024:07:22:22 +0000] \"DELETE /index.html?user_id=402&product_id=867&session_id=def456 HTTP/1.1\" 500 141\n",
      "224.15.134.151 - - [26/Jun/2024:11:01:22 +0000] \"PUT /login?session_id=mno345&product_id=768&category=fashion HTTP/1.1\" 200 734\n",
      "55.192.232.116 - - [24/Jun/2024:04:25:22 +0000] \"GET /faq.html?product_id=470&product_id=652&session_id=def456 HTTP/1.1\" 404 3414\n",
      "55.192.232.116 - - [24/Jun/2024:04:25:22 +0000] \"GET /faq.html?product_id=470&product_id=652&session_id=def456 HTTP/1.1\" 404 3414\n",
      "95.191.225.234 - - [26/Jun/2024:14:13:22 +0000] \"GET /contact.html?user_id=323&user_id=857&session_id=abc123 HTTP/1.1\" 500 3378\n",
      "NULL - - [20/Jun/2024:08:56:22 +0000] \"GET /products.html?session_id=def456&product_id=789&session_id=mno345 HTTP/1.1\" 404 4732\n",
      "250.58.233.174 - - [23/Jun/2024:16:34:22 +0000] \"PUT /faq.html?product_id=720&user_id=922 HTTP/1.1\" 500 734\n",
      "77.25.133.33 - - [24/Jun/2024:05:48:22 +0000] \"POST /contact.html?session_id=def456&session_id=abc123&session_id=jkl012 HTTP/1.1\" 404 3405\n",
      "15.189.100.115 - - [22/Jun/2024:06:22:22 +0000] \"PUT /login?category=books&category=toys&user_id=280 HTTP/1.1\" 500 2517\n",
      "238.189.173.32 - - [26/Jun/2024:17:03:22 +0000] \"GET /products.html?product_id=873 HTTP/1.1\" 404 -\n",
      "13.224.24.185 - - [21/Jun/2024:02:12:22 +0000] \"PUT /signup?user_id=51 HTTP/1.1\" 404 3515\n",
      "20.15.123.111 - - [21/Jun/2024:13:18:22 +0000] \"PUT /index.html?category=books&session_id=abc123&session_id=jkl012 HTTP/1.1\" 404 1110\n",
      "190.111.164.7 - - [26/Jun/2024:16:54:22 +0000] \"DELETE /signup?category=electronics HTTP/1.1\" 200 4228\n",
      "250.58.233.174 - - [24/Jun/2024:06:16:22 +0000] \"POST /faq.html?session_id=mno345&session_id=jkl012&user_id=157 HTTP/1.1\" 301 2287\n",
      "250.58.233.174 - - [24/Jun/2024:06:16:22 +0000] \"POST /faq.html?session_id=mno345&session_id=jkl012&user_id=157 HTTP/1.1\" 301 2287\n",
      "188.128.112.159 - - [21/Jun/2024:20:11:22 +0000] \"PUT /products.html?session_id=def456&session_id=jkl012 HTTP/1.1\" 200 382\n",
      "147.77.212.177 - - [23/Jun/2024:10:24:22 +0000] \"PUT /contact.html?category=toys&session_id=ghi789 HTTP/1.1\" 404 2053\n",
      "35.239.32.150 - - [24/Jun/2024:22:57:22 +0000] \"GET /contact.html?product_id=147&user_id=796 HTTP/1.1\" 302 3144\n",
      "20.15.123.111 - - [23/Jun/2024:00:27:22 +0000] \"DELETE /products.html?user_id=98 HTTP/1.1\" 302 322\n",
      "141.199.38.146 - - [26/Jun/2024:13:26:22 +0000] \"GET /contact.html?product_id=394&category=fashion HTTP/1.1\" 301 2831\n",
      "186.137.74.198 - - [22/Jun/2024:23:39:22 +0000] \"DELETE /services.html?session_id=jkl012&product_id=10 HTTP/1.1\" 302 2120\n",
      "153.1.47.251 - - [20/Jun/2024:03:43:22 +0000] \"GET /contact.html?category=electronics&product_id=225&category=books HTTP/1.1\" 200 -\n",
      "15.189.100.115 - - [25/Jun/2024:13:04:22 +0000] \"GET /faq.html?user_id=778&user_id=654&user_id=637 HTTP/1.1\" 200 3854\n",
      "77.25.133.33 - - [22/Jun/2024:07:10:22 +0000] \"POST /about.html?user_id=431&session_id=def456&category=electronics HTTP/1.1\" 500 -\n",
      "158.20.204.46 - - [21/Jun/2024:05:06:22 +0000] \"POST /index.html?session_id=mno345&product_id=491&product_id=371 HTTP/1.1\" 200 354\n",
      "62.82.168.113 - - [22/Jun/2024:17:10:22 +0000] \"PUT /signup?user_id=137&product_id=703 HTTP/1.1\" 301 1974\n",
      "153.6.128.136 - - [26/Jun/2024:09:34:22 +0000] \"DELETE /faq.html?product_id=433&category=home HTTP/1.1\" 301 847\n",
      "224.15.134.151 - - [25/Jun/2024:23:01:22 +0000] \"DELETE /index.html?category=toys&product_id=244&category=toys HTTP/1.1\" 302 1988\n",
      "95.191.225.234 - - [25/Jun/2024:23:36:22 +0000] \"DELETE /products.html?product_id=231&session_id=jkl012 HTTP/1.1\" 301 2444\n",
      "226.49.186.58 - - [20/Jun/2024:03:01:22 +0000] \"PUT /faq.html?session_id=abc123&category=fashion&session_id=def456 HTTP/1.1\" 200 3414\n",
      "72.99.191.184 - - [21/Jun/2024:07:37:22 +0000] \"GET /signup?category=books HTTP/1.1\" 302 2572\n",
      "149.43.222.103 - - [23/Jun/2024:18:41:22 +0000] \"PUT /products.html?user_id=569&category=fashion HTTP/1.1\" 302 3515\n",
      "158.20.204.46 - - [21/Jun/2024:05:44:22 +0000] \"PUT /services.html?category=books&session_id=jkl012 HTTP/1.1\" 301 629\n",
      "158.20.204.46 - - [21/Jun/2024:05:44:22 +0000] \"PUT /services.html?category=books&session_id=jkl012 HTTP/1.1\" 301 629\n",
      "74.240.191.221 - - [22/Jun/2024:02:44:22 +0000] \"GET /faq.html?product_id=960&session_id=jkl012 HTTP/1.1\" 404 2572\n",
      "190.111.164.7 - - [26/Jun/2024:04:05:22 +0000] \"PUT /about.html?session_id=ghi789&category=toys HTTP/1.1\" 302 2517\n",
      "127.132.184.75 - - [24/Jun/2024:07:53:22 +0000] \"PUT /signup?session_id=abc123&category=home HTTP/1.1\" 200 3254\n",
      "127.132.184.75 - - [24/Jun/2024:07:53:22 +0000] \"PUT /signup?session_id=abc123&category=home HTTP/1.1\" 200 3254\n",
      "NULL - - [23/Jun/2024:17:22:22 +0000] \"PUT /index.html?product_id=622&product_id=874 HTTP/1.1\" 301 302\n",
      "NULL - - [23/Jun/2024:17:22:22 +0000] \"PUT /index.html?product_id=622&product_id=874 HTTP/1.1\" 301 302\n",
      "186.137.74.198 - - [23/Jun/2024:08:16:22 +0000] \"PUT /login?user_id=736 HTTP/1.1\" 200 2971\n",
      "186.137.74.198 - - [23/Jun/2024:08:16:22 +0000] \"PUT /login?user_id=736 HTTP/1.1\" 200 2971\n",
      "35.239.32.150 - - [19/Jun/2024:21:35:22 +0000] \"POST /about.html?product_id=715&category=fashion&session_id=mno345 HTTP/1.1\" 200 2831\n",
      "190.111.164.7 - - [22/Jun/2024:14:23:22 +0000] \"PUT /products.html?product_id=292&category=books&user_id=500 HTTP/1.1\" 301 629\n",
      "250.58.233.174 - - [25/Jun/2024:17:46:22 +0000] \"GET /faq.html?category=home&session_id=def456 HTTP/1.1\" 404 1110\n",
      "188.128.112.159 - - [24/Jun/2024:10:25:22 +0000] \"DELETE /index.html?category=fashion&user_id=994 HTTP/1.1\" 404 3508\n",
      "86.238.237.49 - - [24/Jun/2024:00:26:22 +0000] \"POST /contact.html?user_id=50&category=books HTTP/1.1\" 301 2963\n",
      "20.15.123.111 - - [25/Jun/2024:06:56:22 +0000] \"GET /faq.html?category=toys&product_id=778 HTTP/1.1\" 200 -\n",
      "141.199.38.146 - - [25/Jun/2024:05:09:22 +0000] \"PUT /services.html?product_id=86&user_id=554&session_id=def456 HTTP/1.1\" 500 2963\n",
      "89.222.139.151 - - [25/Jun/2024:01:43:22 +0000] \"GET /faq.html?user_id=960&user_id=285 HTTP/1.1\" 301 847\n",
      "89.222.139.151 - - [25/Jun/2024:01:43:22 +0000] \"GET /faq.html?user_id=960&user_id=285 HTTP/1.1\" 301 847\n",
      "86.144.221.240 - - [21/Jun/2024:13:55:22 +0000] \"POST /signup?product_id=773 HTTP/1.1\" 200 4292\n",
      "238.189.173.32 - - [22/Jun/2024:03:14:22 +0000] \"GET /faq.html?product_id=416 HTTP/1.1\" 301 4060\n",
      "248.187.87.40 - - [25/Jun/2024:12:22:22 +0000] \"DELETE /faq.html?session_id=ghi789&session_id=def456 HTTP/1.1\" 200 4292\n",
      "101.137.132.71 - - [21/Jun/2024:04:47:22 +0000] \"GET /index.html?user_id=380 HTTP/1.1\" 404 2831\n",
      "127.132.184.75 - - [26/Jun/2024:11:03:22 +0000] \"POST /services.html?category=electronics&user_id=802 HTTP/1.1\" 302 404\n",
      "89.222.139.151 - - [25/Jun/2024:03:51:22 +0000] \"GET /signup?user_id=958&category=books&user_id=999 HTTP/1.1\" 302 734\n",
      "63.113.225.225 - - [19/Jun/2024:19:38:22 +0000] \"GET /login?session_id=mno345 HTTP/1.1\" 404 1725\n",
      "72.99.191.184 - - [20/Jun/2024:13:24:22 +0000] \"POST /login?user_id=423&user_id=550&session_id=mno345 HTTP/1.1\" 301 708\n",
      "75.108.179.75 - - [26/Jun/2024:04:25:22 +0000] \"DELETE /faq.html?session_id=mno345&session_id=jkl012 HTTP/1.1\" 301 847\n",
      "95.191.225.234 - - [23/Jun/2024:21:44:22 +0000] \"GET /about.html?product_id=182 HTTP/1.1\" 200 3515\n",
      "141.199.38.146 - - [23/Jun/2024:10:56:22 +0000] \"GET /contact.html?category=home&category=electronics HTTP/1.1\" 404 3405\n",
      "226.49.186.58 - - [21/Jun/2024:18:55:22 +0000] \"GET /login?session_id=ghi789 HTTP/1.1\" 302 708\n",
      "226.49.186.58 - - [21/Jun/2024:18:55:22 +0000] \"GET /login?session_id=ghi789 HTTP/1.1\" 302 708\n",
      "129.173.76.59 - - [26/Jun/2024:12:14:22 +0000] \"PUT /signup?category=toys&session_id=def456 HTTP/1.1\" 200 3508\n",
      "127.132.184.75 - - [21/Jun/2024:20:27:22 +0000] \"PUT /index.html?user_id=394&session_id=abc123&user_id=626 HTTP/1.1\" 200 302\n",
      "248.187.87.40 - - [26/Jun/2024:14:23:22 +0000] \"PUT /index.html?user_id=760&user_id=526 HTTP/1.1\" 301 2831\n",
      "NULL - - [23/Jun/2024:15:37:22 +0000] \"PUT /services.html?user_id=603&category=toys HTTP/1.1\" 301 2661\n",
      "196.224.137.79 - - [26/Jun/2024:14:36:22 +0000] \"PUT /index.html?category=books&category=fashion&product_id=240 HTTP/1.1\" 404 2572\n",
      "13.224.24.185 - - [20/Jun/2024:08:03:22 +0000] \"DELETE /signup?category=home&user_id=431&session_id=jkl012 HTTP/1.1\" 500 3217\n",
      "151.80.55.55 - - [24/Jun/2024:00:37:22 +0000] \"POST /products.html?category=home HTTP/1.1\" 200 1500\n",
      "158.20.204.46 - - [26/Jun/2024:06:00:22 +0000] \"POST /contact.html?user_id=921 HTTP/1.1\" 302 354\n",
      "158.20.204.46 - - [26/Jun/2024:06:00:22 +0000] \"POST /contact.html?user_id=921 HTTP/1.1\" 302 354\n",
      "NULL - - [21/Jun/2024:22:14:22 +0000] \"DELETE /faq.html?session_id=abc123 HTTP/1.1\" 301 2053\n",
      "240.57.228.32 - - [21/Jun/2024:22:34:22 +0000] \"POST /index.html?session_id=mno345&product_id=121 HTTP/1.1\" 200 2598\n",
      "62.82.168.113 - - [26/Jun/2024:10:36:22 +0000] \"DELETE /services.html?user_id=182&category=toys&user_id=606 HTTP/1.1\" 404 2053\n",
      "62.82.168.113 - - [26/Jun/2024:10:36:22 +0000] \"DELETE /services.html?user_id=182&category=toys&user_id=606 HTTP/1.1\" 404 2053\n",
      "134.207.168.109 - - [25/Jun/2024:17:17:22 +0000] \"GET /index.html?session_id=def456&session_id=ghi789 HTTP/1.1\" 500 2971\n",
      "250.58.233.174 - - [23/Jun/2024:01:57:22 +0000] \"GET /about.html?category=books&product_id=827&session_id=jkl012 HTTP/1.1\" 404 4292\n",
      "137.135.249.182 - - [25/Jun/2024:22:25:22 +0000] \"PUT /signup?product_id=200 HTTP/1.1\" 301 4292\n",
      "158.20.204.46 - - [22/Jun/2024:19:24:22 +0000] \"GET /signup?session_id=abc123 HTTP/1.1\" 302 3432\n",
      "129.173.76.59 - - [24/Jun/2024:04:25:22 +0000] \"DELETE /services.html?category=electronics HTTP/1.1\" 302 2598\n",
      "15.189.100.115 - - [20/Jun/2024:01:35:22 +0000] \"POST /contact.html?user_id=565&category=fashion&product_id=111 HTTP/1.1\" 200 404\n",
      "95.191.225.234 - - [25/Jun/2024:15:25:22 +0000] \"POST /faq.html?user_id=898&category=fashion HTTP/1.1\" 200 2444\n",
      "74.240.191.221 - - [21/Jun/2024:20:20:22 +0000] \"PUT /services.html?category=fashion&category=toys HTTP/1.1\" 200 279\n",
      "74.240.191.221 - - [26/Jun/2024:13:57:22 +0000] \"PUT /about.html?user_id=549 HTTP/1.1\" 404 2963\n",
      "149.43.222.103 - - [23/Jun/2024:23:05:22 +0000] \"POST /services.html?user_id=672&session_id=mno345&product_id=441 HTTP/1.1\" 302 4918\n",
      "196.224.137.79 - - [23/Jun/2024:09:37:22 +0000] \"PUT /services.html?session_id=abc123&category=electronics&product_id=489 HTTP/1.1\" 404 3414\n",
      "72.81.114.166 - - [22/Jun/2024:12:19:22 +0000] \"GET /about.html?category=electronics&session_id=jkl012&user_id=482 HTTP/1.1\" 302 2287\n",
      "248.187.87.40 - - [26/Jun/2024:01:31:22 +0000] \"GET /products.html?session_id=abc123&session_id=jkl012 HTTP/1.1\" 301 2598\n",
      "248.187.87.40 - - [26/Jun/2024:01:31:22 +0000] \"GET /products.html?session_id=abc123&session_id=jkl012 HTTP/1.1\" 301 2598\n",
      "55.192.232.116 - - [25/Jun/2024:22:55:22 +0000] \"DELETE /login?session_id=jkl012&user_id=570&product_id=965 HTTP/1.1\" 301 2661\n",
      "190.111.164.7 - - [22/Jun/2024:09:47:22 +0000] \"GET /index.html?session_id=jkl012 HTTP/1.1\" 200 2320\n",
      "20.15.123.111 - - [26/Jun/2024:05:53:22 +0000] \"GET /services.html?category=home&session_id=mno345 HTTP/1.1\" 404 4349\n",
      "72.99.191.184 - - [19/Jun/2024:22:34:22 +0000] \"POST /faq.html?category=home&category=electronics&session_id=mno345 HTTP/1.1\" 404 596\n",
      "238.189.173.32 - - [20/Jun/2024:08:50:22 +0000] \"GET /faq.html?category=toys&session_id=abc123&session_id=abc123 HTTP/1.1\" 500 2287\n",
      "134.207.168.109 - - [20/Jun/2024:08:50:22 +0000] \"POST /products.html?category=electronics HTTP/1.1\" 301 2517\n",
      "74.240.191.221 - - [25/Jun/2024:01:53:22 +0000] \"GET /services.html?session_id=abc123&category=electronics&category=books HTTP/1.1\" 200 322\n",
      "72.81.114.166 - - [21/Jun/2024:13:09:22 +0000] \"PUT /products.html?category=books&user_id=51 HTTP/1.1\" 200 2120\n",
      "151.80.55.55 - - [21/Jun/2024:10:14:22 +0000] \"DELETE /products.html?category=electronics&category=fashion HTTP/1.1\" 302 708\n",
      "75.108.179.75 - - [24/Jun/2024:20:08:22 +0000] \"PUT /services.html?category=home&category=toys HTTP/1.1\" 301 3217\n",
      "226.49.186.58 - - [24/Jun/2024:14:19:22 +0000] \"DELETE /services.html?session_id=ghi789&user_id=401&user_id=637 HTTP/1.1\" 302 2971\n",
      "149.43.222.103 - - [25/Jun/2024:19:38:22 +0000] \"PUT /contact.html?product_id=142&product_id=733 HTTP/1.1\" 500 734\n",
      "63.113.225.225 - - [26/Jun/2024:10:27:22 +0000] \"POST /products.html?category=home&session_id=jkl012&product_id=675 HTTP/1.1\" 200 3254\n",
      "NULL - - [24/Jun/2024:17:25:22 +0000] \"DELETE /services.html?product_id=966 HTTP/1.1\" 404 3515\n",
      "151.80.55.55 - - [26/Jun/2024:00:52:22 +0000] \"PUT /services.html?category=books HTTP/1.1\" 301 3405\n",
      "75.108.179.75 - - [20/Jun/2024:00:24:22 +0000] \"GET /contact.html?product_id=490&product_id=678&category=electronics HTTP/1.1\" 302 2320\n",
      "141.199.38.146 - - [20/Jun/2024:04:19:22 +0000] \"POST /products.html?user_id=245&session_id=ghi789 HTTP/1.1\" 200 2572\n",
      "141.199.38.146 - - [20/Jun/2024:04:19:22 +0000] \"POST /products.html?user_id=245&session_id=ghi789 HTTP/1.1\" 200 2572\n",
      "15.189.100.115 - - [26/Jun/2024:07:17:22 +0000] \"PUT /signup?session_id=mno345 HTTP/1.1\" 500 3981\n",
      "15.189.100.115 - - [26/Jun/2024:07:17:22 +0000] \"PUT /signup?session_id=mno345 HTTP/1.1\" 500 3981\n",
      "NULL - - [25/Jun/2024:05:40:22 +0000] \"PUT /products.html?product_id=536 HTTP/1.1\" 404 4732\n",
      "95.191.225.234 - - [25/Jun/2024:06:31:22 +0000] \"GET /index.html?session_id=abc123 HTTP/1.1\" 302 1635\n",
      "160.229.223.17 - - [22/Jun/2024:09:51:22 +0000] \"PUT /index.html?category=books HTTP/1.1\" 302 141\n",
      "86.144.221.240 - - [26/Jun/2024:10:47:22 +0000] \"POST /signup?product_id=743 HTTP/1.1\" 200 1725\n",
      "244.113.20.63 - - [20/Jun/2024:14:58:22 +0000] \"DELETE /services.html?user_id=877&category=fashion HTTP/1.1\" 302 2053\n",
      "196.224.137.79 - - [19/Jun/2024:19:01:22 +0000] \"GET /about.html?user_id=759&product_id=399&category=fashion HTTP/1.1\" 302 2572\n",
      "196.224.137.79 - - [21/Jun/2024:12:17:22 +0000] \"PUT /products.html?product_id=430&session_id=mno345 HTTP/1.1\" 301 141\n",
      "62.82.168.113 - - [23/Jun/2024:10:40:22 +0000] \"PUT /signup?user_id=899 HTTP/1.1\" 500 -\n",
      "74.240.191.221 - - [24/Jun/2024:07:36:22 +0000] \"DELETE /login?user_id=750&category=toys HTTP/1.1\" 302 2287\n",
      "250.58.233.174 - - [21/Jun/2024:12:13:22 +0000] \"PUT /about.html?product_id=791&product_id=304 HTTP/1.1\" 301 2810\n",
      "15.189.100.115 - - [22/Jun/2024:20:27:22 +0000] \"PUT /signup?user_id=748 HTTP/1.1\" 301 1725\n",
      "224.15.134.151 - - [22/Jun/2024:17:54:22 +0000] \"PUT /contact.html?category=home&product_id=344&session_id=abc123 HTTP/1.1\" 200 2963\n",
      "188.128.112.159 - - [20/Jun/2024:02:10:22 +0000] \"DELETE /signup?session_id=ghi789&user_id=24&session_id=mno345 HTTP/1.1\" 500 4292\n",
      "188.128.112.159 - - [20/Jun/2024:02:10:22 +0000] \"DELETE /signup?session_id=ghi789&user_id=24&session_id=mno345 HTTP/1.1\" 500 4292\n",
      "248.187.87.40 - - [25/Jun/2024:03:12:22 +0000] \"POST /faq.html?session_id=ghi789&session_id=def456 HTTP/1.1\" 301 2971\n",
      "224.15.134.151 - - [25/Jun/2024:02:41:22 +0000] \"GET /login?session_id=jkl012&product_id=327 HTTP/1.1\" 500 -\n",
      "151.80.55.55 - - [24/Jun/2024:19:20:22 +0000] \"GET /about.html?category=electronics&category=electronics HTTP/1.1\" 500 2517\n",
      "224.15.134.151 - - [19/Jun/2024:23:32:22 +0000] \"GET /services.html?category=home HTTP/1.1\" 301 1988\n",
      "224.15.134.151 - - [19/Jun/2024:23:32:22 +0000] \"GET /services.html?category=home HTTP/1.1\" 301 1988\n",
      "86.238.237.49 - - [20/Jun/2024:23:16:22 +0000] \"DELETE /products.html?product_id=913&product_id=190&category=toys HTTP/1.1\" 200 3508\n",
      "86.238.237.49 - - [20/Jun/2024:23:16:22 +0000] \"DELETE /products.html?product_id=913&product_id=190&category=toys HTTP/1.1\" 200 3508\n",
      "15.89.35.67 - - [26/Jun/2024:03:57:22 +0000] \"DELETE /login?session_id=ghi789&user_id=665 HTTP/1.1\" 200 2971\n",
      "134.207.168.109 - - [23/Jun/2024:00:58:22 +0000] \"PUT /services.html?category=books&session_id=mno345 HTTP/1.1\" 302 2320\n",
      "134.207.168.109 - - [22/Jun/2024:11:30:22 +0000] \"GET /about.html?category=home HTTP/1.1\" 302 2810\n",
      "147.77.212.177 - - [20/Jun/2024:19:30:22 +0000] \"POST /services.html?product_id=306 HTTP/1.1\" 500 2444\n",
      "141.199.38.146 - - [19/Jun/2024:21:03:22 +0000] \"DELETE /index.html?user_id=895 HTTP/1.1\" 200 3144\n",
      "63.113.225.225 - - [24/Jun/2024:09:06:22 +0000] \"DELETE /login?category=fashion HTTP/1.1\" 404 4049\n",
      "13.224.24.185 - - [23/Jun/2024:04:39:22 +0000] \"POST /index.html?user_id=48&session_id=mno345 HTTP/1.1\" 302 2572\n",
      "13.224.24.185 - - [23/Jun/2024:04:39:22 +0000] \"POST /index.html?user_id=48&session_id=mno345 HTTP/1.1\" 302 2572\n",
      "224.15.134.151 - - [22/Jun/2024:00:23:22 +0000] \"DELETE /services.html?product_id=485&user_id=680&category=fashion HTTP/1.1\" 200 4349\n",
      "224.15.134.151 - - [22/Jun/2024:00:23:22 +0000] \"DELETE /services.html?product_id=485&user_id=680&category=fashion HTTP/1.1\" 200 4349\n",
      "49.90.99.244 - - [20/Jun/2024:21:15:22 +0000] \"GET /contact.html?session_id=abc123 HTTP/1.1\" 500 4267\n",
      "49.90.99.244 - - [20/Jun/2024:21:15:22 +0000] \"GET /contact.html?session_id=abc123 HTTP/1.1\" 500 4267\n",
      "74.240.191.221 - - [23/Jun/2024:17:13:22 +0000] \"DELETE /contact.html?user_id=478&product_id=748&user_id=196 HTTP/1.1\" 500 -\n",
      "75.108.179.75 - - [24/Jun/2024:21:23:22 +0000] \"PUT /faq.html?category=toys&category=electronics&product_id=824 HTTP/1.1\" 301 708\n",
      "75.108.179.75 - - [24/Jun/2024:21:23:22 +0000] \"PUT /faq.html?category=toys&category=electronics&product_id=824 HTTP/1.1\" 301 708\n",
      "151.80.55.55 - - [22/Jun/2024:03:02:22 +0000] \"PUT /products.html?session_id=jkl012&user_id=673 HTTP/1.1\" 302 2287\n",
      "89.222.139.151 - - [23/Jun/2024:23:11:22 +0000] \"DELETE /contact.html?user_id=177&product_id=218 HTTP/1.1\" 500 2320\n",
      "89.222.139.151 - - [23/Jun/2024:23:11:22 +0000] \"DELETE /contact.html?user_id=177&product_id=218 HTTP/1.1\" 500 2320\n",
      "151.80.55.55 - - [23/Jun/2024:16:39:22 +0000] \"DELETE /signup?product_id=553&user_id=914&category=electronics HTTP/1.1\" 301 1725\n",
      "151.80.55.55 - - [25/Jun/2024:05:56:22 +0000] \"DELETE /signup?user_id=344 HTTP/1.1\" 500 4267\n",
      "188.128.112.159 - - [24/Jun/2024:18:56:22 +0000] \"PUT /login?user_id=648&product_id=762&session_id=abc123 HTTP/1.1\" 200 1635\n",
      "167.53.66.101 - - [24/Jun/2024:08:38:22 +0000] \"PUT /login?session_id=jkl012&category=books HTTP/1.1\" 200 1725\n",
      "149.43.222.103 - - [21/Jun/2024:07:00:22 +0000] \"POST /services.html?category=electronics&product_id=316&session_id=ghi789 HTTP/1.1\" 301 4918\n",
      "86.144.221.240 - - [24/Jun/2024:08:13:22 +0000] \"PUT /products.html?category=fashion&category=fashion&product_id=770 HTTP/1.1\" 301 2120\n",
      "90.154.68.175 - - [24/Jun/2024:11:13:22 +0000] \"DELETE /about.html?product_id=16 HTTP/1.1\" 500 404\n",
      "8.249.233.220 - - [26/Jun/2024:04:54:22 +0000] \"GET /faq.html?session_id=mno345&category=fashion&product_id=653 HTTP/1.1\" 200 1110\n",
      "15.89.35.67 - - [25/Jun/2024:05:13:22 +0000] \"GET /login?user_id=296&session_id=jkl012&user_id=353 HTTP/1.1\" 301 2444\n",
      "77.25.133.33 - - [22/Jun/2024:22:28:22 +0000] \"PUT /services.html?user_id=626&session_id=ghi789 HTTP/1.1\" 302 4049\n",
      "63.113.225.225 - - [20/Jun/2024:16:53:22 +0000] \"DELETE /index.html?user_id=580 HTTP/1.1\" 200 847\n",
      "147.77.212.177 - - [22/Jun/2024:08:25:22 +0000] \"GET /products.html?product_id=8&product_id=167 HTTP/1.1\" 500 2661\n",
      "147.77.212.177 - - [22/Jun/2024:08:25:22 +0000] \"GET /products.html?product_id=8&product_id=167 HTTP/1.1\" 500 2661\n",
      "63.113.225.225 - - [26/Jun/2024:02:44:22 +0000] \"POST /about.html?product_id=613 HTTP/1.1\" 200 4918\n",
      "77.25.133.33 - - [23/Jun/2024:16:25:22 +0000] \"DELETE /login?user_id=438&category=books&product_id=78 HTTP/1.1\" 200 2444\n",
      "77.25.133.33 - - [23/Jun/2024:10:28:22 +0000] \"PUT /index.html?session_id=def456&category=fashion&session_id=ghi789 HTTP/1.1\" 404 382\n",
      "153.1.47.251 - - [24/Jun/2024:01:16:22 +0000] \"POST /about.html?user_id=395&category=electronics&category=electronics HTTP/1.1\" 404 382\n",
      "15.89.35.67 - - [23/Jun/2024:18:14:22 +0000] \"PUT /signup?category=home&user_id=815 HTTP/1.1\" 500 4267\n",
      "75.108.179.75 - - [20/Jun/2024:23:26:22 +0000] \"POST /contact.html?category=toys&session_id=abc123&category=home HTTP/1.1\" 404 734\n",
      "240.57.228.32 - - [25/Jun/2024:21:40:22 +0000] \"POST /contact.html?session_id=mno345 HTTP/1.1\" 404 3254\n",
      "219.108.96.228 - - [22/Jun/2024:00:38:22 +0000] \"PUT /products.html?product_id=589&session_id=abc123 HTTP/1.1\" 404 1635\n",
      "137.135.249.182 - - [25/Jun/2024:13:21:22 +0000] \"GET /about.html?category=books&product_id=504 HTTP/1.1\" 500 141\n",
      "127.132.184.75 - - [25/Jun/2024:21:37:22 +0000] \"POST /signup?user_id=845 HTTP/1.1\" 404 2963\n",
      "46.189.5.214 - - [20/Jun/2024:03:34:22 +0000] \"PUT /products.html?user_id=959&session_id=def456 HTTP/1.1\" 500 1974\n",
      "158.20.204.46 - - [25/Jun/2024:00:27:22 +0000] \"GET /products.html?user_id=820&product_id=140&user_id=414 HTTP/1.1\" 500 2831\n",
      "158.20.204.46 - - [25/Jun/2024:00:27:22 +0000] \"GET /products.html?user_id=820&product_id=140&user_id=414 HTTP/1.1\" 500 2831\n",
      "15.89.35.67 - - [24/Jun/2024:03:09:22 +0000] \"GET /products.html?user_id=523&category=books&category=electronics HTTP/1.1\" 301 1110\n",
      "15.89.35.67 - - [24/Jun/2024:03:09:22 +0000] \"GET /products.html?user_id=523&category=books&category=electronics HTTP/1.1\" 301 1110\n",
      "86.238.237.49 - - [21/Jun/2024:14:57:22 +0000] \"PUT /about.html?product_id=538 HTTP/1.1\" 302 382\n",
      "86.238.237.49 - - [21/Jun/2024:14:57:22 +0000] \"PUT /about.html?product_id=538 HTTP/1.1\" 302 382\n",
      "57.179.44.69 - - [23/Jun/2024:05:53:22 +0000] \"DELETE /faq.html?user_id=416&product_id=255 HTTP/1.1\" 302 4228\n",
      "101.137.132.71 - - [23/Jun/2024:12:32:22 +0000] \"GET /faq.html?session_id=def456 HTTP/1.1\" 200 629\n",
      "93.228.77.196 - - [21/Jun/2024:13:40:22 +0000] \"GET /faq.html?user_id=412 HTTP/1.1\" 404 708\n",
      "137.135.249.182 - - [21/Jun/2024:08:18:22 +0000] \"DELETE /about.html?category=books&product_id=230&user_id=454 HTTP/1.1\" 500 302\n",
      "151.80.55.55 - - [23/Jun/2024:23:14:22 +0000] \"POST /faq.html?product_id=19&session_id=jkl012 HTTP/1.1\" 500 279\n",
      "151.80.55.55 - - [23/Jun/2024:23:14:22 +0000] \"POST /faq.html?product_id=19&session_id=jkl012 HTTP/1.1\" 500 279\n",
      "74.240.191.221 - - [24/Jun/2024:12:52:22 +0000] \"DELETE /login?product_id=857 HTTP/1.1\" 301 2517\n",
      "NULL - - [24/Jun/2024:21:31:22 +0000] \"GET /services.html?category=fashion HTTP/1.1\" 302 4349\n",
      "NULL - - [24/Jun/2024:21:31:22 +0000] \"GET /services.html?category=fashion HTTP/1.1\" 302 4349\n",
      "93.228.77.196 - - [21/Jun/2024:22:23:22 +0000] \"POST /products.html?category=home HTTP/1.1\" 404 -\n",
      "20.15.123.111 - - [22/Jun/2024:13:44:22 +0000] \"PUT /index.html?category=electronics&product_id=900&category=electronics HTTP/1.1\" 200 1110\n",
      "20.15.123.111 - - [22/Jun/2024:13:44:22 +0000] \"PUT /index.html?category=electronics&product_id=900&category=electronics HTTP/1.1\" 200 1110\n",
      "55.192.232.116 - - [24/Jun/2024:00:43:22 +0000] \"PUT /login?session_id=def456&product_id=918 HTTP/1.1\" 301 734\n",
      "55.192.232.116 - - [24/Jun/2024:00:43:22 +0000] \"PUT /login?session_id=def456&product_id=918 HTTP/1.1\" 301 734\n",
      "77.25.133.33 - - [20/Jun/2024:08:38:22 +0000] \"GET /index.html?category=books&session_id=mno345 HTTP/1.1\" 500 629\n",
      "153.1.47.251 - - [23/Jun/2024:01:05:22 +0000] \"POST /signup?category=fashion&session_id=jkl012 HTTP/1.1\" 302 4732\n",
      "149.43.222.103 - - [26/Jun/2024:00:00:22 +0000] \"POST /login?user_id=259&category=electronics HTTP/1.1\" 404 629\n",
      "55.192.232.116 - - [25/Jun/2024:19:13:22 +0000] \"POST /about.html?session_id=abc123&user_id=977 HTTP/1.1\" 200 2444\n",
      "101.137.132.71 - - [26/Jun/2024:02:43:22 +0000] \"DELETE /signup?product_id=610&product_id=541 HTTP/1.1\" 301 4732\n",
      "196.224.137.79 - - [23/Jun/2024:21:40:22 +0000] \"DELETE /products.html?category=electronics&user_id=286&product_id=141 HTTP/1.1\" 500 -\n",
      "46.189.5.214 - - [23/Jun/2024:10:11:22 +0000] \"DELETE /faq.html?user_id=402&session_id=mno345 HTTP/1.1\" 302 708\n",
      "153.6.128.136 - - [24/Jun/2024:22:45:22 +0000] \"POST /about.html?category=fashion&category=electronics&user_id=6 HTTP/1.1\" 302 2810\n",
      "129.173.76.59 - - [21/Jun/2024:14:29:22 +0000] \"GET /faq.html?category=electronics&session_id=mno345 HTTP/1.1\" 301 3414\n",
      "188.128.112.159 - - [21/Jun/2024:03:25:22 +0000] \"GET /index.html?category=books HTTP/1.1\" 302 3254\n",
      "188.128.112.159 - - [21/Jun/2024:03:25:22 +0000] \"GET /index.html?category=books HTTP/1.1\" 302 3254\n",
      "86.144.221.240 - - [24/Jun/2024:15:25:22 +0000] \"DELETE /login?session_id=ghi789&product_id=876 HTTP/1.1\" 404 4228\n",
      "90.154.68.175 - - [20/Jun/2024:05:39:22 +0000] \"DELETE /faq.html?product_id=461 HTTP/1.1\" 302 3405\n",
      "141.199.38.146 - - [22/Jun/2024:00:20:22 +0000] \"PUT /services.html?product_id=888&user_id=161&category=toys HTTP/1.1\" 404 -\n",
      "141.199.38.146 - - [22/Jun/2024:00:20:22 +0000] \"PUT /services.html?product_id=888&user_id=161&category=toys HTTP/1.1\" 404 -\n",
      "86.238.237.49 - - [19/Jun/2024:20:22:22 +0000] \"PUT /faq.html?session_id=jkl012&product_id=989&category=home HTTP/1.1\" 301 4292\n",
      "127.132.184.75 - - [23/Jun/2024:10:17:22 +0000] \"POST /index.html?category=fashion HTTP/1.1\" 200 629\n",
      "77.25.133.33 - - [26/Jun/2024:07:26:22 +0000] \"PUT /signup?category=home&user_id=306&user_id=141 HTTP/1.1\" 404 2831\n",
      "167.53.66.101 - - [24/Jun/2024:07:30:22 +0000] \"DELETE /faq.html?category=fashion&user_id=574&session_id=def456 HTTP/1.1\" 404 4349\n",
      "151.80.55.55 - - [25/Jun/2024:13:30:22 +0000] \"DELETE /about.html?user_id=816 HTTP/1.1\" 301 302\n",
      "20.15.123.111 - - [25/Jun/2024:09:41:22 +0000] \"GET /products.html?user_id=303&product_id=725&session_id=abc123 HTTP/1.1\" 500 1725\n",
      "153.1.47.251 - - [23/Jun/2024:21:34:22 +0000] \"POST /faq.html?user_id=398&category=fashion&category=books HTTP/1.1\" 404 1974\n",
      "244.113.20.63 - - [20/Jun/2024:23:44:22 +0000] \"GET /contact.html?product_id=284&category=home HTTP/1.1\" 301 2320\n",
      "55.192.232.116 - - [24/Jun/2024:15:12:22 +0000] \"POST /services.html?session_id=mno345 HTTP/1.1\" 404 734\n",
      "196.224.137.79 - - [23/Jun/2024:05:48:22 +0000] \"DELETE /login?category=toys&category=electronics&user_id=450 HTTP/1.1\" 500 3432\n",
      "147.77.212.177 - - [23/Jun/2024:19:24:22 +0000] \"DELETE /contact.html?product_id=407&product_id=18 HTTP/1.1\" 404 708\n",
      "77.25.133.33 - - [22/Jun/2024:19:18:22 +0000] \"POST /contact.html?product_id=71&product_id=447 HTTP/1.1\" 301 2963\n",
      "240.57.228.32 - - [24/Jun/2024:01:01:22 +0000] \"PUT /signup?category=fashion&product_id=261 HTTP/1.1\" 500 4732\n",
      "147.77.212.177 - - [22/Jun/2024:03:10:22 +0000] \"POST /products.html?user_id=641&product_id=644&product_id=872 HTTP/1.1\" 404 4349\n",
      "127.132.184.75 - - [20/Jun/2024:21:36:22 +0000] \"GET /signup?user_id=698&session_id=abc123&category=electronics HTTP/1.1\" 200 3432\n",
      "15.89.35.67 - - [21/Jun/2024:19:51:22 +0000] \"DELETE /about.html?session_id=ghi789&product_id=819 HTTP/1.1\" 500 404\n",
      "149.43.222.103 - - [23/Jun/2024:16:58:22 +0000] \"PUT /signup?category=fashion&category=electronics&session_id=ghi789 HTTP/1.1\" 301 2053\n",
      "250.58.233.174 - - [26/Jun/2024:11:08:22 +0000] \"DELETE /about.html?user_id=227&user_id=371 HTTP/1.1\" 500 1500\n",
      "15.189.100.115 - - [24/Jun/2024:19:39:22 +0000] \"GET /about.html?product_id=875&product_id=314 HTTP/1.1\" 404 4349\n",
      "20.15.123.111 - - [22/Jun/2024:06:33:22 +0000] \"DELETE /index.html?session_id=mno345 HTTP/1.1\" 500 3254\n",
      "153.1.47.251 - - [22/Jun/2024:17:07:22 +0000] \"GET /about.html?session_id=abc123 HTTP/1.1\" 200 2517\n",
      "255.181.37.177 - - [26/Jun/2024:09:06:22 +0000] \"PUT /products.html?category=books&user_id=341 HTTP/1.1\" 302 322\n",
      "141.199.38.146 - - [22/Jun/2024:21:55:22 +0000] \"GET /index.html?product_id=126 HTTP/1.1\" 404 2120\n",
      "190.111.164.7 - - [25/Jun/2024:20:45:22 +0000] \"DELETE /signup?user_id=640&category=fashion&category=toys HTTP/1.1\" 301 2810\n",
      "75.108.179.75 - - [21/Jun/2024:14:25:22 +0000] \"GET /index.html?user_id=619&category=books HTTP/1.1\" 302 3508\n",
      "63.113.225.225 - - [21/Jun/2024:03:33:22 +0000] \"DELETE /about.html?category=electronics HTTP/1.1\" 200 2810\n",
      "244.113.20.63 - - [22/Jun/2024:21:50:22 +0000] \"PUT /contact.html?category=books&product_id=841&user_id=502 HTTP/1.1\" 200 629\n",
      "63.113.225.225 - - [26/Jun/2024:12:08:22 +0000] \"GET /services.html?product_id=261&product_id=869&category=electronics HTTP/1.1\" 301 4228\n",
      "49.90.99.244 - - [20/Jun/2024:19:23:22 +0000] \"POST /signup?user_id=649 HTTP/1.1\" 302 302\n",
      "8.249.233.220 - - [20/Jun/2024:03:02:22 +0000] \"PUT /signup?user_id=943 HTTP/1.1\" 404 3378\n",
      "62.82.168.113 - - [23/Jun/2024:23:11:22 +0000] \"DELETE /services.html?session_id=def456&category=fashion HTTP/1.1\" 301 708\n",
      "55.192.232.116 - - [23/Jun/2024:06:57:22 +0000] \"POST /index.html?user_id=660 HTTP/1.1\" 200 2963\n",
      "55.192.232.116 - - [23/Jun/2024:06:57:22 +0000] \"POST /index.html?user_id=660 HTTP/1.1\" 200 2963\n",
      "153.1.47.251 - - [24/Jun/2024:15:44:22 +0000] \"DELETE /login?session_id=abc123&user_id=171 HTTP/1.1\" 302 4292\n",
      "141.199.38.146 - - [23/Jun/2024:02:48:22 +0000] \"POST /contact.html?session_id=def456 HTTP/1.1\" 500 3414\n",
      "75.108.179.75 - - [22/Jun/2024:22:32:22 +0000] \"GET /contact.html?category=fashion&product_id=629 HTTP/1.1\" 404 -\n",
      "86.238.237.49 - - [23/Jun/2024:22:19:22 +0000] \"POST /faq.html?category=electronics&user_id=765&category=toys HTTP/1.1\" 200 3254\n",
      "158.20.204.46 - - [22/Jun/2024:22:35:22 +0000] \"DELETE /faq.html?session_id=mno345 HTTP/1.1\" 404 3217\n",
      "255.181.37.177 - - [25/Jun/2024:16:51:22 +0000] \"GET /faq.html?session_id=ghi789&user_id=92 HTTP/1.1\" 200 3144\n",
      "153.6.128.136 - - [23/Jun/2024:06:04:22 +0000] \"POST /signup?user_id=549&category=electronics HTTP/1.1\" 404 354\n",
      "153.6.128.136 - - [23/Jun/2024:06:04:22 +0000] \"POST /signup?user_id=549&category=electronics HTTP/1.1\" 404 354\n",
      "89.222.139.151 - - [24/Jun/2024:09:22:22 +0000] \"PUT /products.html?session_id=ghi789 HTTP/1.1\" 200 4349\n",
      "62.82.168.113 - - [20/Jun/2024:23:41:22 +0000] \"POST /index.html?category=books&category=home HTTP/1.1\" 200 -\n",
      "219.108.96.228 - - [22/Jun/2024:15:25:22 +0000] \"POST /faq.html?user_id=909&category=fashion&user_id=40 HTTP/1.1\" 302 3414\n",
      "89.222.139.151 - - [25/Jun/2024:03:18:22 +0000] \"PUT /about.html?user_id=633 HTTP/1.1\" 302 2320\n",
      "89.222.139.151 - - [25/Jun/2024:03:18:22 +0000] \"PUT /about.html?user_id=633 HTTP/1.1\" 302 2320\n",
      "15.189.100.115 - - [21/Jun/2024:19:34:22 +0000] \"DELETE /login?session_id=jkl012&product_id=302 HTTP/1.1\" 302 3414\n",
      "147.77.212.177 - - [25/Jun/2024:01:05:22 +0000] \"DELETE /products.html?category=books&category=fashion HTTP/1.1\" 500 596\n",
      "147.77.212.177 - - [25/Jun/2024:01:05:22 +0000] \"DELETE /products.html?category=books&category=fashion HTTP/1.1\" 500 596\n",
      "86.238.237.49 - - [23/Jun/2024:19:49:22 +0000] \"PUT /index.html?category=fashion&category=home HTTP/1.1\" 500 4049\n",
      "49.90.99.244 - - [20/Jun/2024:19:43:22 +0000] \"POST /about.html?user_id=119 HTTP/1.1\" 200 2120\n",
      "46.189.5.214 - - [23/Jun/2024:06:08:22 +0000] \"GET /index.html?category=books&session_id=def456&product_id=171 HTTP/1.1\" 404 708\n",
      "75.108.179.75 - - [24/Jun/2024:01:00:22 +0000] \"POST /services.html?session_id=def456&product_id=86&product_id=411 HTTP/1.1\" 500 -\n",
      "147.77.212.177 - - [21/Jun/2024:14:48:22 +0000] \"POST /index.html?user_id=959 HTTP/1.1\" 301 4060\n",
      "248.187.87.40 - - [23/Jun/2024:22:52:22 +0000] \"PUT /login?category=home HTTP/1.1\" 200 2598\n",
      "244.113.20.63 - - [25/Jun/2024:02:31:22 +0000] \"GET /about.html?session_id=def456&user_id=363&session_id=ghi789 HTTP/1.1\" 200 708\n",
      "129.173.76.59 - - [23/Jun/2024:21:49:22 +0000] \"POST /about.html?user_id=179&user_id=682&session_id=ghi789 HTTP/1.1\" 301 4732\n",
      "250.58.233.174 - - [22/Jun/2024:16:38:22 +0000] \"GET /services.html?category=electronics&category=toys HTTP/1.1\" 404 382\n",
      "72.99.191.184 - - [20/Jun/2024:05:05:22 +0000] \"DELETE /faq.html?category=toys&category=fashion HTTP/1.1\" 301 4292\n",
      "153.6.128.136 - - [25/Jun/2024:19:16:22 +0000] \"DELETE /services.html?user_id=107 HTTP/1.1\" 404 3144\n",
      "15.189.100.115 - - [20/Jun/2024:15:56:22 +0000] \"POST /contact.html?category=fashion&session_id=mno345&user_id=221 HTTP/1.1\" 302 1974\n",
      "20.15.123.111 - - [25/Jun/2024:21:04:22 +0000] \"DELETE /about.html?session_id=def456&user_id=664 HTTP/1.1\" 302 2810\n",
      "158.20.204.46 - - [22/Jun/2024:00:08:22 +0000] \"PUT /products.html?category=toys&session_id=abc123&category=home HTTP/1.1\" 302 4049\n",
      "NULL - - [25/Jun/2024:08:41:22 +0000] \"DELETE /services.html?user_id=956 HTTP/1.1\" 302 302\n",
      "15.189.100.115 - - [26/Jun/2024:08:07:22 +0000] \"GET /login?user_id=545&product_id=543 HTTP/1.1\" 302 1500\n",
      "15.189.100.115 - - [26/Jun/2024:08:07:22 +0000] \"GET /login?user_id=545&product_id=543 HTTP/1.1\" 302 1500\n",
      "196.224.137.79 - - [19/Jun/2024:22:13:22 +0000] \"PUT /faq.html?session_id=def456&session_id=abc123&category=fashion HTTP/1.1\" 500 322\n",
      "86.238.237.49 - - [25/Jun/2024:10:18:22 +0000] \"DELETE /about.html?user_id=19&session_id=abc123&category=books HTTP/1.1\" 301 3515\n",
      "86.144.221.240 - - [25/Jun/2024:14:42:22 +0000] \"GET /faq.html?product_id=322 HTTP/1.1\" 302 3405\n",
      "244.113.20.63 - - [22/Jun/2024:07:18:22 +0000] \"PUT /contact.html?product_id=9 HTTP/1.1\" 500 141\n",
      "46.189.5.214 - - [22/Jun/2024:15:44:22 +0000] \"PUT /index.html?user_id=52&category=home&session_id=abc123 HTTP/1.1\" 404 2053\n",
      "95.191.225.234 - - [25/Jun/2024:15:38:22 +0000] \"PUT /about.html?product_id=902 HTTP/1.1\" 302 2053\n",
      "49.90.99.244 - - [20/Jun/2024:23:13:22 +0000] \"PUT /faq.html?session_id=jkl012&session_id=mno345&user_id=638 HTTP/1.1\" 404 3254\n",
      "NULL - - [20/Jun/2024:20:00:22 +0000] \"PUT /login?product_id=586 HTTP/1.1\" 301 141\n",
      "129.173.76.59 - - [22/Jun/2024:02:08:22 +0000] \"PUT /index.html?product_id=640&product_id=178 HTTP/1.1\" 302 -\n",
      "NULL - - [23/Jun/2024:15:25:22 +0000] \"POST /faq.html?product_id=933&product_id=712&product_id=530 HTTP/1.1\" 404 3981\n",
      "219.108.96.228 - - [26/Jun/2024:08:05:22 +0000] \"DELETE /services.html?product_id=382&category=books HTTP/1.1\" 404 2971\n",
      "188.128.112.159 - - [24/Jun/2024:09:27:22 +0000] \"POST /signup?product_id=832 HTTP/1.1\" 302 279\n",
      "129.173.76.59 - - [25/Jun/2024:04:41:22 +0000] \"DELETE /faq.html?user_id=694&category=books HTTP/1.1\" 200 708\n",
      "240.57.228.32 - - [24/Jun/2024:02:49:22 +0000] \"GET /signup?category=fashion&user_id=872 HTTP/1.1\" 500 3432\n",
      "190.111.164.7 - - [26/Jun/2024:15:33:22 +0000] \"GET /about.html?user_id=389&session_id=abc123 HTTP/1.1\" 500 -\n",
      "188.128.112.159 - - [22/Jun/2024:07:34:22 +0000] \"POST /index.html?product_id=853 HTTP/1.1\" 302 1635\n",
      "167.53.66.101 - - [21/Jun/2024:14:56:22 +0000] \"PUT /about.html?category=electronics HTTP/1.1\" 200 3217\n",
      "134.207.168.109 - - [25/Jun/2024:05:21:22 +0000] \"GET /contact.html?category=fashion&user_id=582 HTTP/1.1\" 200 1110\n",
      "134.207.168.109 - - [25/Jun/2024:05:21:22 +0000] \"GET /contact.html?category=fashion&user_id=582 HTTP/1.1\" 200 1110\n",
      "160.229.223.17 - - [23/Jun/2024:03:16:22 +0000] \"GET /about.html?product_id=630 HTTP/1.1\" 302 2971\n",
      "167.53.66.101 - - [20/Jun/2024:19:09:22 +0000] \"GET /index.html?product_id=222 HTTP/1.1\" 404 4049\n",
      "75.108.179.75 - - [23/Jun/2024:18:31:22 +0000] \"DELETE /contact.html?category=home&session_id=jkl012&session_id=ghi789 HTTP/1.1\" 200 141\n",
      "75.108.179.75 - - [23/Jun/2024:18:31:22 +0000] \"DELETE /contact.html?category=home&session_id=jkl012&session_id=ghi789 HTTP/1.1\" 200 141\n",
      "77.25.133.33 - - [21/Jun/2024:07:13:22 +0000] \"POST /contact.html?user_id=429 HTTP/1.1\" 200 3981\n",
      "147.77.212.177 - - [26/Jun/2024:01:06:22 +0000] \"DELETE /faq.html?session_id=ghi789&user_id=838 HTTP/1.1\" 302 3254\n",
      "127.132.184.75 - - [20/Jun/2024:01:34:22 +0000] \"POST /signup?product_id=382 HTTP/1.1\" 200 596\n",
      "74.240.191.221 - - [23/Jun/2024:09:48:22 +0000] \"GET /contact.html?category=fashion&category=toys HTTP/1.1\" 301 3217\n",
      "238.189.173.32 - - [26/Jun/2024:00:49:22 +0000] \"DELETE /faq.html?user_id=875&user_id=428 HTTP/1.1\" 500 4349\n",
      "62.82.168.113 - - [25/Jun/2024:04:55:22 +0000] \"PUT /signup?product_id=348&product_id=559 HTTP/1.1\" 404 2120\n",
      "147.77.212.177 - - [26/Jun/2024:03:52:22 +0000] \"GET /faq.html?session_id=mno345&user_id=180 HTTP/1.1\" 301 2053\n",
      "219.108.96.228 - - [22/Jun/2024:01:54:22 +0000] \"POST /signup?category=books HTTP/1.1\" 404 322\n",
      "72.81.114.166 - - [22/Jun/2024:05:52:22 +0000] \"POST /index.html?session_id=def456&category=home HTTP/1.1\" 500 629\n",
      "153.6.128.136 - - [25/Jun/2024:08:44:22 +0000] \"PUT /services.html?product_id=227 HTTP/1.1\" 302 4060\n",
      "167.53.66.101 - - [26/Jun/2024:02:56:22 +0000] \"GET /services.html?category=electronics HTTP/1.1\" 302 404\n",
      "20.15.123.111 - - [23/Jun/2024:06:53:22 +0000] \"GET /services.html?user_id=950 HTTP/1.1\" 500 2810\n",
      "NULL - - [22/Jun/2024:03:47:22 +0000] \"PUT /about.html?product_id=15 HTTP/1.1\" 302 847\n",
      "NULL - - [22/Jun/2024:03:47:22 +0000] \"PUT /about.html?product_id=15 HTTP/1.1\" 302 847\n",
      "46.189.5.214 - - [25/Jun/2024:10:35:22 +0000] \"DELETE /login?user_id=713 HTTP/1.1\" 200 3981\n",
      "86.144.221.240 - - [22/Jun/2024:21:30:22 +0000] \"DELETE /faq.html?session_id=mno345&category=toys&user_id=952 HTTP/1.1\" 302 3405\n",
      "86.238.237.49 - - [23/Jun/2024:01:18:22 +0000] \"DELETE /contact.html?user_id=392&category=electronics HTTP/1.1\" 200 279\n",
      "147.77.212.177 - - [23/Jun/2024:01:49:22 +0000] \"GET /services.html?category=fashion HTTP/1.1\" 200 2831\n",
      "190.111.164.7 - - [25/Jun/2024:07:51:22 +0000] \"PUT /about.html?category=electronics&user_id=288 HTTP/1.1\" 301 708\n",
      "141.199.38.146 - - [26/Jun/2024:12:41:22 +0000] \"DELETE /services.html?session_id=abc123&category=home&category=toys HTTP/1.1\" 302 302\n",
      "149.43.222.103 - - [20/Jun/2024:11:37:22 +0000] \"DELETE /signup?user_id=995 HTTP/1.1\" 301 2120\n",
      "8.249.233.220 - - [25/Jun/2024:19:49:22 +0000] \"GET /about.html?product_id=7&user_id=659 HTTP/1.1\" 301 3414\n",
      "8.249.233.220 - - [25/Jun/2024:19:49:22 +0000] \"GET /about.html?product_id=7&user_id=659 HTTP/1.1\" 301 3414\n",
      "196.224.137.79 - - [24/Jun/2024:00:03:22 +0000] \"DELETE /index.html?product_id=381 HTTP/1.1\" 301 1500\n",
      "240.57.228.32 - - [23/Jun/2024:09:03:22 +0000] \"GET /signup?user_id=810&user_id=861&product_id=356 HTTP/1.1\" 200 -\n",
      "13.224.24.185 - - [23/Jun/2024:16:44:22 +0000] \"POST /login?session_id=ghi789&product_id=43&product_id=536 HTTP/1.1\" 404 279\n",
      "240.57.228.32 - - [22/Jun/2024:16:40:22 +0000] \"DELETE /contact.html?session_id=def456&session_id=ghi789&session_id=def456 HTTP/1.1\" 200 3508\n",
      "93.228.77.196 - - [25/Jun/2024:18:31:22 +0000] \"DELETE /services.html?product_id=974&product_id=897&category=toys HTTP/1.1\" 301 1988\n",
      "75.108.179.75 - - [21/Jun/2024:15:46:22 +0000] \"GET /about.html?session_id=mno345 HTTP/1.1\" 404 847\n",
      "226.49.186.58 - - [25/Jun/2024:08:24:22 +0000] \"PUT /services.html?user_id=609 HTTP/1.1\" 301 3254\n",
      "95.191.225.234 - - [20/Jun/2024:10:56:22 +0000] \"DELETE /login?category=home HTTP/1.1\" 301 3854\n",
      "186.137.74.198 - - [22/Jun/2024:09:34:22 +0000] \"DELETE /faq.html?session_id=mno345&category=electronics HTTP/1.1\" 500 1974\n",
      "134.207.168.109 - - [23/Jun/2024:13:32:22 +0000] \"POST /faq.html?user_id=872&category=home&product_id=372 HTTP/1.1\" 404 4732\n",
      "89.222.139.151 - - [25/Jun/2024:18:18:22 +0000] \"POST /about.html?category=books&user_id=36 HTTP/1.1\" 404 141\n",
      "101.137.132.71 - - [22/Jun/2024:14:38:22 +0000] \"GET /services.html?product_id=253&product_id=408 HTTP/1.1\" 302 2661\n",
      "137.135.249.182 - - [25/Jun/2024:14:21:22 +0000] \"POST /products.html?user_id=206 HTTP/1.1\" 302 2963\n",
      "137.135.249.182 - - [25/Jun/2024:14:21:22 +0000] \"POST /products.html?user_id=206 HTTP/1.1\" 302 2963\n",
      "255.181.37.177 - - [22/Jun/2024:19:23:22 +0000] \"DELETE /about.html?user_id=930&user_id=46&product_id=241 HTTP/1.1\" 404 3432\n",
      "75.108.179.75 - - [20/Jun/2024:06:45:22 +0000] \"PUT /services.html?session_id=ghi789&product_id=22&user_id=165 HTTP/1.1\" 500 2517\n",
      "75.108.179.75 - - [20/Jun/2024:06:45:22 +0000] \"PUT /services.html?session_id=ghi789&product_id=22&user_id=165 HTTP/1.1\" 500 2517\n",
      "137.135.249.182 - - [21/Jun/2024:18:45:22 +0000] \"DELETE /about.html?user_id=557&category=home HTTP/1.1\" 301 -\n",
      "8.249.233.220 - - [21/Jun/2024:08:38:22 +0000] \"GET /index.html?product_id=599&user_id=44&user_id=602 HTTP/1.1\" 302 2810\n",
      "186.137.74.198 - - [25/Jun/2024:17:40:22 +0000] \"PUT /login?user_id=780&user_id=654 HTTP/1.1\" 404 847\n",
      "46.189.5.214 - - [21/Jun/2024:11:56:22 +0000] \"POST /about.html?product_id=22&product_id=428&category=books HTTP/1.1\" 302 2120\n",
      "158.20.204.46 - - [25/Jun/2024:16:51:22 +0000] \"PUT /signup?user_id=43 HTTP/1.1\" 200 3854\n",
      "151.80.55.55 - - [24/Jun/2024:07:33:22 +0000] \"PUT /services.html?product_id=414&session_id=abc123 HTTP/1.1\" 302 3144\n",
      "129.173.76.59 - - [21/Jun/2024:04:03:22 +0000] \"PUT /products.html?session_id=jkl012&category=home HTTP/1.1\" 500 2810\n",
      "188.128.112.159 - - [21/Jun/2024:19:36:22 +0000] \"PUT /login?user_id=439&session_id=abc123 HTTP/1.1\" 404 2320\n",
      "158.20.204.46 - - [21/Jun/2024:07:48:22 +0000] \"GET /services.html?user_id=464 HTTP/1.1\" 301 3254\n",
      "57.179.44.69 - - [26/Jun/2024:16:51:22 +0000] \"DELETE /index.html?category=home HTTP/1.1\" 500 2831\n",
      "95.191.225.234 - - [20/Jun/2024:21:21:22 +0000] \"POST /signup?category=fashion&product_id=856&user_id=910 HTTP/1.1\" 200 734\n",
      "151.80.55.55 - - [23/Jun/2024:07:21:22 +0000] \"PUT /signup?session_id=mno345 HTTP/1.1\" 500 3508\n",
      "72.81.114.166 - - [24/Jun/2024:10:54:22 +0000] \"POST /products.html?session_id=def456&product_id=515&user_id=903 HTTP/1.1\" 200 1974\n",
      "75.108.179.75 - - [24/Jun/2024:11:09:22 +0000] \"DELETE /contact.html?product_id=145&category=fashion&session_id=abc123 HTTP/1.1\" 301 2598\n",
      "86.238.237.49 - - [22/Jun/2024:21:45:22 +0000] \"PUT /services.html?category=electronics&category=books HTTP/1.1\" 302 2831\n",
      "240.57.228.32 - - [21/Jun/2024:13:22:22 +0000] \"PUT /about.html?user_id=677&product_id=614 HTTP/1.1\" 301 3515\n",
      "20.15.123.111 - - [26/Jun/2024:16:59:22 +0000] \"GET /index.html?product_id=467 HTTP/1.1\" 200 3981\n",
      "196.224.137.79 - - [25/Jun/2024:12:12:22 +0000] \"DELETE /index.html?category=fashion HTTP/1.1\" 500 354\n",
      "196.224.137.79 - - [25/Jun/2024:12:12:22 +0000] \"DELETE /index.html?category=fashion HTTP/1.1\" 500 354\n",
      "86.144.221.240 - - [20/Jun/2024:06:53:22 +0000] \"PUT /signup?product_id=968&user_id=496&product_id=418 HTTP/1.1\" 404 629\n",
      "86.144.221.240 - - [20/Jun/2024:06:53:22 +0000] \"PUT /signup?product_id=968&user_id=496&product_id=418 HTTP/1.1\" 404 629\n",
      "NULL - - [24/Jun/2024:20:46:22 +0000] \"GET /login?product_id=943 HTTP/1.1\" 200 2053\n",
      "153.6.128.136 - - [20/Jun/2024:01:04:22 +0000] \"DELETE /login?user_id=506&user_id=296 HTTP/1.1\" 500 3981\n",
      "86.144.221.240 - - [24/Jun/2024:05:00:22 +0000] \"PUT /signup?user_id=169&product_id=446 HTTP/1.1\" 404 2287\n",
      "244.113.20.63 - - [25/Jun/2024:11:17:22 +0000] \"DELETE /products.html?product_id=990&category=books&session_id=mno345 HTTP/1.1\" 200 4918\n",
      "72.99.191.184 - - [24/Jun/2024:21:15:22 +0000] \"PUT /login?session_id=def456 HTTP/1.1\" 302 -\n",
      "90.154.68.175 - - [26/Jun/2024:08:15:22 +0000] \"GET /about.html?user_id=487&session_id=mno345&session_id=mno345 HTTP/1.1\" 200 3515\n",
      "46.189.5.214 - - [26/Jun/2024:17:24:22 +0000] \"DELETE /faq.html?session_id=def456&user_id=840&user_id=650 HTTP/1.1\" 200 2320\n",
      "188.128.112.159 - - [25/Jun/2024:11:48:22 +0000] \"GET /faq.html?user_id=724 HTTP/1.1\" 301 2053\n",
      "153.1.47.251 - - [25/Jun/2024:14:54:22 +0000] \"PUT /index.html?user_id=311&product_id=561 HTTP/1.1\" 302 1110\n",
      "13.224.24.185 - - [20/Jun/2024:19:05:22 +0000] \"PUT /products.html?user_id=449&category=electronics HTTP/1.1\" 301 4732\n",
      "244.113.20.63 - - [25/Jun/2024:19:00:22 +0000] \"DELETE /services.html?category=home&session_id=jkl012 HTTP/1.1\" 200 3144\n",
      "15.89.35.67 - - [20/Jun/2024:18:06:22 +0000] \"DELETE /products.html?user_id=464 HTTP/1.1\" 404 4918\n",
      "15.89.35.67 - - [20/Jun/2024:18:06:22 +0000] \"DELETE /products.html?user_id=464 HTTP/1.1\" 404 4918\n",
      "167.53.66.101 - - [20/Jun/2024:07:46:22 +0000] \"DELETE /faq.html?product_id=85&user_id=461 HTTP/1.1\" 404 141\n",
      "72.99.191.184 - - [20/Jun/2024:04:58:22 +0000] \"PUT /about.html?product_id=525&category=home HTTP/1.1\" 302 2287\n",
      "190.111.164.7 - - [21/Jun/2024:15:05:22 +0000] \"POST /index.html?user_id=665 HTTP/1.1\" 404 3432\n",
      "219.108.96.228 - - [25/Jun/2024:20:05:22 +0000] \"PUT /contact.html?category=fashion HTTP/1.1\" 200 1635\n",
      "86.238.237.49 - - [25/Jun/2024:17:55:22 +0000] \"GET /faq.html?user_id=88&session_id=abc123 HTTP/1.1\" 404 382\n",
      "224.15.134.151 - - [24/Jun/2024:14:10:22 +0000] \"POST /signup?product_id=170&user_id=675 HTTP/1.1\" 301 1110\n",
      "167.53.66.101 - - [21/Jun/2024:21:05:22 +0000] \"GET /signup?session_id=mno345&session_id=jkl012 HTTP/1.1\" 500 734\n",
      "72.81.114.166 - - [24/Jun/2024:12:31:22 +0000] \"GET /login?category=toys&session_id=mno345&category=books HTTP/1.1\" 301 3217\n",
      "95.191.225.234 - - [25/Jun/2024:15:53:22 +0000] \"GET /about.html?product_id=445 HTTP/1.1\" 302 4060\n",
      "13.224.24.185 - - [21/Jun/2024:13:07:22 +0000] \"PUT /products.html?product_id=175 HTTP/1.1\" 200 2444\n",
      "75.108.179.75 - - [20/Jun/2024:15:49:22 +0000] \"PUT /products.html?session_id=abc123 HTTP/1.1\" 500 847\n",
      "244.113.20.63 - - [25/Jun/2024:22:57:22 +0000] \"POST /about.html?product_id=628&session_id=mno345&category=electronics HTTP/1.1\" 200 3432\n",
      "244.113.20.63 - - [25/Jun/2024:22:57:22 +0000] \"POST /about.html?product_id=628&session_id=mno345&category=electronics HTTP/1.1\" 200 3432\n",
      "72.99.191.184 - - [21/Jun/2024:22:30:22 +0000] \"POST /signup?session_id=jkl012&session_id=mno345&session_id=def456 HTTP/1.1\" 200 2287\n",
      "101.137.132.71 - - [26/Jun/2024:04:19:22 +0000] \"PUT /signup?user_id=594&user_id=284&session_id=jkl012 HTTP/1.1\" 200 3508\n",
      "167.53.66.101 - - [21/Jun/2024:16:58:22 +0000] \"POST /products.html?user_id=110&session_id=abc123&user_id=215 HTTP/1.1\" 302 1110\n",
      "15.89.35.67 - - [21/Jun/2024:23:08:22 +0000] \"PUT /contact.html?session_id=jkl012 HTTP/1.1\" 302 596\n",
      "86.144.221.240 - - [22/Jun/2024:01:45:22 +0000] \"DELETE /products.html?product_id=94 HTTP/1.1\" 200 629\n",
      "46.189.5.214 - - [26/Jun/2024:11:27:22 +0000] \"POST /login?category=toys&user_id=49 HTTP/1.1\" 301 1635\n",
      "219.108.96.228 - - [21/Jun/2024:00:58:22 +0000] \"GET /contact.html?product_id=73&category=toys&session_id=ghi789 HTTP/1.1\" 301 4918\n",
      "NULL - - [26/Jun/2024:11:11:22 +0000] \"DELETE /contact.html?session_id=ghi789&user_id=393 HTTP/1.1\" 302 3378\n",
      "188.128.112.159 - - [20/Jun/2024:23:25:22 +0000] \"POST /signup?user_id=160 HTTP/1.1\" 302 4349\n",
      "248.187.87.40 - - [26/Jun/2024:11:26:22 +0000] \"DELETE /about.html?product_id=329 HTTP/1.1\" 404 4292\n",
      "89.222.139.151 - - [23/Jun/2024:10:47:22 +0000] \"POST /login?session_id=abc123 HTTP/1.1\" 404 4918\n",
      "137.135.249.182 - - [22/Jun/2024:10:13:22 +0000] \"GET /contact.html?category=electronics&session_id=abc123 HTTP/1.1\" 404 4349\n",
      "20.15.123.111 - - [23/Jun/2024:20:21:22 +0000] \"POST /products.html?user_id=574 HTTP/1.1\" 500 2320\n",
      "226.49.186.58 - - [24/Jun/2024:22:01:22 +0000] \"GET /login?user_id=243&user_id=933&user_id=166 HTTP/1.1\" 301 1500\n",
      "244.113.20.63 - - [23/Jun/2024:11:05:22 +0000] \"DELETE /about.html?product_id=478&user_id=939&product_id=57 HTTP/1.1\" 301 2963\n",
      "141.199.38.146 - - [25/Jun/2024:18:54:22 +0000] \"DELETE /services.html?product_id=898&user_id=114&session_id=abc123 HTTP/1.1\" 301 2444\n",
      "NULL - - [26/Jun/2024:09:07:22 +0000] \"PUT /login?session_id=jkl012 HTTP/1.1\" 500 4732\n",
      "NULL - - [26/Jun/2024:09:07:22 +0000] \"PUT /login?session_id=jkl012 HTTP/1.1\" 500 4732\n",
      "NULL - - [26/Jun/2024:04:03:22 +0000] \"POST /faq.html?user_id=879&product_id=77 HTTP/1.1\" 500 2661\n",
      "57.179.44.69 - - [26/Jun/2024:00:21:22 +0000] \"PUT /faq.html?product_id=777 HTTP/1.1\" 200 1988\n",
      "149.43.222.103 - - [25/Jun/2024:10:23:22 +0000] \"DELETE /contact.html?user_id=490&category=fashion HTTP/1.1\" 302 3405\n",
      "196.224.137.79 - - [21/Jun/2024:15:42:22 +0000] \"GET /signup?product_id=348&session_id=jkl012 HTTP/1.1\" 302 2517\n",
      "134.207.168.109 - - [23/Jun/2024:06:50:22 +0000] \"DELETE /services.html?user_id=82&product_id=343&category=books HTTP/1.1\" 404 2287\n",
      "160.229.223.17 - - [19/Jun/2024:18:48:22 +0000] \"PUT /products.html?session_id=jkl012 HTTP/1.1\" 404 1635\n",
      "129.173.76.59 - - [25/Jun/2024:16:47:22 +0000] \"GET /faq.html?product_id=935 HTTP/1.1\" 404 2053\n",
      "72.81.114.166 - - [26/Jun/2024:12:44:22 +0000] \"POST /about.html?session_id=mno345&session_id=abc123 HTTP/1.1\" 301 708\n",
      "57.179.44.69 - - [20/Jun/2024:05:39:22 +0000] \"DELETE /services.html?product_id=508&session_id=jkl012&product_id=330 HTTP/1.1\" 200 4292\n",
      "238.189.173.32 - - [20/Jun/2024:06:13:22 +0000] \"PUT /index.html?session_id=jkl012&user_id=507&session_id=mno345 HTTP/1.1\" 301 3432\n",
      "244.113.20.63 - - [19/Jun/2024:22:18:22 +0000] \"DELETE /index.html?user_id=975&user_id=791 HTTP/1.1\" 301 2444\n",
      "153.1.47.251 - - [20/Jun/2024:14:41:22 +0000] \"GET /signup?product_id=268&session_id=ghi789&session_id=abc123 HTTP/1.1\" 302 734\n",
      "153.1.47.251 - - [20/Jun/2024:14:41:22 +0000] \"GET /signup?product_id=268&session_id=ghi789&session_id=abc123 HTTP/1.1\" 302 734\n",
      "196.224.137.79 - - [26/Jun/2024:13:23:22 +0000] \"GET /index.html?product_id=4&product_id=545 HTTP/1.1\" 500 3854\n",
      "188.128.112.159 - - [23/Jun/2024:00:23:22 +0000] \"DELETE /index.html?session_id=jkl012&category=books&product_id=437 HTTP/1.1\" 500 708\n",
      "20.15.123.111 - - [23/Jun/2024:12:57:22 +0000] \"POST /signup?user_id=740 HTTP/1.1\" 200 3515\n",
      "20.15.123.111 - - [23/Jun/2024:12:57:22 +0000] \"POST /signup?user_id=740 HTTP/1.1\" 200 3515\n",
      "NULL - - [25/Jun/2024:14:45:22 +0000] \"GET /faq.html?session_id=jkl012&session_id=def456 HTTP/1.1\" 302 3254\n",
      "141.199.38.146 - - [25/Jun/2024:08:45:22 +0000] \"PUT /products.html?product_id=649&product_id=805&category=home HTTP/1.1\" 500 734\n",
      "90.154.68.175 - - [23/Jun/2024:23:23:22 +0000] \"DELETE /login?session_id=abc123&product_id=685 HTTP/1.1\" 500 2598\n",
      "90.154.68.175 - - [23/Jun/2024:23:23:22 +0000] \"DELETE /login?session_id=abc123&product_id=685 HTTP/1.1\" 500 2598\n",
      "248.187.87.40 - - [22/Jun/2024:12:15:22 +0000] \"PUT /products.html?user_id=770&product_id=852 HTTP/1.1\" 500 4292\n",
      "72.81.114.166 - - [20/Jun/2024:09:50:22 +0000] \"PUT /index.html?session_id=abc123 HTTP/1.1\" 500 302\n",
      "89.222.139.151 - - [19/Jun/2024:22:46:22 +0000] \"POST /products.html?product_id=174 HTTP/1.1\" 301 2971\n",
      "89.222.139.151 - - [19/Jun/2024:22:46:22 +0000] \"POST /products.html?product_id=174 HTTP/1.1\" 301 2971\n",
      "77.25.133.33 - - [20/Jun/2024:14:00:22 +0000] \"GET /signup?category=home&session_id=ghi789&category=electronics HTTP/1.1\" 302 1974\n",
      "77.25.133.33 - - [20/Jun/2024:14:00:22 +0000] \"GET /signup?category=home&session_id=ghi789&category=electronics HTTP/1.1\" 302 1974\n",
      "72.81.114.166 - - [26/Jun/2024:05:33:22 +0000] \"GET /contact.html?product_id=606 HTTP/1.1\" 200 4267\n",
      "55.192.232.116 - - [26/Jun/2024:07:10:22 +0000] \"DELETE /products.html?category=electronics HTTP/1.1\" 500 404\n",
      "15.189.100.115 - - [25/Jun/2024:04:30:22 +0000] \"DELETE /services.html?session_id=mno345&product_id=929 HTTP/1.1\" 301 4732\n",
      "149.43.222.103 - - [24/Jun/2024:22:37:22 +0000] \"DELETE /contact.html?category=books&product_id=369&category=home HTTP/1.1\" 500 1974\n",
      "8.249.233.220 - - [22/Jun/2024:16:11:22 +0000] \"GET /contact.html?product_id=423&product_id=745 HTTP/1.1\" 301 -\n",
      "101.137.132.71 - - [20/Jun/2024:18:49:22 +0000] \"GET /about.html?user_id=103 HTTP/1.1\" 200 1988\n",
      "74.240.191.221 - - [23/Jun/2024:13:26:22 +0000] \"PUT /services.html?category=home HTTP/1.1\" 500 382\n",
      "74.240.191.221 - - [23/Jun/2024:13:26:22 +0000] \"PUT /services.html?category=home HTTP/1.1\" 500 382\n",
      "57.179.44.69 - - [23/Jun/2024:18:30:22 +0000] \"DELETE /login?session_id=abc123&user_id=835 HTTP/1.1\" 302 3405\n",
      "72.99.191.184 - - [20/Jun/2024:22:20:22 +0000] \"PUT /products.html?product_id=830&session_id=jkl012 HTTP/1.1\" 200 382\n",
      "72.99.191.184 - - [20/Jun/2024:22:20:22 +0000] \"PUT /products.html?product_id=830&session_id=jkl012 HTTP/1.1\" 200 382\n",
      "224.15.134.151 - - [25/Jun/2024:14:27:22 +0000] \"DELETE /about.html?product_id=711 HTTP/1.1\" 302 2831\n",
      "186.137.74.198 - - [22/Jun/2024:19:38:22 +0000] \"GET /login?user_id=422&product_id=447 HTTP/1.1\" 302 4267\n",
      "186.137.74.198 - - [22/Jun/2024:19:38:22 +0000] \"GET /login?user_id=422&product_id=447 HTTP/1.1\" 302 4267\n",
      "244.113.20.63 - - [26/Jun/2024:12:37:22 +0000] \"POST /products.html?product_id=330&session_id=mno345&user_id=436 HTTP/1.1\" 500 2053\n",
      "219.108.96.228 - - [24/Jun/2024:20:50:22 +0000] \"PUT /products.html?user_id=756 HTTP/1.1\" 200 404\n",
      "72.81.114.166 - - [23/Jun/2024:12:25:22 +0000] \"POST /services.html?product_id=96&user_id=821 HTTP/1.1\" 404 382\n",
      "95.191.225.234 - - [22/Jun/2024:11:09:22 +0000] \"POST /login?category=electronics&user_id=352&session_id=def456 HTTP/1.1\" 301 3254\n",
      "167.53.66.101 - - [23/Jun/2024:16:45:22 +0000] \"DELETE /index.html?session_id=jkl012&session_id=ghi789&user_id=552 HTTP/1.1\" 302 847\n",
      "NULL - - [22/Jun/2024:06:21:22 +0000] \"POST /index.html?product_id=191&category=books&user_id=430 HTTP/1.1\" 302 3515\n",
      "NULL - - [22/Jun/2024:06:21:22 +0000] \"POST /index.html?product_id=191&category=books&user_id=430 HTTP/1.1\" 302 3515\n",
      "49.90.99.244 - - [26/Jun/2024:16:10:22 +0000] \"GET /products.html?category=books HTTP/1.1\" 302 2517\n",
      "196.224.137.79 - - [20/Jun/2024:10:18:22 +0000] \"GET /signup?category=fashion&category=books HTTP/1.1\" 302 4349\n",
      "13.224.24.185 - - [20/Jun/2024:23:56:22 +0000] \"POST /products.html?user_id=897&session_id=def456 HTTP/1.1\" 404 -\n",
      "93.228.77.196 - - [22/Jun/2024:21:57:22 +0000] \"DELETE /login?session_id=ghi789&user_id=975 HTTP/1.1\" 302 2661\n",
      "93.228.77.196 - - [22/Jun/2024:21:57:22 +0000] \"DELETE /login?session_id=ghi789&user_id=975 HTTP/1.1\" 302 2661\n",
      "240.57.228.32 - - [24/Jun/2024:18:23:22 +0000] \"POST /index.html?user_id=804 HTTP/1.1\" 302 1988\n",
      "15.89.35.67 - - [26/Jun/2024:12:38:22 +0000] \"GET /about.html?product_id=485&user_id=940 HTTP/1.1\" 200 141\n",
      "15.89.35.67 - - [26/Jun/2024:09:06:22 +0000] \"PUT /products.html?category=books&user_id=928&category=fashion HTTP/1.1\" 200 3405\n",
      "13.224.24.185 - - [24/Jun/2024:02:38:22 +0000] \"PUT /services.html?session_id=mno345&category=toys HTTP/1.1\" 500 4228\n",
      "244.113.20.63 - - [25/Jun/2024:11:53:22 +0000] \"GET /services.html?category=electronics&product_id=869&session_id=abc123 HTTP/1.1\" 302 2963\n",
      "160.229.223.17 - - [23/Jun/2024:08:09:22 +0000] \"DELETE /services.html?user_id=893 HTTP/1.1\" 500 4918\n",
      "160.229.223.17 - - [23/Jun/2024:08:09:22 +0000] \"DELETE /services.html?user_id=893 HTTP/1.1\" 500 4918\n",
      "127.132.184.75 - - [25/Jun/2024:07:55:22 +0000] \"POST /contact.html?user_id=309&user_id=257 HTTP/1.1\" 500 3854\n",
      "93.228.77.196 - - [25/Jun/2024:06:57:22 +0000] \"DELETE /contact.html?user_id=112&product_id=25&user_id=130 HTTP/1.1\" 302 4060\n",
      "160.229.223.17 - - [26/Jun/2024:16:23:22 +0000] \"PUT /login?session_id=abc123&session_id=ghi789 HTTP/1.1\" 200 1725\n",
      "250.58.233.174 - - [23/Jun/2024:13:53:22 +0000] \"PUT /login?category=electronics HTTP/1.1\" 200 -\n",
      "NULL - - [24/Jun/2024:15:24:22 +0000] \"POST /signup?category=toys&user_id=191 HTTP/1.1\" 200 2120\n",
      "149.43.222.103 - - [21/Jun/2024:07:08:22 +0000] \"DELETE /login?product_id=980&product_id=880 HTTP/1.1\" 302 302\n",
      "74.240.191.221 - - [23/Jun/2024:10:03:22 +0000] \"DELETE /faq.html?session_id=mno345&session_id=jkl012&product_id=316 HTTP/1.1\" 404 2287\n",
      "NULL - - [22/Jun/2024:05:12:22 +0000] \"POST /about.html?category=fashion HTTP/1.1\" 404 4918\n",
      "153.1.47.251 - - [23/Jun/2024:16:21:22 +0000] \"PUT /login?session_id=abc123&session_id=abc123 HTTP/1.1\" 301 708\n",
      "153.1.47.251 - - [26/Jun/2024:13:21:22 +0000] \"GET /contact.html?category=electronics&category=toys&session_id=ghi789 HTTP/1.1\" 404 4732\n",
      "20.15.123.111 - - [21/Jun/2024:23:34:22 +0000] \"DELETE /signup?category=fashion HTTP/1.1\" 301 2963\n",
      "101.137.132.71 - - [23/Jun/2024:00:39:22 +0000] \"DELETE /index.html?category=home&category=electronics&product_id=743 HTTP/1.1\" 301 4349\n",
      "57.179.44.69 - - [23/Jun/2024:18:49:22 +0000] \"GET /contact.html?session_id=mno345&user_id=655&product_id=334 HTTP/1.1\" 301 3254\n",
      "75.108.179.75 - - [21/Jun/2024:13:43:22 +0000] \"PUT /index.html?session_id=def456 HTTP/1.1\" 200 1988\n",
      "20.15.123.111 - - [24/Jun/2024:17:11:22 +0000] \"GET /index.html?session_id=mno345&user_id=205&product_id=272 HTTP/1.1\" 404 3515\n",
      "93.228.77.196 - - [24/Jun/2024:01:37:22 +0000] \"GET /about.html?session_id=abc123 HTTP/1.1\" 302 734\n",
      "188.128.112.159 - - [21/Jun/2024:00:11:22 +0000] \"GET /login?category=fashion&session_id=def456 HTTP/1.1\" 404 2661\n",
      "248.187.87.40 - - [21/Jun/2024:23:23:22 +0000] \"GET /contact.html?session_id=ghi789 HTTP/1.1\" 200 708\n",
      "147.77.212.177 - - [24/Jun/2024:23:33:22 +0000] \"POST /services.html?product_id=316 HTTP/1.1\" 200 1635\n",
      "250.58.233.174 - - [25/Jun/2024:17:37:22 +0000] \"POST /contact.html?category=fashion&category=books HTTP/1.1\" 404 2320\n",
      "NULL - - [21/Jun/2024:04:00:22 +0000] \"PUT /products.html?user_id=916 HTTP/1.1\" 404 708\n",
      "86.144.221.240 - - [26/Jun/2024:06:03:22 +0000] \"PUT /products.html?session_id=def456 HTTP/1.1\" 200 302\n",
      "86.144.221.240 - - [26/Jun/2024:06:03:22 +0000] \"PUT /products.html?session_id=def456 HTTP/1.1\" 200 302\n",
      "101.137.132.71 - - [24/Jun/2024:06:11:22 +0000] \"PUT /contact.html?category=fashion&product_id=565&user_id=181 HTTP/1.1\" 500 3508\n",
      "74.240.191.221 - - [24/Jun/2024:03:03:22 +0000] \"DELETE /services.html?user_id=979&category=toys HTTP/1.1\" 302 1635\n",
      "190.111.164.7 - - [25/Jun/2024:19:02:22 +0000] \"GET /signup?category=electronics&user_id=327&user_id=490 HTTP/1.1\" 404 2053\n",
      "15.189.100.115 - - [23/Jun/2024:20:57:22 +0000] \"POST /signup?session_id=jkl012 HTTP/1.1\" 200 4049\n",
      "57.179.44.69 - - [22/Jun/2024:19:40:22 +0000] \"POST /index.html?session_id=def456&category=toys HTTP/1.1\" 500 322\n",
      "134.207.168.109 - - [20/Jun/2024:22:22:22 +0000] \"GET /signup?session_id=jkl012&user_id=590 HTTP/1.1\" 500 2971\n",
      "75.108.179.75 - - [24/Jun/2024:13:27:22 +0000] \"PUT /faq.html?category=home HTTP/1.1\" 500 2287\n",
      "86.144.221.240 - - [25/Jun/2024:15:44:22 +0000] \"POST /faq.html?session_id=abc123&session_id=jkl012&product_id=790 HTTP/1.1\" 301 847\n",
      "153.6.128.136 - - [23/Jun/2024:02:50:22 +0000] \"PUT /about.html?product_id=919&product_id=15&category=books HTTP/1.1\" 500 279\n",
      "137.135.249.182 - - [22/Jun/2024:02:48:22 +0000] \"PUT /services.html?product_id=385 HTTP/1.1\" 301 1635\n",
      "238.189.173.32 - - [23/Jun/2024:21:50:22 +0000] \"PUT /products.html?product_id=156 HTTP/1.1\" 301 2120\n",
      "188.128.112.159 - - [20/Jun/2024:18:48:22 +0000] \"GET /signup?session_id=jkl012&category=electronics&product_id=279 HTTP/1.1\" 302 2320\n",
      "186.137.74.198 - - [21/Jun/2024:13:56:22 +0000] \"PUT /products.html?category=toys&category=toys HTTP/1.1\" 301 847\n",
      "75.108.179.75 - - [22/Jun/2024:03:57:22 +0000] \"PUT /signup?user_id=300 HTTP/1.1\" 404 2444\n",
      "57.179.44.69 - - [20/Jun/2024:23:45:22 +0000] \"GET /index.html?session_id=mno345 HTTP/1.1\" 301 2971\n",
      "NULL - - [26/Jun/2024:07:54:22 +0000] \"POST /about.html?product_id=669&category=electronics&product_id=655 HTTP/1.1\" 500 3854\n",
      "86.238.237.49 - - [24/Jun/2024:14:19:22 +0000] \"DELETE /contact.html?session_id=ghi789 HTTP/1.1\" 200 2120\n",
      "13.224.24.185 - - [25/Jun/2024:05:45:22 +0000] \"DELETE /index.html?user_id=265 HTTP/1.1\" 302 2517\n",
      "13.224.24.185 - - [25/Jun/2024:05:45:22 +0000] \"DELETE /index.html?user_id=265 HTTP/1.1\" 302 2517\n",
      "226.49.186.58 - - [23/Jun/2024:13:20:22 +0000] \"PUT /products.html?product_id=727 HTTP/1.1\" 200 2831\n",
      "160.229.223.17 - - [23/Jun/2024:02:27:22 +0000] \"POST /about.html?user_id=313&product_id=800&session_id=abc123 HTTP/1.1\" 302 3854\n",
      "86.238.237.49 - - [20/Jun/2024:16:48:22 +0000] \"POST /faq.html?user_id=433&product_id=752&session_id=abc123 HTTP/1.1\" 404 -\n",
      "86.238.237.49 - - [20/Jun/2024:01:58:22 +0000] \"POST /products.html?category=fashion&session_id=def456 HTTP/1.1\" 200 354\n",
      "86.238.237.49 - - [20/Jun/2024:01:58:22 +0000] \"POST /products.html?category=fashion&session_id=def456 HTTP/1.1\" 200 354\n",
      "226.49.186.58 - - [24/Jun/2024:11:08:22 +0000] \"DELETE /contact.html?user_id=318 HTTP/1.1\" 302 708\n",
      "90.154.68.175 - - [20/Jun/2024:03:06:22 +0000] \"DELETE /contact.html?product_id=684&session_id=jkl012 HTTP/1.1\" 200 3515\n",
      "NULL - - [25/Jun/2024:08:35:22 +0000] \"DELETE /signup?user_id=964&user_id=209&session_id=ghi789 HTTP/1.1\" 301 3515\n",
      "141.199.38.146 - - [20/Jun/2024:05:55:22 +0000] \"DELETE /products.html?category=fashion&product_id=908&product_id=992 HTTP/1.1\" 200 3854\n",
      "46.189.5.214 - - [20/Jun/2024:22:28:22 +0000] \"DELETE /login?product_id=52 HTTP/1.1\" 404 629\n",
      "244.113.20.63 - - [20/Jun/2024:17:30:22 +0000] \"DELETE /signup?session_id=mno345 HTTP/1.1\" 200 354\n",
      "20.15.123.111 - - [26/Jun/2024:07:00:22 +0000] \"POST /index.html?user_id=885 HTTP/1.1\" 500 3515\n",
      "74.240.191.221 - - [22/Jun/2024:13:44:22 +0000] \"DELETE /about.html?product_id=495&product_id=835 HTTP/1.1\" 301 -\n",
      "90.154.68.175 - - [25/Jun/2024:04:21:22 +0000] \"GET /contact.html?user_id=776&user_id=497 HTTP/1.1\" 500 3405\n",
      "90.154.68.175 - - [24/Jun/2024:03:38:22 +0000] \"GET /contact.html?user_id=403 HTTP/1.1\" 302 2572\n",
      "101.137.132.71 - - [26/Jun/2024:03:28:22 +0000] \"POST /faq.html?user_id=195&product_id=8 HTTP/1.1\" 500 -\n",
      "101.137.132.71 - - [26/Jun/2024:03:28:22 +0000] \"POST /faq.html?user_id=195&product_id=8 HTTP/1.1\" 500 -\n",
      "86.238.237.49 - - [26/Jun/2024:02:01:22 +0000] \"DELETE /contact.html?category=home&session_id=jkl012&product_id=117 HTTP/1.1\" 200 2572\n",
      "74.240.191.221 - - [26/Jun/2024:14:46:22 +0000] \"GET /signup?product_id=495 HTTP/1.1\" 302 3515\n",
      "74.240.191.221 - - [26/Jun/2024:14:46:22 +0000] \"GET /signup?product_id=495 HTTP/1.1\" 302 3515\n",
      "238.189.173.32 - - [22/Jun/2024:08:45:22 +0000] \"POST /products.html?session_id=def456&category=toys HTTP/1.1\" 301 2517\n",
      "250.58.233.174 - - [21/Jun/2024:13:58:22 +0000] \"GET /contact.html?category=home&product_id=549&user_id=338 HTTP/1.1\" 302 734\n",
      "101.137.132.71 - - [24/Jun/2024:03:28:22 +0000] \"DELETE /login?category=fashion HTTP/1.1\" 404 4228\n",
      "141.199.38.146 - - [22/Jun/2024:05:55:22 +0000] \"POST /faq.html?user_id=277&session_id=def456 HTTP/1.1\" 302 4732\n",
      "141.199.38.146 - - [22/Jun/2024:05:55:22 +0000] \"POST /faq.html?user_id=277&session_id=def456 HTTP/1.1\" 302 4732\n",
      "134.207.168.109 - - [26/Jun/2024:01:59:22 +0000] \"GET /about.html?product_id=177&product_id=682 HTTP/1.1\" 200 2598\n",
      "15.89.35.67 - - [25/Jun/2024:05:54:22 +0000] \"DELETE /products.html?user_id=971 HTTP/1.1\" 302 2287\n",
      "55.192.232.116 - - [24/Jun/2024:19:00:22 +0000] \"GET /login?session_id=abc123&user_id=673 HTTP/1.1\" 404 3515\n",
      "86.144.221.240 - - [22/Jun/2024:03:30:22 +0000] \"PUT /about.html?session_id=mno345&category=toys HTTP/1.1\" 404 354\n",
      "188.128.112.159 - - [24/Jun/2024:19:12:22 +0000] \"POST /about.html?session_id=def456 HTTP/1.1\" 302 596\n",
      "93.228.77.196 - - [24/Jun/2024:10:03:22 +0000] \"DELETE /services.html?category=fashion HTTP/1.1\" 200 3217\n",
      "238.189.173.32 - - [21/Jun/2024:01:54:22 +0000] \"PUT /about.html?session_id=def456&session_id=ghi789&category=home HTTP/1.1\" 404 1500\n",
      "151.80.55.55 - - [23/Jun/2024:14:45:22 +0000] \"POST /about.html?session_id=def456&product_id=375 HTTP/1.1\" 200 4060\n",
      "147.77.212.177 - - [23/Jun/2024:21:19:22 +0000] \"PUT /services.html?user_id=892&user_id=957&category=home HTTP/1.1\" 200 382\n",
      "77.25.133.33 - - [24/Jun/2024:07:06:22 +0000] \"DELETE /faq.html?user_id=128 HTTP/1.1\" 301 4228\n",
      "57.179.44.69 - - [22/Jun/2024:16:13:22 +0000] \"GET /products.html?user_id=678 HTTP/1.1\" 404 4267\n",
      "63.113.225.225 - - [23/Jun/2024:14:58:22 +0000] \"DELETE /contact.html?category=home HTTP/1.1\" 302 3144\n",
      "NULL - - [24/Jun/2024:22:46:22 +0000] \"POST /signup?category=books&session_id=ghi789 HTTP/1.1\" 301 1635\n",
      "248.187.87.40 - - [25/Jun/2024:08:47:22 +0000] \"DELETE /services.html?category=books&user_id=951 HTTP/1.1\" 404 382\n",
      "248.187.87.40 - - [25/Jun/2024:08:47:22 +0000] \"DELETE /services.html?category=books&user_id=951 HTTP/1.1\" 404 382\n",
      "250.58.233.174 - - [26/Jun/2024:01:57:22 +0000] \"POST /signup?category=toys HTTP/1.1\" 302 1500\n",
      "46.189.5.214 - - [21/Jun/2024:06:06:22 +0000] \"PUT /faq.html?product_id=917 HTTP/1.1\" 200 3217\n",
      "137.135.249.182 - - [25/Jun/2024:16:52:22 +0000] \"POST /signup?user_id=160&user_id=758&product_id=506 HTTP/1.1\" 302 3432\n",
      "86.238.237.49 - - [21/Jun/2024:04:41:22 +0000] \"POST /contact.html?category=fashion&user_id=432 HTTP/1.1\" 301 4060\n",
      "NULL - - [21/Jun/2024:22:41:22 +0000] \"PUT /contact.html?product_id=398 HTTP/1.1\" 200 734\n",
      "NULL - - [21/Jun/2024:22:41:22 +0000] \"PUT /contact.html?product_id=398 HTTP/1.1\" 200 734\n",
      "86.144.221.240 - - [24/Jun/2024:09:54:22 +0000] \"GET /login?session_id=mno345 HTTP/1.1\" 404 4349\n",
      "13.224.24.185 - - [24/Jun/2024:04:36:22 +0000] \"PUT /login?category=books HTTP/1.1\" 404 2661\n",
      "149.43.222.103 - - [22/Jun/2024:02:17:22 +0000] \"PUT /about.html?session_id=ghi789&user_id=869&category=fashion HTTP/1.1\" 301 -\n",
      "62.82.168.113 - - [20/Jun/2024:01:14:22 +0000] \"POST /index.html?product_id=241&session_id=def456 HTTP/1.1\" 500 3405\n",
      "62.82.168.113 - - [20/Jun/2024:01:14:22 +0000] \"POST /index.html?product_id=241&session_id=def456 HTTP/1.1\" 500 3405\n",
      "129.173.76.59 - - [20/Jun/2024:01:46:22 +0000] \"PUT /faq.html?session_id=jkl012&user_id=899&product_id=835 HTTP/1.1\" 302 3217\n",
      "250.58.233.174 - - [24/Jun/2024:02:27:22 +0000] \"PUT /login?category=fashion&category=electronics&category=toys HTTP/1.1\" 404 4267\n",
      "57.179.44.69 - - [25/Jun/2024:06:59:22 +0000] \"GET /services.html?product_id=672 HTTP/1.1\" 200 3378\n",
      "244.113.20.63 - - [21/Jun/2024:13:11:22 +0000] \"GET /faq.html?session_id=ghi789 HTTP/1.1\" 302 847\n",
      "20.15.123.111 - - [25/Jun/2024:01:25:22 +0000] \"GET /index.html?session_id=abc123&session_id=def456&session_id=ghi789 HTTP/1.1\" 404 2572\n",
      "129.173.76.59 - - [26/Jun/2024:06:22:22 +0000] \"PUT /signup?session_id=def456 HTTP/1.1\" 301 2831\n",
      "35.239.32.150 - - [20/Jun/2024:02:25:22 +0000] \"POST /faq.html?user_id=106 HTTP/1.1\" 302 3981\n",
      "134.207.168.109 - - [25/Jun/2024:13:40:22 +0000] \"GET /services.html?session_id=jkl012&category=books&product_id=458 HTTP/1.1\" 200 4292\n",
      "93.228.77.196 - - [20/Jun/2024:11:58:22 +0000] \"POST /faq.html?session_id=mno345 HTTP/1.1\" 301 2810\n",
      "226.49.186.58 - - [21/Jun/2024:05:02:22 +0000] \"DELETE /about.html?product_id=661&product_id=123 HTTP/1.1\" 200 4267\n",
      "240.57.228.32 - - [23/Jun/2024:15:26:22 +0000] \"DELETE /services.html?user_id=22 HTTP/1.1\" 500 2963\n",
      "240.57.228.32 - - [20/Jun/2024:13:58:22 +0000] \"PUT /login?product_id=88 HTTP/1.1\" 404 3508\n",
      "158.20.204.46 - - [19/Jun/2024:19:20:22 +0000] \"POST /index.html?category=fashion&session_id=def456&user_id=824 HTTP/1.1\" 302 4267\n",
      "90.154.68.175 - - [24/Jun/2024:14:34:22 +0000] \"GET /login?session_id=jkl012&user_id=681&session_id=abc123 HTTP/1.1\" 200 2053\n",
      "129.173.76.59 - - [24/Jun/2024:03:19:22 +0000] \"GET /about.html?product_id=126&category=fashion&product_id=327 HTTP/1.1\" 500 141\n",
      "15.89.35.67 - - [21/Jun/2024:13:27:22 +0000] \"DELETE /services.html?product_id=328 HTTP/1.1\" 200 2053\n",
      "62.82.168.113 - - [22/Jun/2024:05:44:22 +0000] \"GET /services.html?session_id=jkl012 HTTP/1.1\" 301 596\n",
      "224.15.134.151 - - [23/Jun/2024:03:22:22 +0000] \"PUT /contact.html?user_id=784&product_id=583&product_id=798 HTTP/1.1\" 200 2810\n",
      "224.15.134.151 - - [23/Jun/2024:03:22:22 +0000] \"PUT /contact.html?user_id=784&product_id=583&product_id=798 HTTP/1.1\" 200 2810\n",
      "15.189.100.115 - - [22/Jun/2024:16:50:22 +0000] \"POST /services.html?product_id=559 HTTP/1.1\" 301 382\n",
      "127.132.184.75 - - [22/Jun/2024:19:19:22 +0000] \"GET /signup?session_id=mno345&user_id=997&user_id=466 HTTP/1.1\" 200 3217\n",
      "93.228.77.196 - - [25/Jun/2024:07:34:22 +0000] \"DELETE /faq.html?session_id=def456&product_id=569 HTTP/1.1\" 500 2598\n",
      "72.81.114.166 - - [22/Jun/2024:21:34:22 +0000] \"GET /signup?session_id=jkl012&session_id=def456&product_id=50 HTTP/1.1\" 302 708\n",
      "153.1.47.251 - - [22/Jun/2024:00:42:22 +0000] \"GET /index.html?category=fashion&session_id=def456 HTTP/1.1\" 500 322\n",
      "90.154.68.175 - - [20/Jun/2024:16:53:22 +0000] \"GET /contact.html?user_id=307&user_id=519&session_id=def456 HTTP/1.1\" 500 3144\n",
      "13.224.24.185 - - [25/Jun/2024:00:17:22 +0000] \"DELETE /index.html?session_id=abc123 HTTP/1.1\" 301 1635\n",
      "101.137.132.71 - - [21/Jun/2024:23:51:22 +0000] \"POST /login?product_id=155&product_id=826 HTTP/1.1\" 404 3405\n",
      "95.191.225.234 - - [21/Jun/2024:02:34:22 +0000] \"POST /signup?product_id=445 HTTP/1.1\" 302 3217\n",
      "188.128.112.159 - - [20/Jun/2024:06:00:22 +0000] \"PUT /contact.html?category=fashion&session_id=jkl012 HTTP/1.1\" 200 4349\n",
      "63.113.225.225 - - [26/Jun/2024:09:57:22 +0000] \"PUT /signup?category=books&category=electronics HTTP/1.1\" 200 1974\n",
      "250.58.233.174 - - [20/Jun/2024:12:05:22 +0000] \"POST /login?product_id=50&user_id=345&product_id=543 HTTP/1.1\" 302 2517\n",
      "250.58.233.174 - - [20/Jun/2024:12:05:22 +0000] \"POST /login?product_id=50&user_id=345&product_id=543 HTTP/1.1\" 302 2517\n",
      "240.57.228.32 - - [20/Jun/2024:16:57:22 +0000] \"GET /contact.html?session_id=ghi789&user_id=239 HTTP/1.1\" 500 3508\n",
      "127.132.184.75 - - [23/Jun/2024:11:32:22 +0000] \"POST /services.html?session_id=abc123 HTTP/1.1\" 301 3144\n",
      "75.108.179.75 - - [20/Jun/2024:22:55:22 +0000] \"DELETE /index.html?product_id=454&session_id=ghi789&category=fashion HTTP/1.1\" 200 3508\n",
      "75.108.179.75 - - [20/Jun/2024:22:55:22 +0000] \"DELETE /index.html?product_id=454&session_id=ghi789&category=fashion HTTP/1.1\" 200 3508\n",
      "186.137.74.198 - - [25/Jun/2024:03:40:22 +0000] \"POST /index.html?product_id=541&product_id=771 HTTP/1.1\" 500 354\n",
      "86.144.221.240 - - [19/Jun/2024:23:10:22 +0000] \"POST /services.html?category=home HTTP/1.1\" 302 1974\n",
      "101.137.132.71 - - [20/Jun/2024:21:31:22 +0000] \"DELETE /services.html?category=books&category=toys HTTP/1.1\" 301 2320\n",
      "238.189.173.32 - - [21/Jun/2024:18:21:22 +0000] \"DELETE /login?product_id=99&product_id=963 HTTP/1.1\" 301 3981\n",
      "153.1.47.251 - - [23/Jun/2024:16:57:22 +0000] \"GET /signup?category=home&session_id=mno345&product_id=307 HTTP/1.1\" 301 3515\n",
      "147.77.212.177 - - [23/Jun/2024:20:12:22 +0000] \"POST /login?product_id=15&product_id=900 HTTP/1.1\" 500 4049\n",
      "13.224.24.185 - - [25/Jun/2024:22:48:22 +0000] \"DELETE /services.html?product_id=6&session_id=abc123 HTTP/1.1\" 301 1500\n",
      "35.239.32.150 - - [20/Jun/2024:08:28:22 +0000] \"POST /index.html?product_id=170 HTTP/1.1\" 200 4292\n",
      "151.80.55.55 - - [19/Jun/2024:20:48:22 +0000] \"DELETE /index.html?user_id=834 HTTP/1.1\" 301 3508\n",
      "255.181.37.177 - - [24/Jun/2024:07:04:22 +0000] \"GET /products.html?product_id=267&category=home HTTP/1.1\" 404 1500\n",
      "\n"
     ]
    }
   ],
   "source": [
    "with open('nginx_logs - Copy.txt') as file_:\n",
    "    data = file_.read()\n",
    "    print(data)"
   ]
  },
  {
   "cell_type": "code",
   "execution_count": 3,
   "metadata": {},
   "outputs": [
    {
     "data": {
      "text/plain": [
       "str"
      ]
     },
     "execution_count": 3,
     "metadata": {},
     "output_type": "execute_result"
    }
   ],
   "source": [
    "type(data)"
   ]
  },
  {
   "cell_type": "code",
   "execution_count": 4,
   "metadata": {},
   "outputs": [
    {
     "data": {
      "text/plain": [
       "128093"
      ]
     },
     "execution_count": 4,
     "metadata": {},
     "output_type": "execute_result"
    }
   ],
   "source": [
    "# WRONG!\n",
    "len(data)"
   ]
  },
  {
   "cell_type": "code",
   "execution_count": 5,
   "metadata": {},
   "outputs": [
    {
     "data": {
      "text/plain": [
       "1129"
      ]
     },
     "execution_count": 5,
     "metadata": {},
     "output_type": "execute_result"
    }
   ],
   "source": [
    "df = pd.read_csv('nginx_logs - Copy.txt', \n",
    "                 sep=\" \", \n",
    "                 header=None)\n",
    "len(df)"
   ]
  },
  {
   "cell_type": "code",
   "execution_count": 6,
   "metadata": {},
   "outputs": [
    {
     "data": {
      "text/html": [
       "<div>\n",
       "<style scoped>\n",
       "    .dataframe tbody tr th:only-of-type {\n",
       "        vertical-align: middle;\n",
       "    }\n",
       "\n",
       "    .dataframe tbody tr th {\n",
       "        vertical-align: top;\n",
       "    }\n",
       "\n",
       "    .dataframe thead th {\n",
       "        text-align: right;\n",
       "    }\n",
       "</style>\n",
       "<table border=\"1\" class=\"dataframe\">\n",
       "  <thead>\n",
       "    <tr style=\"text-align: right;\">\n",
       "      <th></th>\n",
       "      <th>0</th>\n",
       "      <th>1</th>\n",
       "      <th>2</th>\n",
       "      <th>3</th>\n",
       "      <th>4</th>\n",
       "      <th>5</th>\n",
       "      <th>6</th>\n",
       "      <th>7</th>\n",
       "    </tr>\n",
       "  </thead>\n",
       "  <tbody>\n",
       "    <tr>\n",
       "      <th>0</th>\n",
       "      <td>74.240.191.221</td>\n",
       "      <td>-</td>\n",
       "      <td>-</td>\n",
       "      <td>[25/Jun/2024:00:06:22</td>\n",
       "      <td>+0000]</td>\n",
       "      <td>DELETE /index.html?product_id=585&amp;user_id=218 ...</td>\n",
       "      <td>200</td>\n",
       "      <td>1974</td>\n",
       "    </tr>\n",
       "    <tr>\n",
       "      <th>1</th>\n",
       "      <td>15.89.35.67</td>\n",
       "      <td>-</td>\n",
       "      <td>-</td>\n",
       "      <td>[24/Jun/2024:04:43:22</td>\n",
       "      <td>+0000]</td>\n",
       "      <td>PUT /index.html?session_id=def456&amp;session_id=m...</td>\n",
       "      <td>301</td>\n",
       "      <td>4349</td>\n",
       "    </tr>\n",
       "    <tr>\n",
       "      <th>2</th>\n",
       "      <td>158.20.204.46</td>\n",
       "      <td>-</td>\n",
       "      <td>-</td>\n",
       "      <td>[21/Jun/2024:14:54:22</td>\n",
       "      <td>+0000]</td>\n",
       "      <td>GET /contact.html?session_id=def456 HTTP/1.1</td>\n",
       "      <td>200</td>\n",
       "      <td>4060</td>\n",
       "    </tr>\n",
       "    <tr>\n",
       "      <th>3</th>\n",
       "      <td>158.20.204.46</td>\n",
       "      <td>-</td>\n",
       "      <td>-</td>\n",
       "      <td>[21/Jun/2024:14:54:22</td>\n",
       "      <td>+0000]</td>\n",
       "      <td>GET /contact.html?session_id=def456 HTTP/1.1</td>\n",
       "      <td>200</td>\n",
       "      <td>4060</td>\n",
       "    </tr>\n",
       "    <tr>\n",
       "      <th>4</th>\n",
       "      <td>238.189.173.32</td>\n",
       "      <td>-</td>\n",
       "      <td>-</td>\n",
       "      <td>[21/Jun/2024:21:33:22</td>\n",
       "      <td>+0000]</td>\n",
       "      <td>GET /signup?session_id=abc123&amp;session_id=ghi78...</td>\n",
       "      <td>500</td>\n",
       "      <td>2661</td>\n",
       "    </tr>\n",
       "  </tbody>\n",
       "</table>\n",
       "</div>"
      ],
      "text/plain": [
       "                0  1  2                      3       4  \\\n",
       "0  74.240.191.221  -  -  [25/Jun/2024:00:06:22  +0000]   \n",
       "1     15.89.35.67  -  -  [24/Jun/2024:04:43:22  +0000]   \n",
       "2   158.20.204.46  -  -  [21/Jun/2024:14:54:22  +0000]   \n",
       "3   158.20.204.46  -  -  [21/Jun/2024:14:54:22  +0000]   \n",
       "4  238.189.173.32  -  -  [21/Jun/2024:21:33:22  +0000]   \n",
       "\n",
       "                                                   5    6     7  \n",
       "0  DELETE /index.html?product_id=585&user_id=218 ...  200  1974  \n",
       "1  PUT /index.html?session_id=def456&session_id=m...  301  4349  \n",
       "2       GET /contact.html?session_id=def456 HTTP/1.1  200  4060  \n",
       "3       GET /contact.html?session_id=def456 HTTP/1.1  200  4060  \n",
       "4  GET /signup?session_id=abc123&session_id=ghi78...  500  2661  "
      ]
     },
     "execution_count": 6,
     "metadata": {},
     "output_type": "execute_result"
    }
   ],
   "source": [
    "df.head()"
   ]
  },
  {
   "cell_type": "markdown",
   "metadata": {},
   "source": [
    "## seperating requests and urls"
   ]
  },
  {
   "cell_type": "code",
   "execution_count": 7,
   "metadata": {},
   "outputs": [],
   "source": [
    "def request_method_url_seprator(df, col):\n",
    "    requests = []\n",
    "    urls = []\n",
    "    \n",
    "    for da in range(len(df)):\n",
    "        # seperating data into request and url\n",
    "        data = df[col][da].split(' /') # here ---> ['DELETE', 'index.html?product_id=585&user_id=218 HTTP/1.1']\n",
    "        # url\n",
    "        urls.append('/' + data[1])\n",
    "        # request\n",
    "        requests.append(data[0])\n",
    "    return requests , urls"
   ]
  },
  {
   "cell_type": "code",
   "execution_count": 8,
   "metadata": {},
   "outputs": [
    {
     "data": {
      "text/plain": [
       "['/index.html?product_id=585&user_id=218 HTTP/1.1',\n",
       " '/index.html?session_id=def456&session_id=mno345&user_id=709 HTTP/1.1',\n",
       " '/contact.html?session_id=def456 HTTP/1.1',\n",
       " '/contact.html?session_id=def456 HTTP/1.1',\n",
       " '/signup?session_id=abc123&session_id=ghi789 HTTP/1.1',\n",
       " '/products.html?session_id=mno345&user_id=483 HTTP/1.1',\n",
       " '/login?session_id=ghi789 HTTP/1.1',\n",
       " '/signup?session_id=ghi789 HTTP/1.1',\n",
       " '/products.html?session_id=mno345&product_id=16 HTTP/1.1']"
      ]
     },
     "execution_count": 8,
     "metadata": {},
     "output_type": "execute_result"
    }
   ],
   "source": [
    "requests, urls = request_method_url_seprator(df, 5)\n",
    "urls[:9]"
   ]
  },
  {
   "cell_type": "code",
   "execution_count": 9,
   "metadata": {},
   "outputs": [
    {
     "data": {
      "text/plain": [
       "['DELETE', 'PUT', 'GET', 'GET', 'GET', 'GET', 'POST', 'DELETE', 'DELETE']"
      ]
     },
     "execution_count": 9,
     "metadata": {},
     "output_type": "execute_result"
    }
   ],
   "source": [
    "requests[:9]"
   ]
  },
  {
   "cell_type": "code",
   "execution_count": 10,
   "metadata": {},
   "outputs": [
    {
     "data": {
      "text/html": [
       "<div>\n",
       "<style scoped>\n",
       "    .dataframe tbody tr th:only-of-type {\n",
       "        vertical-align: middle;\n",
       "    }\n",
       "\n",
       "    .dataframe tbody tr th {\n",
       "        vertical-align: top;\n",
       "    }\n",
       "\n",
       "    .dataframe thead th {\n",
       "        text-align: right;\n",
       "    }\n",
       "</style>\n",
       "<table border=\"1\" class=\"dataframe\">\n",
       "  <thead>\n",
       "    <tr style=\"text-align: right;\">\n",
       "      <th></th>\n",
       "      <th>0</th>\n",
       "      <th>1</th>\n",
       "      <th>2</th>\n",
       "      <th>3</th>\n",
       "      <th>4</th>\n",
       "      <th>5</th>\n",
       "      <th>6</th>\n",
       "      <th>7</th>\n",
       "    </tr>\n",
       "  </thead>\n",
       "  <tbody>\n",
       "    <tr>\n",
       "      <th>0</th>\n",
       "      <td>74.240.191.221</td>\n",
       "      <td>-</td>\n",
       "      <td>-</td>\n",
       "      <td>[25/Jun/2024:00:06:22</td>\n",
       "      <td>+0000]</td>\n",
       "      <td>DELETE /index.html?product_id=585&amp;user_id=218 ...</td>\n",
       "      <td>200</td>\n",
       "      <td>1974</td>\n",
       "    </tr>\n",
       "    <tr>\n",
       "      <th>1</th>\n",
       "      <td>15.89.35.67</td>\n",
       "      <td>-</td>\n",
       "      <td>-</td>\n",
       "      <td>[24/Jun/2024:04:43:22</td>\n",
       "      <td>+0000]</td>\n",
       "      <td>PUT /index.html?session_id=def456&amp;session_id=m...</td>\n",
       "      <td>301</td>\n",
       "      <td>4349</td>\n",
       "    </tr>\n",
       "    <tr>\n",
       "      <th>2</th>\n",
       "      <td>158.20.204.46</td>\n",
       "      <td>-</td>\n",
       "      <td>-</td>\n",
       "      <td>[21/Jun/2024:14:54:22</td>\n",
       "      <td>+0000]</td>\n",
       "      <td>GET /contact.html?session_id=def456 HTTP/1.1</td>\n",
       "      <td>200</td>\n",
       "      <td>4060</td>\n",
       "    </tr>\n",
       "    <tr>\n",
       "      <th>3</th>\n",
       "      <td>158.20.204.46</td>\n",
       "      <td>-</td>\n",
       "      <td>-</td>\n",
       "      <td>[21/Jun/2024:14:54:22</td>\n",
       "      <td>+0000]</td>\n",
       "      <td>GET /contact.html?session_id=def456 HTTP/1.1</td>\n",
       "      <td>200</td>\n",
       "      <td>4060</td>\n",
       "    </tr>\n",
       "    <tr>\n",
       "      <th>4</th>\n",
       "      <td>238.189.173.32</td>\n",
       "      <td>-</td>\n",
       "      <td>-</td>\n",
       "      <td>[21/Jun/2024:21:33:22</td>\n",
       "      <td>+0000]</td>\n",
       "      <td>GET /signup?session_id=abc123&amp;session_id=ghi78...</td>\n",
       "      <td>500</td>\n",
       "      <td>2661</td>\n",
       "    </tr>\n",
       "  </tbody>\n",
       "</table>\n",
       "</div>"
      ],
      "text/plain": [
       "                0  1  2                      3       4  \\\n",
       "0  74.240.191.221  -  -  [25/Jun/2024:00:06:22  +0000]   \n",
       "1     15.89.35.67  -  -  [24/Jun/2024:04:43:22  +0000]   \n",
       "2   158.20.204.46  -  -  [21/Jun/2024:14:54:22  +0000]   \n",
       "3   158.20.204.46  -  -  [21/Jun/2024:14:54:22  +0000]   \n",
       "4  238.189.173.32  -  -  [21/Jun/2024:21:33:22  +0000]   \n",
       "\n",
       "                                                   5    6     7  \n",
       "0  DELETE /index.html?product_id=585&user_id=218 ...  200  1974  \n",
       "1  PUT /index.html?session_id=def456&session_id=m...  301  4349  \n",
       "2       GET /contact.html?session_id=def456 HTTP/1.1  200  4060  \n",
       "3       GET /contact.html?session_id=def456 HTTP/1.1  200  4060  \n",
       "4  GET /signup?session_id=abc123&session_id=ghi78...  500  2661  "
      ]
     },
     "execution_count": 10,
     "metadata": {},
     "output_type": "execute_result"
    }
   ],
   "source": [
    "df.head()"
   ]
  },
  {
   "cell_type": "markdown",
   "metadata": {},
   "source": [
    "## working on timestamp"
   ]
  },
  {
   "cell_type": "code",
   "execution_count": 11,
   "metadata": {},
   "outputs": [],
   "source": [
    "def timestamp_initializer(df, col1, col2):\n",
    "    '''\n",
    "    this function combine columns 3 and 4 which are timestamp and UTCOFFSET and returns a list\n",
    "    like so:\n",
    "        input date   ===> [25/Jun/2024:00:06:22\t+0000] | HERE timestamp and UTC OFFSET are seperated!\n",
    "        data         ===> '25/Jun/2024:00:06:22 +0000'\n",
    "        output data  ===> '2024-06-24 07:04:22+00:00'  | which its data type is datetime.datetime\n",
    "    output data is datetime + UTCOFFSET and then it's ready\n",
    "    to be stored in the SQL database.  \n",
    "    '''\n",
    "    result = []\n",
    "    \n",
    "    for d in range(len(df)):\n",
    "        date = df[col1][d][1:] + ' ' + df[col2][d][:-1]\n",
    "        converted_to_datetime = datetime.strptime(date, \"%d/%b/%Y:%H:%M:%S %z\")\n",
    "        result.append(converted_to_datetime)\n",
    "    return result\n"
   ]
  },
  {
   "cell_type": "code",
   "execution_count": 12,
   "metadata": {},
   "outputs": [
    {
     "name": "stdout",
     "output_type": "stream",
     "text": [
      "2024-06-24 04:43:22+00:00\n"
     ]
    },
    {
     "data": {
      "text/plain": [
       "datetime.datetime(2024, 6, 24, 4, 43, 22, tzinfo=datetime.timezone.utc)"
      ]
     },
     "execution_count": 12,
     "metadata": {},
     "output_type": "execute_result"
    }
   ],
   "source": [
    "timestamp = timestamp_initializer(df, 3, 4)\n",
    "print(timestamp[1])\n",
    "timestamp[1]"
   ]
  },
  {
   "cell_type": "markdown",
   "metadata": {},
   "source": [
    "## creating a new dataframe"
   ]
  },
  {
   "cell_type": "code",
   "execution_count": 13,
   "metadata": {},
   "outputs": [],
   "source": [
    "def df2list(df, col):\n",
    "    data_list = []\n",
    "    for n in range(len(df)):\n",
    "        data_list.append(df[col][n])\n",
    "    return data_list"
   ]
  },
  {
   "cell_type": "code",
   "execution_count": 14,
   "metadata": {},
   "outputs": [
    {
     "name": "stdout",
     "output_type": "stream",
     "text": [
      "[200, 301, 200, 200, 500, 302, 200, 200, 302]\n",
      "\n",
      " ['1974', '4349', '4060', '4060', '2661', '629', '2661', '734', '3432'] \n",
      "\n",
      "['74.240.191.221', '15.89.35.67', '158.20.204.46', '158.20.204.46', '238.189.173.32', '190.111.164.7', '196.224.137.79', '248.187.87.40', '158.20.204.46']\n"
     ]
    }
   ],
   "source": [
    "# status code\n",
    "status_code = df2list(df, 6)\n",
    "print(status_code[:9])\n",
    "\n",
    "# response size\n",
    "response_size = df2list(df, 7)\n",
    "print('\\n', response_size[:9],'\\n')\n",
    "\n",
    "# ip address\n",
    "ip_address = df2list(df, 0)\n",
    "print(ip_address[:9])"
   ]
  },
  {
   "cell_type": "code",
   "execution_count": 15,
   "metadata": {},
   "outputs": [
    {
     "data": {
      "text/plain": [
       "61"
      ]
     },
     "execution_count": 15,
     "metadata": {},
     "output_type": "execute_result"
    }
   ],
   "source": [
    "c = 0\n",
    "for s in response_size:\n",
    "    if s == '-':\n",
    "        c += 1\n",
    "c"
   ]
  },
  {
   "cell_type": "code",
   "execution_count": 16,
   "metadata": {},
   "outputs": [],
   "source": [
    "dataset = {\n",
    "    'IP address': ip_address,\n",
    "    'timestamp': timestamp,\n",
    "    'request method': requests,\n",
    "    'URL': urls,\n",
    "    'status code': status_code,\n",
    "    'response size (bytes)': response_size\n",
    "}\n",
    "\n",
    "new_df = pd.DataFrame(dataset)"
   ]
  },
  {
   "cell_type": "code",
   "execution_count": 17,
   "metadata": {},
   "outputs": [
    {
     "data": {
      "text/html": [
       "<div>\n",
       "<style scoped>\n",
       "    .dataframe tbody tr th:only-of-type {\n",
       "        vertical-align: middle;\n",
       "    }\n",
       "\n",
       "    .dataframe tbody tr th {\n",
       "        vertical-align: top;\n",
       "    }\n",
       "\n",
       "    .dataframe thead th {\n",
       "        text-align: right;\n",
       "    }\n",
       "</style>\n",
       "<table border=\"1\" class=\"dataframe\">\n",
       "  <thead>\n",
       "    <tr style=\"text-align: right;\">\n",
       "      <th></th>\n",
       "      <th>IP address</th>\n",
       "      <th>timestamp</th>\n",
       "      <th>request method</th>\n",
       "      <th>URL</th>\n",
       "      <th>status code</th>\n",
       "      <th>response size (bytes)</th>\n",
       "    </tr>\n",
       "  </thead>\n",
       "  <tbody>\n",
       "    <tr>\n",
       "      <th>0</th>\n",
       "      <td>74.240.191.221</td>\n",
       "      <td>2024-06-25 00:06:22+00:00</td>\n",
       "      <td>DELETE</td>\n",
       "      <td>/index.html?product_id=585&amp;user_id=218 HTTP/1.1</td>\n",
       "      <td>200</td>\n",
       "      <td>1974</td>\n",
       "    </tr>\n",
       "    <tr>\n",
       "      <th>1</th>\n",
       "      <td>15.89.35.67</td>\n",
       "      <td>2024-06-24 04:43:22+00:00</td>\n",
       "      <td>PUT</td>\n",
       "      <td>/index.html?session_id=def456&amp;session_id=mno34...</td>\n",
       "      <td>301</td>\n",
       "      <td>4349</td>\n",
       "    </tr>\n",
       "    <tr>\n",
       "      <th>2</th>\n",
       "      <td>158.20.204.46</td>\n",
       "      <td>2024-06-21 14:54:22+00:00</td>\n",
       "      <td>GET</td>\n",
       "      <td>/contact.html?session_id=def456 HTTP/1.1</td>\n",
       "      <td>200</td>\n",
       "      <td>4060</td>\n",
       "    </tr>\n",
       "    <tr>\n",
       "      <th>3</th>\n",
       "      <td>158.20.204.46</td>\n",
       "      <td>2024-06-21 14:54:22+00:00</td>\n",
       "      <td>GET</td>\n",
       "      <td>/contact.html?session_id=def456 HTTP/1.1</td>\n",
       "      <td>200</td>\n",
       "      <td>4060</td>\n",
       "    </tr>\n",
       "    <tr>\n",
       "      <th>4</th>\n",
       "      <td>238.189.173.32</td>\n",
       "      <td>2024-06-21 21:33:22+00:00</td>\n",
       "      <td>GET</td>\n",
       "      <td>/signup?session_id=abc123&amp;session_id=ghi789 HT...</td>\n",
       "      <td>500</td>\n",
       "      <td>2661</td>\n",
       "    </tr>\n",
       "  </tbody>\n",
       "</table>\n",
       "</div>"
      ],
      "text/plain": [
       "       IP address                 timestamp request method  \\\n",
       "0  74.240.191.221 2024-06-25 00:06:22+00:00         DELETE   \n",
       "1     15.89.35.67 2024-06-24 04:43:22+00:00            PUT   \n",
       "2   158.20.204.46 2024-06-21 14:54:22+00:00            GET   \n",
       "3   158.20.204.46 2024-06-21 14:54:22+00:00            GET   \n",
       "4  238.189.173.32 2024-06-21 21:33:22+00:00            GET   \n",
       "\n",
       "                                                 URL  status code  \\\n",
       "0    /index.html?product_id=585&user_id=218 HTTP/1.1          200   \n",
       "1  /index.html?session_id=def456&session_id=mno34...          301   \n",
       "2           /contact.html?session_id=def456 HTTP/1.1          200   \n",
       "3           /contact.html?session_id=def456 HTTP/1.1          200   \n",
       "4  /signup?session_id=abc123&session_id=ghi789 HT...          500   \n",
       "\n",
       "  response size (bytes)  \n",
       "0                  1974  \n",
       "1                  4349  \n",
       "2                  4060  \n",
       "3                  4060  \n",
       "4                  2661  "
      ]
     },
     "execution_count": 17,
     "metadata": {},
     "output_type": "execute_result"
    }
   ],
   "source": [
    "new_df.head()"
   ]
  },
  {
   "cell_type": "markdown",
   "metadata": {},
   "source": [
    "## cleaning null values"
   ]
  },
  {
   "cell_type": "code",
   "execution_count": 18,
   "metadata": {},
   "outputs": [
    {
     "data": {
      "text/plain": [
       "IP address               57\n",
       "timestamp                 0\n",
       "request method            0\n",
       "URL                       0\n",
       "status code               0\n",
       "response size (bytes)     0\n",
       "dtype: int64"
      ]
     },
     "execution_count": 18,
     "metadata": {},
     "output_type": "execute_result"
    }
   ],
   "source": [
    "# calculating number of null values\n",
    "new_df.isnull().sum()"
   ]
  },
  {
   "cell_type": "markdown",
   "metadata": {},
   "source": [
    "#### from code above we can clearly see there are 57 null values in IP address column!"
   ]
  },
  {
   "cell_type": "code",
   "execution_count": 19,
   "metadata": {},
   "outputs": [
    {
     "data": {
      "text/plain": [
       "IP address               0\n",
       "timestamp                0\n",
       "request method           0\n",
       "URL                      0\n",
       "status code              0\n",
       "response size (bytes)    0\n",
       "dtype: int64"
      ]
     },
     "execution_count": 19,
     "metadata": {},
     "output_type": "execute_result"
    }
   ],
   "source": [
    "# removing null values\n",
    "new_df.dropna(inplace=True)\n",
    "\n",
    "# calculating null values again!\n",
    "new_df.isnull().sum()"
   ]
  },
  {
   "cell_type": "markdown",
   "metadata": {},
   "source": [
    "## Cleaning '-' From response size (bytes) Column"
   ]
  },
  {
   "cell_type": "code",
   "execution_count": 20,
   "metadata": {},
   "outputs": [
    {
     "data": {
      "text/plain": [
       "58"
      ]
     },
     "execution_count": 20,
     "metadata": {},
     "output_type": "execute_result"
    }
   ],
   "source": [
    "index_missed_values = new_df[new_df['response size (bytes)'] == '-'].index\n",
    "len(index_missed_values)"
   ]
  },
  {
   "cell_type": "code",
   "execution_count": 21,
   "metadata": {},
   "outputs": [],
   "source": [
    "new_df.drop(index_missed_values, inplace=True)"
   ]
  },
  {
   "cell_type": "code",
   "execution_count": 22,
   "metadata": {},
   "outputs": [
    {
     "data": {
      "text/html": [
       "<div>\n",
       "<style scoped>\n",
       "    .dataframe tbody tr th:only-of-type {\n",
       "        vertical-align: middle;\n",
       "    }\n",
       "\n",
       "    .dataframe tbody tr th {\n",
       "        vertical-align: top;\n",
       "    }\n",
       "\n",
       "    .dataframe thead th {\n",
       "        text-align: right;\n",
       "    }\n",
       "</style>\n",
       "<table border=\"1\" class=\"dataframe\">\n",
       "  <thead>\n",
       "    <tr style=\"text-align: right;\">\n",
       "      <th></th>\n",
       "      <th>IP address</th>\n",
       "      <th>timestamp</th>\n",
       "      <th>request method</th>\n",
       "      <th>URL</th>\n",
       "      <th>status code</th>\n",
       "      <th>response size (bytes)</th>\n",
       "    </tr>\n",
       "  </thead>\n",
       "  <tbody>\n",
       "    <tr>\n",
       "      <th>1124</th>\n",
       "      <td>147.77.212.177</td>\n",
       "      <td>2024-06-23 20:12:22+00:00</td>\n",
       "      <td>POST</td>\n",
       "      <td>/login?product_id=15&amp;product_id=900 HTTP/1.1</td>\n",
       "      <td>500</td>\n",
       "      <td>4049</td>\n",
       "    </tr>\n",
       "    <tr>\n",
       "      <th>1125</th>\n",
       "      <td>13.224.24.185</td>\n",
       "      <td>2024-06-25 22:48:22+00:00</td>\n",
       "      <td>DELETE</td>\n",
       "      <td>/services.html?product_id=6&amp;session_id=abc123 ...</td>\n",
       "      <td>301</td>\n",
       "      <td>1500</td>\n",
       "    </tr>\n",
       "    <tr>\n",
       "      <th>1126</th>\n",
       "      <td>35.239.32.150</td>\n",
       "      <td>2024-06-20 08:28:22+00:00</td>\n",
       "      <td>POST</td>\n",
       "      <td>/index.html?product_id=170 HTTP/1.1</td>\n",
       "      <td>200</td>\n",
       "      <td>4292</td>\n",
       "    </tr>\n",
       "    <tr>\n",
       "      <th>1127</th>\n",
       "      <td>151.80.55.55</td>\n",
       "      <td>2024-06-19 20:48:22+00:00</td>\n",
       "      <td>DELETE</td>\n",
       "      <td>/index.html?user_id=834 HTTP/1.1</td>\n",
       "      <td>301</td>\n",
       "      <td>3508</td>\n",
       "    </tr>\n",
       "    <tr>\n",
       "      <th>1128</th>\n",
       "      <td>255.181.37.177</td>\n",
       "      <td>2024-06-24 07:04:22+00:00</td>\n",
       "      <td>GET</td>\n",
       "      <td>/products.html?product_id=267&amp;category=home HT...</td>\n",
       "      <td>404</td>\n",
       "      <td>1500</td>\n",
       "    </tr>\n",
       "  </tbody>\n",
       "</table>\n",
       "</div>"
      ],
      "text/plain": [
       "          IP address                 timestamp request method  \\\n",
       "1124  147.77.212.177 2024-06-23 20:12:22+00:00           POST   \n",
       "1125   13.224.24.185 2024-06-25 22:48:22+00:00         DELETE   \n",
       "1126   35.239.32.150 2024-06-20 08:28:22+00:00           POST   \n",
       "1127    151.80.55.55 2024-06-19 20:48:22+00:00         DELETE   \n",
       "1128  255.181.37.177 2024-06-24 07:04:22+00:00            GET   \n",
       "\n",
       "                                                    URL  status code  \\\n",
       "1124       /login?product_id=15&product_id=900 HTTP/1.1          500   \n",
       "1125  /services.html?product_id=6&session_id=abc123 ...          301   \n",
       "1126                /index.html?product_id=170 HTTP/1.1          200   \n",
       "1127                   /index.html?user_id=834 HTTP/1.1          301   \n",
       "1128  /products.html?product_id=267&category=home HT...          404   \n",
       "\n",
       "     response size (bytes)  \n",
       "1124                  4049  \n",
       "1125                  1500  \n",
       "1126                  4292  \n",
       "1127                  3508  \n",
       "1128                  1500  "
      ]
     },
     "execution_count": 22,
     "metadata": {},
     "output_type": "execute_result"
    }
   ],
   "source": [
    "new_df.tail()"
   ]
  },
  {
   "cell_type": "markdown",
   "metadata": {},
   "source": [
    "<hr>"
   ]
  },
  {
   "cell_type": "markdown",
   "metadata": {},
   "source": [
    "## DataBase"
   ]
  },
  {
   "cell_type": "code",
   "execution_count": null,
   "metadata": {},
   "outputs": [],
   "source": []
  },
  {
   "cell_type": "code",
   "execution_count": 23,
   "metadata": {},
   "outputs": [
    {
     "name": "stdout",
     "output_type": "stream",
     "text": [
      "Connected to Database!\n"
     ]
    }
   ],
   "source": [
    "try:\n",
    "    my_database = mysql.connector.connect(\n",
    "        host = 'localhost',\n",
    "        user = 'root',\n",
    "        password = '1234')\n",
    "    cursor = my_database.cursor()\n",
    "    print('Connected to Database!')\n",
    "except Exception as e:\n",
    "    print(e)"
   ]
  },
  {
   "cell_type": "code",
   "execution_count": 24,
   "metadata": {},
   "outputs": [
    {
     "name": "stdout",
     "output_type": "stream",
     "text": [
      "Database created!\n"
     ]
    }
   ],
   "source": [
    "# creating a new database\n",
    "db_name = 'test'\n",
    "try:\n",
    "    sql = f'CREATE DATABASE {db_name}'\n",
    "    cursor.execute(sql)\n",
    "    print(\"Database created!\")\n",
    "    # print(f'Database {db_name} is ready to use!')\n",
    "except:\n",
    "    print(\"Database already created!\")\n",
    "cursor.execute('USE test;')"
   ]
  },
  {
   "cell_type": "code",
   "execution_count": 25,
   "metadata": {},
   "outputs": [],
   "source": [
    "my_database.database = db_name"
   ]
  },
  {
   "cell_type": "code",
   "execution_count": 26,
   "metadata": {},
   "outputs": [
    {
     "data": {
      "text/plain": [
       "[('information_schema',),\n",
       " ('mysql',),\n",
       " ('performance_schema',),\n",
       " ('sakila',),\n",
       " ('sys',),\n",
       " ('test',),\n",
       " ('world',)]"
      ]
     },
     "execution_count": 26,
     "metadata": {},
     "output_type": "execute_result"
    }
   ],
   "source": [
    "cursor.execute(\"SHOW DATABASES;\")\n",
    "cursor.fetchall()"
   ]
  },
  {
   "cell_type": "code",
   "execution_count": 27,
   "metadata": {},
   "outputs": [
    {
     "name": "stdout",
     "output_type": "stream",
     "text": [
      "Table Ngnix created!\n"
     ]
    }
   ],
   "source": [
    "try:\n",
    "    sql = \"\"\"\n",
    "            CREATE TABLE IF NOT EXISTS Ngnix(\n",
    "                id INT AUTO_INCREMENT,\n",
    "                IP_address VARCHAR(255),\n",
    "                timestamp TIMESTAMP,\n",
    "                request_method VARCHAR(255),\n",
    "                url VARCHAR(255),\n",
    "                status_code INT NOT NULL,\n",
    "                response_size INT NOT NULL,\n",
    "                PRIMARY KEY (id)\n",
    "            );\n",
    "    \"\"\"\n",
    "    cursor.execute(sql)\n",
    "    print('Table Ngnix created!')\n",
    "except Exception as e:\n",
    "    print('Table already created!')\n",
    "    print(e)"
   ]
  },
  {
   "cell_type": "code",
   "execution_count": 28,
   "metadata": {},
   "outputs": [
    {
     "data": {
      "text/plain": [
       "[('ngnix',)]"
      ]
     },
     "execution_count": 28,
     "metadata": {},
     "output_type": "execute_result"
    }
   ],
   "source": [
    "cursor.execute('SHOW TABLES;')\n",
    "cursor.fetchall()"
   ]
  },
  {
   "cell_type": "markdown",
   "metadata": {},
   "source": [
    "### Inserting Data"
   ]
  },
  {
   "cell_type": "code",
   "execution_count": 29,
   "metadata": {},
   "outputs": [
    {
     "data": {
      "text/plain": [
       "Index(['IP address', 'timestamp', 'request method', 'URL', 'status code',\n",
       "       'response size (bytes)'],\n",
       "      dtype='object')"
      ]
     },
     "execution_count": 29,
     "metadata": {},
     "output_type": "execute_result"
    }
   ],
   "source": [
    "new_df.columns"
   ]
  },
  {
   "cell_type": "code",
   "execution_count": 30,
   "metadata": {},
   "outputs": [
    {
     "name": "stderr",
     "output_type": "stream",
     "text": [
      "  2%|▏         | 19/1014 [00:00<00:05, 186.40it/s]"
     ]
    },
    {
     "name": "stderr",
     "output_type": "stream",
     "text": [
      "100%|██████████| 1014/1014 [00:04<00:00, 209.53it/s]\n"
     ]
    }
   ],
   "source": [
    "for n in tqdm(range(len(new_df))):\n",
    "    try:\n",
    "        data = new_df.iloc[n, :]\n",
    "        sql =  '''\n",
    "            INSERT INTO Ngnix (IP_address, timestamp, request_method, url, status_code, response_size)\n",
    "            VALUES (%s, %s, %s, %s, %s, %s);\n",
    "        '''\n",
    "        val = (data['IP address'], data['timestamp'], data['request method'], data['URL'], int(data['status code']), data['response size (bytes)'])\n",
    "        cursor.execute(sql, val)\n",
    "        my_database.commit()\n",
    "        # print('data added!')\n",
    "    except Exception as e:\n",
    "        print()\n",
    "        print(data)\n",
    "        print()\n",
    "        print(e)"
   ]
  },
  {
   "cell_type": "code",
   "execution_count": 31,
   "metadata": {},
   "outputs": [
    {
     "name": "stdout",
     "output_type": "stream",
     "text": [
      "length of data stored in dataframe   : 1014\n",
      "length of data stored in SQL database: 1014\n"
     ]
    }
   ],
   "source": [
    "# show added data\n",
    "sql = '''SELECT * FROM Ngnix;'''\n",
    "cursor.execute(sql)\n",
    "all_data = cursor.fetchall()\n",
    "\n",
    "print(f'length of data stored in dataframe   : {len(new_df)}')\n",
    "print(f'length of data stored in SQL database: {len(all_data)}')"
   ]
  },
  {
   "cell_type": "code",
   "execution_count": 32,
   "metadata": {},
   "outputs": [
    {
     "data": {
      "text/plain": [
       "(2,\n",
       " '15.89.35.67',\n",
       " datetime.datetime(2024, 6, 24, 4, 43, 22),\n",
       " 'PUT',\n",
       " '/index.html?session_id=def456&session_id=mno345&user_id=709 HTTP/1.1',\n",
       " 301,\n",
       " 4349)"
      ]
     },
     "execution_count": 32,
     "metadata": {},
     "output_type": "execute_result"
    }
   ],
   "source": [
    "all_data[1]"
   ]
  },
  {
   "cell_type": "code",
   "execution_count": 33,
   "metadata": {},
   "outputs": [
    {
     "name": "stdout",
     "output_type": "stream",
     "text": [
      "urls max len: 77\n",
      "request methods max len: 6\n"
     ]
    }
   ],
   "source": [
    "# finding maximum length of input\n",
    "def find_max(data):\n",
    "    mx = 0\n",
    "    for d in data:\n",
    "        if len(d) > mx:\n",
    "            mx = len(d)\n",
    "    return mx\n",
    "\n",
    "print(f'urls max len: {find_max(urls)}')\n",
    "print(f'request methods max len: {find_max(requests)}')"
   ]
  },
  {
   "cell_type": "markdown",
   "metadata": {},
   "source": [
    "<!DOCTYPE html>\n",
    "<html>\n",
    "    <body>\n",
    "\n",
    "<h1>Stored Data in MySQL | database name is test</h1>\n",
    "\n",
    "<img src=\"sql_img.png\" alt=\"Girl in a jacket\" width=\"1610\" height=\"690\">\n",
    "\n",
    "</body>\n",
    "</html>"
   ]
  },
  {
   "cell_type": "markdown",
   "metadata": {},
   "source": [
    "<hr>"
   ]
  },
  {
   "cell_type": "markdown",
   "metadata": {},
   "source": [
    "## Data Visualization | Data Is Loaded From the Database"
   ]
  },
  {
   "cell_type": "markdown",
   "metadata": {},
   "source": [
    "#### different types of request methods in PI and BAR graph"
   ]
  },
  {
   "cell_type": "code",
   "execution_count": 34,
   "metadata": {},
   "outputs": [
    {
     "data": {
      "text/plain": [
       "[('DELETE',), ('PUT',)]"
      ]
     },
     "execution_count": 34,
     "metadata": {},
     "output_type": "execute_result"
    }
   ],
   "source": [
    "sql = \"SELECT request_method FROM Ngnix;\"\n",
    "cursor.execute(sql)\n",
    "sql_reqest_methods = cursor.fetchall()\n",
    "sql_reqest_methods[:2]"
   ]
  },
  {
   "cell_type": "code",
   "execution_count": 35,
   "metadata": {},
   "outputs": [],
   "source": [
    "def sql_executer_with_condition(sql_command, condition=None):\n",
    "    try:\n",
    "        cursor.execute(sql_command, condition)\n",
    "        result = cursor.fetchall()\n",
    "        if len(result) != 0:\n",
    "            return result\n",
    "    except Exception as e:\n",
    "        print(e)"
   ]
  },
  {
   "cell_type": "code",
   "execution_count": 36,
   "metadata": {},
   "outputs": [],
   "source": [
    "# working only with non duplicated values\n",
    "sql_reqest_methods = list(set(sql_reqest_methods))"
   ]
  },
  {
   "cell_type": "code",
   "execution_count": 37,
   "metadata": {},
   "outputs": [
    {
     "data": {
      "text/plain": [
       "['DELETE', 'POST', 'PUT', 'GET']"
      ]
     },
     "execution_count": 37,
     "metadata": {},
     "output_type": "execute_result"
    }
   ],
   "source": [
    "rq_methods = []\n",
    "for da in sql_reqest_methods:\n",
    "    rq_methods.append(da[0])\n",
    "rq_methods"
   ]
  },
  {
   "cell_type": "code",
   "execution_count": 38,
   "metadata": {},
   "outputs": [
    {
     "data": {
      "text/plain": [
       "[268, 228, 246, 272]"
      ]
     },
     "execution_count": 38,
     "metadata": {},
     "output_type": "execute_result"
    }
   ],
   "source": [
    "sql_delete = sql_executer_with_condition('SELECT COUNT(*) FROM Ngnix WHERE request_method = %s', ['DELETE'])\n",
    "sql_post = sql_executer_with_condition('SELECT COUNT(*) FROM Ngnix WHERE request_method = %s', ['POST'])\n",
    "sql_get = sql_executer_with_condition('SELECT COUNT(*) FROM Ngnix WHERE request_method = %s', ['GET'])\n",
    "sql_put = sql_executer_with_condition('SELECT COUNT(*) FROM Ngnix WHERE request_method = %s', ['PUT'])\n",
    "num_rq_method = [sql_delete[0][0], sql_post[0][0], sql_get[0][0], sql_put[0][0]]\n",
    "num_rq_method"
   ]
  },
  {
   "cell_type": "code",
   "execution_count": 39,
   "metadata": {},
   "outputs": [
    {
     "data": {
      "image/png": "[encoded data removed]",
      "text/plain": [
       "<Figure size 1500x700 with 2 Axes>"
      ]
     },
     "metadata": {},
     "output_type": "display_data"
    }
   ],
   "source": [
    "fig = plt.figure(figsize=(15, 7))\n",
    "\n",
    "plt.subplot(1, 2, 1)\n",
    "plt.title('All Types of Request Methods | PIE Diagram')\n",
    "plt.pie(num_rq_method, labels=rq_methods)\n",
    "\n",
    "plt.subplot(1, 2, 2)\n",
    "plt.bar(rq_methods, num_rq_method, width=0.5)\n",
    "plt.ylabel('Number of Requests')\n",
    "plt.xlabel('Types of Requests')\n",
    "plt.title('All Types of Request Methods | BAr Diagram')\n",
    " \n",
    "# show plot\n",
    "plt.show()"
   ]
  },
  {
   "cell_type": "markdown",
   "metadata": {},
   "source": [
    "#### Visualizing timestamp and response size"
   ]
  },
  {
   "cell_type": "code",
   "execution_count": 40,
   "metadata": {},
   "outputs": [
    {
     "data": {
      "text/plain": [
       "[datetime.datetime(2024, 6, 25, 0, 6, 22),\n",
       " datetime.datetime(2024, 6, 24, 4, 43, 22),\n",
       " datetime.datetime(2024, 6, 21, 14, 54, 22)]"
      ]
     },
     "execution_count": 40,
     "metadata": {},
     "output_type": "execute_result"
    }
   ],
   "source": [
    "# working on timestamp\n",
    "sql_timestamp = sql_executer_with_condition('SELECT timestamp FROM Ngnix;')\n",
    "\n",
    "std_timestamp = []\n",
    "\n",
    "for i in range(len(sql_timestamp)): \n",
    "    std_timestamp.append(sql_timestamp[i][0])\n",
    "\n",
    "std_timestamp[:3]"
   ]
  },
  {
   "cell_type": "code",
   "execution_count": 41,
   "metadata": {},
   "outputs": [],
   "source": [
    "# working on response size\n",
    "sql_response = sql_executer_with_condition('SELECT response_size FROM Ngnix;')"
   ]
  },
  {
   "cell_type": "code",
   "execution_count": 42,
   "metadata": {},
   "outputs": [
    {
     "data": {
      "text/plain": [
       "[1974, 4349, 4060]"
      ]
     },
     "execution_count": 42,
     "metadata": {},
     "output_type": "execute_result"
    }
   ],
   "source": [
    "std_response = []\n",
    "for j in range(len(sql_response)):\n",
    "    std_response.append(sql_response[j][0])\n",
    "std_response[:3]"
   ]
  },
  {
   "cell_type": "code",
   "execution_count": 43,
   "metadata": {},
   "outputs": [
    {
     "data": {
      "text/plain": [
       "[Timestamp('2024-06-25 00:06:22'),\n",
       " Timestamp('2024-06-24 04:43:22'),\n",
       " Timestamp('2024-06-21 14:54:22'),\n",
       " Timestamp('2024-06-21 14:54:22')]"
      ]
     },
     "execution_count": 43,
     "metadata": {},
     "output_type": "execute_result"
    }
   ],
   "source": [
    "zz = []\n",
    "for k in range(len(std_timestamp)):\n",
    "    sss = pd.to_datetime(std_timestamp[k])\n",
    "    zz.append(sss)\n",
    "zz[:4]"
   ]
  },
  {
   "cell_type": "code",
   "execution_count": 44,
   "metadata": {},
   "outputs": [
    {
     "data": {
      "text/plain": [
       "(1014, 1014)"
      ]
     },
     "execution_count": 44,
     "metadata": {},
     "output_type": "execute_result"
    }
   ],
   "source": [
    "len(zz), len(std_response)"
   ]
  },
  {
   "cell_type": "code",
   "execution_count": 45,
   "metadata": {},
   "outputs": [
    {
     "data": {
      "text/plain": [
       "[Timestamp('2024-06-21 21:33:22'),\n",
       " Timestamp('2024-06-23 14:28:22'),\n",
       " Timestamp('2024-06-25 03:47:22'),\n",
       " Timestamp('2024-06-26 16:59:22'),\n",
       " Timestamp('2024-06-25 02:02:22'),\n",
       " Timestamp('2024-06-24 04:25:22'),\n",
       " Timestamp('2024-06-20 12:39:22')]"
      ]
     },
     "execution_count": 45,
     "metadata": {},
     "output_type": "execute_result"
    }
   ],
   "source": [
    "zz = list(set(zz))\n",
    "std_response = list(set(std_response))\n",
    "zz[:7]"
   ]
  },
  {
   "cell_type": "code",
   "execution_count": 46,
   "metadata": {},
   "outputs": [],
   "source": [
    "# plt.scatter(std_response)"
   ]
  },
  {
   "cell_type": "code",
   "execution_count": 47,
   "metadata": {},
   "outputs": [],
   "source": [
    "# plt.stem(zz, std_response)"
   ]
  },
  {
   "cell_type": "code",
   "execution_count": 48,
   "metadata": {},
   "outputs": [],
   "source": [
    "# sql = f'DROP DATABASE {db_name}'\n",
    "# cursor.execute(sql)"
   ]
  },
  {
   "cell_type": "code",
   "execution_count": 52,
   "metadata": {},
   "outputs": [
    {
     "name": "stderr",
     "output_type": "stream",
     "text": [
      "C:\\Users\\Smart\\AppData\\Local\\Temp\\ipykernel_9232\\1102851531.py:1: UserWarning: pandas only supports SQLAlchemy connectable (engine/connection) or database string URI or sqlite3 DBAPI2 connection. Other DBAPI2 objects are not tested. Please consider using SQLAlchemy.\n",
      "  sql_2_df = pd.read_sql_query('select * from ngnix;', my_database)\n"
     ]
    }
   ],
   "source": []
  },
  {
   "cell_type": "markdown",
   "metadata": {},
   "source": [
    "## MySQL to CSV and EXCEL Files"
   ]
  },
  {
   "cell_type": "code",
   "execution_count": 50,
   "metadata": {},
   "outputs": [],
   "source": [
    "sql_2_df = pd.read_sql_query('select * from ngnix;', my_database)\n",
    "sql_2_df.to_csv('sql_database.csv', index=False)\n",
    "sql_2_df.to_excel('sql_database.xlsx', index=False)"
   ]
  },
  {
   "cell_type": "code",
   "execution_count": 54,
   "metadata": {},
   "outputs": [],
   "source": []
  },
  {
   "cell_type": "code",
   "execution_count": null,
   "metadata": {},
   "outputs": [],
   "source": []
  }
 ],
 "metadata": {
  "kernelspec": {
   "display_name": "Python 3",
   "language": "python",
   "name": "python3"
  },
  "language_info": {
   "codemirror_mode": {
    "name": "ipython",
    "version": 3
   },
   "file_extension": ".py",
   "mimetype": "text/x-python",
   "name": "python",
   "nbconvert_exporter": "python",
   "pygments_lexer": "ipython3",
   "version": "3.12.1"
  }
 },
 "nbformat": 4,
 "nbformat_minor": 2
}
